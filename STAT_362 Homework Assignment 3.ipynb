{
 "cells": [
  {
   "cell_type": "markdown",
   "id": "b13a258e",
   "metadata": {},
   "source": [
    "# Homework Assignment 3 - Unsupervised Learning\n",
    "### **Due:** Thursday, May 18, 11:59pm\n",
    "### Total: 100 points"
   ]
  },
  {
   "cell_type": "markdown",
   "id": "58d93bb1",
   "metadata": {},
   "source": [
    "## Import all the libraries and tools you need below."
   ]
  },
  {
   "cell_type": "code",
   "execution_count": 1,
   "id": "bc2705dd",
   "metadata": {},
   "outputs": [],
   "source": [
    "import os\n",
    "os.environ['KMP_DUPLICATE_LIB_OK']='True'\n",
    "\n",
    "import tensorflow as tf\n",
    "tf.config.run_functions_eagerly(True)\n",
    "\n",
    "import os\n",
    "\n",
    "os.getcwd()\n",
    "os.chdir(\"C:\\Data\")\n",
    "os.getcwd()\n",
    "\n",
    "import pandas as pd\n",
    "import numpy as np \n",
    "from numpy import log,dot,e,shape\n",
    "from numpy import log,dot,e,shape\n",
    "from numpy.linalg import norm\n",
    "import matplotlib.pyplot as plt\n",
    "import seaborn as sns\n",
    "\n",
    "from scipy.spatial.distance import cdist\n",
    "from scipy.stats import multivariate_normal\n",
    "from scipy.special import softmax\n",
    "\n",
    "from sklearn.svm import SVC\n",
    "from sklearn.svm import LinearSVC\n",
    "from sklearn.decomposition import TruncatedSVD\n",
    "from sklearn.model_selection import train_test_split\n",
    "from sklearn.preprocessing import StandardScaler\n",
    "from sklearn.neighbors import KNeighborsRegressor\n",
    "from sklearn.metrics import mean_absolute_error, mean_squared_error\n",
    "from sklearn.metrics import make_scorer, accuracy_score, confusion_matrix\n",
    "from sklearn.metrics import confusion_matrix, multilabel_confusion_matrix\n",
    "from sklearn.metrics import classification_report, precision_score, recall_score\n",
    "from sklearn.metrics import silhouette_score\n",
    "\n",
    "from sklearn.model_selection import KFold, RepeatedStratifiedKFold\n",
    "from sklearn.model_selection import cross_val_predict\n",
    "from sklearn.model_selection import cross_val_score, GridSearchCV\n",
    "from sklearn.model_selection import RandomizedSearchCV\n",
    "from sklearn.model_selection import StratifiedKFold\n",
    "from sklearn.model_selection import check_cv\n",
    "from sklearn.linear_model import LogisticRegression\n",
    "\n",
    "from sklearn.ensemble import RandomForestRegressor\n",
    "from sklearn.preprocessing import OneHotEncoder\n",
    "from sklearn.preprocessing import Normalizer\n",
    "from sklearn.datasets import make_blobs\n",
    "from sklearn.mixture import GaussianMixture\n",
    "from sklearn.preprocessing import StandardScaler\n",
    "from sklearn.pipeline import Pipeline,make_pipeline\n",
    "from sklearn.cluster import KMeans, DBSCAN\n",
    "from sklearn.decomposition import PCA\n",
    "from sklearn.metrics import pairwise_distances_argmin\n",
    "from sklearn.datasets import make_blobs, make_circles\n",
    "\n",
    "def pr_auc(y_true, probas_pred):\n",
    " # calculate precision-recall curve\n",
    " p, r, _ = precision_recall_curve(y_true, probas_pred)\n",
    " # calculate area under curve\n",
    " return auc(r, p)\n",
    "\n",
    "import matplotlib.pyplot as plt\n",
    "import tensorflow as tf\n",
    "from tensorflow import keras\n",
    "from tensorflow.keras import layers\n",
    "from keras.models import Sequential\n",
    "from keras.layers import Dense\n",
    "from keras.utils.np_utils import to_categorical\n",
    "from keras.models import Sequential\n",
    "from keras.layers import Dense, Dropout, Flatten, Conv2D, MaxPool2D, BatchNormalization\n",
    "from keras.optimizers import Adam\n",
    "from keras.preprocessing.image import ImageDataGenerator\n",
    "from keras.callbacks import LearningRateScheduler\n",
    "from keras import losses \n",
    "from keras import optimizers \n",
    "from keras import metrics"
   ]
  },
  {
   "cell_type": "markdown",
   "id": "32e453ff",
   "metadata": {},
   "source": [
    "## **1)** Gaussian Mixture Model (35 points)"
   ]
  },
  {
   "cell_type": "markdown",
   "id": "3c95b35e",
   "metadata": {},
   "source": [
    "In this question, you will explore a Gaussian Mixture Model (GMM) for an unsupervised dataset.\n",
    "\n",
    "**a)** Upload the **oldfaithful.csv** file. Each instance in this dataset is an eruption of the Old Faithful geyser in Yellowstone National Park. The **eruptions** column records how long the eruption took and the **waiting** column records how long it took until the next eruption, both in minutes.\n",
    "\n",
    "Create a scatter plot and state how many clusters would make sense for this data. Note that you have the visualization advantage for this question; you will not have it in the upcoming questions. \n",
    "\n",
    "**(3 points)**"
   ]
  },
  {
   "cell_type": "code",
   "execution_count": 2,
   "id": "35595d0e",
   "metadata": {},
   "outputs": [
    {
     "data": {
      "text/html": [
       "<div>\n",
       "<style scoped>\n",
       "    .dataframe tbody tr th:only-of-type {\n",
       "        vertical-align: middle;\n",
       "    }\n",
       "\n",
       "    .dataframe tbody tr th {\n",
       "        vertical-align: top;\n",
       "    }\n",
       "\n",
       "    .dataframe thead th {\n",
       "        text-align: right;\n",
       "    }\n",
       "</style>\n",
       "<table border=\"1\" class=\"dataframe\">\n",
       "  <thead>\n",
       "    <tr style=\"text-align: right;\">\n",
       "      <th></th>\n",
       "      <th>eruptions</th>\n",
       "      <th>waiting</th>\n",
       "    </tr>\n",
       "  </thead>\n",
       "  <tbody>\n",
       "    <tr>\n",
       "      <th>0</th>\n",
       "      <td>3.600</td>\n",
       "      <td>79</td>\n",
       "    </tr>\n",
       "    <tr>\n",
       "      <th>1</th>\n",
       "      <td>1.800</td>\n",
       "      <td>54</td>\n",
       "    </tr>\n",
       "    <tr>\n",
       "      <th>2</th>\n",
       "      <td>3.333</td>\n",
       "      <td>74</td>\n",
       "    </tr>\n",
       "    <tr>\n",
       "      <th>3</th>\n",
       "      <td>2.283</td>\n",
       "      <td>62</td>\n",
       "    </tr>\n",
       "    <tr>\n",
       "      <th>4</th>\n",
       "      <td>4.533</td>\n",
       "      <td>85</td>\n",
       "    </tr>\n",
       "    <tr>\n",
       "      <th>...</th>\n",
       "      <td>...</td>\n",
       "      <td>...</td>\n",
       "    </tr>\n",
       "    <tr>\n",
       "      <th>267</th>\n",
       "      <td>4.117</td>\n",
       "      <td>81</td>\n",
       "    </tr>\n",
       "    <tr>\n",
       "      <th>268</th>\n",
       "      <td>2.150</td>\n",
       "      <td>46</td>\n",
       "    </tr>\n",
       "    <tr>\n",
       "      <th>269</th>\n",
       "      <td>4.417</td>\n",
       "      <td>90</td>\n",
       "    </tr>\n",
       "    <tr>\n",
       "      <th>270</th>\n",
       "      <td>1.817</td>\n",
       "      <td>46</td>\n",
       "    </tr>\n",
       "    <tr>\n",
       "      <th>271</th>\n",
       "      <td>4.467</td>\n",
       "      <td>74</td>\n",
       "    </tr>\n",
       "  </tbody>\n",
       "</table>\n",
       "<p>272 rows × 2 columns</p>\n",
       "</div>"
      ],
      "text/plain": [
       "     eruptions  waiting\n",
       "0        3.600       79\n",
       "1        1.800       54\n",
       "2        3.333       74\n",
       "3        2.283       62\n",
       "4        4.533       85\n",
       "..         ...      ...\n",
       "267      4.117       81\n",
       "268      2.150       46\n",
       "269      4.417       90\n",
       "270      1.817       46\n",
       "271      4.467       74\n",
       "\n",
       "[272 rows x 2 columns]"
      ]
     },
     "execution_count": 2,
     "metadata": {},
     "output_type": "execute_result"
    }
   ],
   "source": [
    "data = pd.read_csv('oldfaithful.csv')\n",
    "data"
   ]
  },
  {
   "cell_type": "code",
   "execution_count": 3,
   "id": "82fc3260",
   "metadata": {},
   "outputs": [],
   "source": [
    "eruptions = data['eruptions']\n",
    "waiting = data['waiting']"
   ]
  },
  {
   "cell_type": "code",
   "execution_count": 4,
   "id": "a2a815d0",
   "metadata": {},
   "outputs": [
    {
     "data": {
      "text/plain": [
       "<AxesSubplot:ylabel='waiting'>"
      ]
     },
     "execution_count": 4,
     "metadata": {},
     "output_type": "execute_result"
    },
    {
     "data": {
      "image/png": "[encoded data removed]",
      "text/plain": [
       "<Figure size 432x288 with 1 Axes>"
      ]
     },
     "metadata": {
      "needs_background": "light"
     },
     "output_type": "display_data"
    }
   ],
   "source": [
    "sns.scatterplot(data=data, x=data.index, y= 'waiting')"
   ]
  },
  {
   "cell_type": "code",
   "execution_count": 5,
   "id": "092081fb",
   "metadata": {},
   "outputs": [
    {
     "data": {
      "text/plain": [
       "<AxesSubplot:ylabel='eruptions'>"
      ]
     },
     "execution_count": 5,
     "metadata": {},
     "output_type": "execute_result"
    },
    {
     "data": {
      "image/png": "[encoded data removed]",
      "text/plain": [
       "<Figure size 432x288 with 1 Axes>"
      ]
     },
     "metadata": {
      "needs_background": "light"
     },
     "output_type": "display_data"
    }
   ],
   "source": [
    "sns.scatterplot(data=data, x=data.index, y='eruptions')"
   ]
  },
  {
   "cell_type": "markdown",
   "id": "3e61b8c9",
   "metadata": {},
   "source": [
    "1a. seems to have 2 clusters."
   ]
  },
  {
   "cell_type": "markdown",
   "id": "3a2b1fd8",
   "metadata": {},
   "source": [
    "**b)** Cluster the data using K-Means and GMM models. Reproduce the plot above with color-coded clusters. Which model returns better results? Briefly explain why.\n",
    "\n",
    "**Note:** Use a full covariance matrix for the GMM model.\n",
    "\n",
    "**(5 points)**"
   ]
  },
  {
   "cell_type": "code",
   "execution_count": 6,
   "id": "c387b184",
   "metadata": {},
   "outputs": [],
   "source": [
    "cov_eruptions = np.cov(data.index, eruptions)\n",
    "cov_waiting = np.cov(data.index, waiting)\n",
    "\n",
    "features = data[['eruptions','waiting']].values"
   ]
  },
  {
   "cell_type": "code",
   "execution_count": 7,
   "id": "760805ae",
   "metadata": {},
   "outputs": [
    {
     "data": {
      "image/png": "[encoded data removed]",
      "text/plain": [
       "<Figure size 432x288 with 1 Axes>"
      ]
     },
     "metadata": {
      "needs_background": "light"
     },
     "output_type": "display_data"
    }
   ],
   "source": [
    "np.random.seed(0)\n",
    "model_GMM = GaussianMixture(n_components=2, covariance_type = 'full', random_state=0) \n",
    "model_GMM.fit(features)\n",
    "GMM_labels = model_GMM.predict(features)\n",
    "\n",
    "plt.scatter(features[:, 0], features[:, 1], c=GMM_labels, cmap='viridis')\n",
    "plt.title('GMM Clustering')\n",
    "plt.show()"
   ]
  },
  {
   "cell_type": "code",
   "execution_count": 8,
   "id": "e3c8f373",
   "metadata": {},
   "outputs": [
    {
     "data": {
      "image/png": "[encoded data removed]",
      "text/plain": [
       "<Figure size 432x288 with 1 Axes>"
      ]
     },
     "metadata": {
      "needs_background": "light"
     },
     "output_type": "display_data"
    }
   ],
   "source": [
    "np.random.seed(0)\n",
    "model = KMeans(n_clusters=2, max_iter=10000, n_init=100, random_state=0) \n",
    "#fits the model to the raw data and predicts the cluster given to the raw data\n",
    "model.fit(features)\n",
    "model_labels = model.labels_\n",
    "\n",
    "plt.scatter(features[:, 0], features[:, 1], c=model_labels, cmap='viridis')\n",
    "plt.title('Kmeans Clustering')\n",
    "plt.show()"
   ]
  },
  {
   "cell_type": "markdown",
   "id": "6b41791b",
   "metadata": {},
   "source": [
    "The model with better results seems to be the GMM model, becuase the Kmeans model has a few outliers that look to be within the \"range\" of GMM like the poiunt near 2.5:70. This is because In trying to create a more strict division between the clusters, the Kmeans model fails to see softer boundaries like the set of 4 points it misclassified between 3.4-4.0 and below 70."
   ]
  },
  {
   "cell_type": "markdown",
   "id": "c26e2753",
   "metadata": {},
   "source": [
    "**c)** Using the GMM model, return the probability for a 2-minute eruption and 54-minute waiting time for the next eruption.\n",
    "\n",
    "**Note:** .predict_proba is not the answer to this question because it returns the normalized probabilities of the instance belonging to each cluster. What you need is the **multivariate_normal.pdf** function from **scipy**. You need **some attributes of the GMM model to use as input** to this function and **some more attributes** to take the **weighted** sum. Check the GMM slides for the full formula of the probability distribution.\n",
    "\n",
    "**(7 points)**"
   ]
  },
  {
   "cell_type": "code",
   "execution_count": 9,
   "id": "67257f76",
   "metadata": {},
   "outputs": [
    {
     "name": "stdout",
     "output_type": "stream",
     "text": [
      "Probability for next eruption 7.763535049527556e-10\n"
     ]
    }
   ],
   "source": [
    "#use cluster 1\n",
    "mean_vector = model_GMM.means_[0]\n",
    "covariance_matrix = model_GMM.covariances_[0]\n",
    "\n",
    "values = [2.0, 54]\n",
    "probability = multivariate_normal.pdf(values,\n",
    "                                     mean_vector,\n",
    "                                     covariance_matrix)\n",
    "print(\"Probability for next eruption\", probability)"
   ]
  },
  {
   "cell_type": "markdown",
   "id": "0587c4cd",
   "metadata": {},
   "source": [
    "**d)** Using your answer to the previous quesion, write a user-defined function called **anomaly_detector**. It takes two inputs: gmm, a trained model **with any number of clusters** and X, the data. It should return an array of 0s and 1s (or True and False values) with the same length as the dataset.\n",
    "\n",
    "The function needs to calculate the probability of each instance in the dataset and return a 1 (True) for instances that has their probability in the bottom 5\\% percentile of the dataset and 0 (False) otherwise.\n",
    "\n",
    "Test your function with the data above and print how many anomalies there are.\n",
    "\n",
    "**Hints:**\n",
    "\n",
    "**1)** Note that you should not assume that the GMM has two clusters while writing the function. It should be able to handle a trained GMM model with any number of clusters.\n",
    "\n",
    "**2)** For percentile calculations, check **np.percentile**.\n",
    "\n",
    "**(10 points)**"
   ]
  },
  {
   "cell_type": "code",
   "execution_count": 10,
   "id": "2a7db4fe",
   "metadata": {},
   "outputs": [
    {
     "name": "stdout",
     "output_type": "stream",
     "text": [
      "272\n"
     ]
    }
   ],
   "source": [
    "np.random.seed(0)\n",
    "\n",
    "model_gmm = GaussianMixture(n_components=2)\n",
    "fitted_model_gmm = model_gmm.fit(data)\n",
    "    \n",
    "def anomaly_detector(model_gmm, X):\n",
    "    \n",
    "    log_likelihoods = model_gmm.score_samples(X)\n",
    "    \n",
    "    threshold = np.percentile(log_likelihoods, 5)\n",
    "\n",
    "    anomalies = np.where(log_likelihoods < threshold, 1, 0)\n",
    "\n",
    "    return anomalies\n",
    "\n",
    "\n",
    "anomaly_detector(fitted_model_gmm, data)\n",
    "print(len(anomaly_detector(fitted_model_gmm, data)))"
   ]
  },
  {
   "cell_type": "markdown",
   "id": "9c22771c",
   "metadata": {},
   "source": [
    "**e)** **Sample** a synthetic dataset of 100 instances from the GMM model. Scatter plot the synthetic data. (No need to color code.) How is it different than the original dataset, in terms of the distribution of the instances? Why do you think this is the case?\n",
    "\n",
    "**Note:** Careful with the format that the synthetic data GMM model returns.\n",
    "\n",
    "**(5 points)**"
   ]
  },
  {
   "cell_type": "code",
   "execution_count": 11,
   "id": "f1c32be9",
   "metadata": {},
   "outputs": [
    {
     "data": {
      "text/plain": [
       "(array([[ 4.45564477, 84.53612349],\n",
       "        [ 4.48661018, 82.63030606],\n",
       "        [ 4.44623183, 88.9391485 ],\n",
       "        [ 4.01352997, 81.85710163],\n",
       "        [ 4.13790814, 64.63978842],\n",
       "        [ 4.14275799, 85.16533943],\n",
       "        [ 4.09208866, 93.60726138],\n",
       "        [ 4.22564781, 80.24604477],\n",
       "        [ 5.09030105, 89.15473781],\n",
       "        [ 4.45819126, 80.89576906],\n",
       "        [ 3.39568416, 74.66072357],\n",
       "        [ 4.29471525, 77.87978064],\n",
       "        [ 4.94108161, 87.34184106],\n",
       "        [ 4.11377929, 77.64778283],\n",
       "        [ 3.58409559, 73.69019723],\n",
       "        [ 4.76508757, 69.70893058],\n",
       "        [ 4.04284128, 76.91493055],\n",
       "        [ 4.38927514, 72.44241467],\n",
       "        [ 3.95529208, 70.28492217],\n",
       "        [ 4.29657288, 74.59102134],\n",
       "        [ 3.75974519, 76.9154123 ],\n",
       "        [ 4.44854865, 79.79611156],\n",
       "        [ 4.41546674, 80.36575908],\n",
       "        [ 4.05196612, 76.1659018 ],\n",
       "        [ 4.04719182, 75.93696087],\n",
       "        [ 3.50437487, 75.10617801],\n",
       "        [ 4.16456217, 81.03846249],\n",
       "        [ 4.21010691, 70.18035173],\n",
       "        [ 4.16709603, 74.52334488],\n",
       "        [ 4.45341236, 84.34430147],\n",
       "        [ 3.99823206, 86.82060702],\n",
       "        [ 4.09204675, 82.39124281],\n",
       "        [ 3.93249455, 74.74871563],\n",
       "        [ 4.26225483, 78.09901232],\n",
       "        [ 4.45002942, 72.96723998],\n",
       "        [ 3.77759337, 82.77978598],\n",
       "        [ 5.24581726, 88.88323172],\n",
       "        [ 4.40633375, 87.04644659],\n",
       "        [ 4.52338409, 73.53228756],\n",
       "        [ 4.69222023, 77.53745039],\n",
       "        [ 4.69458532, 81.20987921],\n",
       "        [ 4.6149451 , 82.10142664],\n",
       "        [ 4.97184609, 80.01475315],\n",
       "        [ 4.46286687, 80.72726146],\n",
       "        [ 4.07199677, 91.28577403],\n",
       "        [ 4.45961376, 72.33432724],\n",
       "        [ 4.84608277, 72.9089874 ],\n",
       "        [ 3.94004736, 77.49441268],\n",
       "        [ 5.15581945, 91.49641198],\n",
       "        [ 4.92824905, 91.16972518],\n",
       "        [ 4.88227567, 74.78135453],\n",
       "        [ 4.55343081, 78.35295844],\n",
       "        [ 4.3794691 , 85.65655285],\n",
       "        [ 4.73757072, 83.64608906],\n",
       "        [ 3.93001777, 82.23982512],\n",
       "        [ 4.84196618, 81.7463585 ],\n",
       "        [ 4.12369939, 75.8021781 ],\n",
       "        [ 4.9260172 , 77.33927631],\n",
       "        [ 4.55059427, 84.00063304],\n",
       "        [ 2.11455446, 50.00827625],\n",
       "        [ 1.99377884, 50.56485436],\n",
       "        [ 2.1592467 , 50.78618354],\n",
       "        [ 2.02739951, 57.8279937 ],\n",
       "        [ 1.79066428, 56.78248947],\n",
       "        [ 2.03506052, 45.82078679],\n",
       "        [ 2.20922661, 55.44542185],\n",
       "        [ 2.45414779, 68.31234232],\n",
       "        [ 2.2495092 , 49.17673145],\n",
       "        [ 1.82103443, 46.84174558],\n",
       "        [ 2.46349233, 54.07807332],\n",
       "        [ 1.77201945, 50.158819  ],\n",
       "        [ 1.86177836, 53.91045481],\n",
       "        [ 1.84898464, 61.02418315],\n",
       "        [ 1.83970962, 47.81955491],\n",
       "        [ 2.48565688, 51.58217504],\n",
       "        [ 2.13008382, 59.99152566],\n",
       "        [ 2.15720885, 47.36271732],\n",
       "        [ 1.57162085, 48.67806832],\n",
       "        [ 2.20590164, 61.37604231],\n",
       "        [ 2.18623658, 59.82495027],\n",
       "        [ 1.93684204, 59.45640022],\n",
       "        [ 2.13055315, 48.47323676],\n",
       "        [ 1.80212698, 49.81784507],\n",
       "        [ 2.00663281, 51.8351662 ],\n",
       "        [ 1.66310366, 52.42921224],\n",
       "        [ 1.42731649, 50.75054502],\n",
       "        [ 1.67955264, 58.11494002],\n",
       "        [ 1.96652882, 48.06808817],\n",
       "        [ 2.36999155, 50.1812109 ],\n",
       "        [ 2.00653334, 46.9731843 ],\n",
       "        [ 1.73896819, 54.25562054],\n",
       "        [ 2.03265454, 57.51835314],\n",
       "        [ 2.30231899, 58.95786943],\n",
       "        [ 2.53646636, 67.03435868],\n",
       "        [ 1.94835391, 52.33732321],\n",
       "        [ 2.28457359, 60.86189428],\n",
       "        [ 1.67691706, 58.20149254],\n",
       "        [ 1.84855699, 54.34104644],\n",
       "        [ 2.03284322, 56.1053098 ],\n",
       "        [ 2.18505181, 59.76295195]]),\n",
       " array([0, 0, 0, 0, 0, 0, 0, 0, 0, 0, 0, 0, 0, 0, 0, 0, 0, 0, 0, 0, 0, 0,\n",
       "        0, 0, 0, 0, 0, 0, 0, 0, 0, 0, 0, 0, 0, 0, 0, 0, 0, 0, 0, 0, 0, 0,\n",
       "        0, 0, 0, 0, 0, 0, 0, 0, 0, 0, 0, 0, 0, 0, 0, 1, 1, 1, 1, 1, 1, 1,\n",
       "        1, 1, 1, 1, 1, 1, 1, 1, 1, 1, 1, 1, 1, 1, 1, 1, 1, 1, 1, 1, 1, 1,\n",
       "        1, 1, 1, 1, 1, 1, 1, 1, 1, 1, 1, 1]))"
      ]
     },
     "execution_count": 11,
     "metadata": {},
     "output_type": "execute_result"
    }
   ],
   "source": [
    "np.random.seed(0)\n",
    "\n",
    "synthetic = fitted_model_gmm.sample(n_samples=100)\n",
    "\n",
    "samples = synthetic[0]\n",
    "labels = synthetic[1]\n",
    "\n",
    "synthetic"
   ]
  },
  {
   "cell_type": "code",
   "execution_count": 12,
   "id": "c4154def",
   "metadata": {},
   "outputs": [
    {
     "data": {
      "image/png": "[encoded data removed]",
      "text/plain": [
       "<Figure size 432x288 with 1 Axes>"
      ]
     },
     "metadata": {
      "needs_background": "light"
     },
     "output_type": "display_data"
    }
   ],
   "source": [
    "plt.hist(features, bins=30, alpha=0.5, label='Original')\n",
    "plt.hist(samples, bins=30, alpha=0.5, label='Synthetic')\n",
    "plt.xlabel('')\n",
    "plt.ylabel('')\n",
    "plt.legend('')\n",
    "plt.show()"
   ]
  },
  {
   "cell_type": "markdown",
   "id": "0ff9e4b0",
   "metadata": {},
   "source": [
    "There are more pronounced modes, I think this is the case because we have lowered the n to just 100."
   ]
  },
  {
   "cell_type": "markdown",
   "id": "3ce44fd6",
   "metadata": {},
   "source": [
    "**f)** Is the GMM in this question a generative or a discriminative model? Briefly explain your reasoning. Also briefly explain why it would be beneficial to use for a data-based task that involves natural events like the Old Faithful geyser erupting.\n",
    "\n",
    "**(5 points)**"
   ]
  },
  {
   "cell_type": "markdown",
   "id": "5fc50bca",
   "metadata": {},
   "source": [
    "It is a generative model, becuase it uses a combination of guassian distributions to model the joint distribution without explicitly considering the target variable of which we are trying to predict. \n",
    "\n",
    "Its beneficial to use GMM because it can capture irregular data structures, notably in its flexibility in capturing complex data and especially natural events with multi-modes like geyser eruptions. By also using probability to predict and using synthetically created data, which for natural enviornments is necessary since there is only 1 timeline, GMM incorporates many useful tools for its statistical approach."
   ]
  },
  {
   "cell_type": "markdown",
   "id": "5a2558c4",
   "metadata": {},
   "source": [
    "## **2)** K-Means with Stock Market Data (25 points)"
   ]
  },
  {
   "cell_type": "markdown",
   "id": "13b3ef48",
   "metadata": {},
   "source": [
    "In this question, you will cluster companies using a K-Means model.\n",
    "\n",
    "**a)** Upload the **stocks.csv** file. Each row is a company. The first column is the company name and the remaining columns are the daily price movements (the dollar difference between the closing and opening prices) for each trading day from early 2010 to late 2013.\n",
    "\n",
    "Save the first column and the numeric columns into separate variables. You will need the numeric columns for clustering and the names at the end of this question.\n",
    "\n",
    "**(3 points)**"
   ]
  },
  {
   "cell_type": "code",
   "execution_count": 13,
   "id": "f50777e4",
   "metadata": {
    "scrolled": false
   },
   "outputs": [
    {
     "data": {
      "text/html": [
       "<div>\n",
       "<style scoped>\n",
       "    .dataframe tbody tr th:only-of-type {\n",
       "        vertical-align: middle;\n",
       "    }\n",
       "\n",
       "    .dataframe tbody tr th {\n",
       "        vertical-align: top;\n",
       "    }\n",
       "\n",
       "    .dataframe thead th {\n",
       "        text-align: right;\n",
       "    }\n",
       "</style>\n",
       "<table border=\"1\" class=\"dataframe\">\n",
       "  <thead>\n",
       "    <tr style=\"text-align: right;\">\n",
       "      <th></th>\n",
       "      <th>Unnamed: 0</th>\n",
       "      <th>2010-01-04</th>\n",
       "      <th>2010-01-05</th>\n",
       "      <th>2010-01-06</th>\n",
       "      <th>2010-01-07</th>\n",
       "      <th>2010-01-08</th>\n",
       "      <th>2010-01-11</th>\n",
       "      <th>2010-01-12</th>\n",
       "      <th>2010-01-13</th>\n",
       "      <th>2010-01-14</th>\n",
       "      <th>...</th>\n",
       "      <th>2013-10-16</th>\n",
       "      <th>2013-10-17</th>\n",
       "      <th>2013-10-18</th>\n",
       "      <th>2013-10-21</th>\n",
       "      <th>2013-10-22</th>\n",
       "      <th>2013-10-23</th>\n",
       "      <th>2013-10-24</th>\n",
       "      <th>2013-10-25</th>\n",
       "      <th>2013-10-28</th>\n",
       "      <th>2013-10-29</th>\n",
       "    </tr>\n",
       "  </thead>\n",
       "  <tbody>\n",
       "    <tr>\n",
       "      <th>0</th>\n",
       "      <td>Apple</td>\n",
       "      <td>0.580000</td>\n",
       "      <td>-0.220005</td>\n",
       "      <td>-3.409998</td>\n",
       "      <td>-1.170000</td>\n",
       "      <td>1.680011</td>\n",
       "      <td>-2.689994</td>\n",
       "      <td>-1.469994</td>\n",
       "      <td>2.779997</td>\n",
       "      <td>-0.680003</td>\n",
       "      <td>...</td>\n",
       "      <td>0.320008</td>\n",
       "      <td>4.519997</td>\n",
       "      <td>2.899987</td>\n",
       "      <td>9.590019</td>\n",
       "      <td>-6.540016</td>\n",
       "      <td>5.959976</td>\n",
       "      <td>6.910011</td>\n",
       "      <td>-5.359962</td>\n",
       "      <td>0.840019</td>\n",
       "      <td>-19.589981</td>\n",
       "    </tr>\n",
       "    <tr>\n",
       "      <th>1</th>\n",
       "      <td>AIG</td>\n",
       "      <td>-0.640002</td>\n",
       "      <td>-0.650000</td>\n",
       "      <td>-0.210001</td>\n",
       "      <td>-0.420000</td>\n",
       "      <td>0.710001</td>\n",
       "      <td>-0.200001</td>\n",
       "      <td>-1.130001</td>\n",
       "      <td>0.069999</td>\n",
       "      <td>-0.119999</td>\n",
       "      <td>...</td>\n",
       "      <td>0.919998</td>\n",
       "      <td>0.709999</td>\n",
       "      <td>0.119999</td>\n",
       "      <td>-0.480000</td>\n",
       "      <td>0.010002</td>\n",
       "      <td>-0.279998</td>\n",
       "      <td>-0.190003</td>\n",
       "      <td>-0.040001</td>\n",
       "      <td>-0.400002</td>\n",
       "      <td>0.660000</td>\n",
       "    </tr>\n",
       "    <tr>\n",
       "      <th>2</th>\n",
       "      <td>Amazon</td>\n",
       "      <td>-2.350006</td>\n",
       "      <td>1.260009</td>\n",
       "      <td>-2.350006</td>\n",
       "      <td>-2.009995</td>\n",
       "      <td>2.960006</td>\n",
       "      <td>-2.309997</td>\n",
       "      <td>-1.640007</td>\n",
       "      <td>1.209999</td>\n",
       "      <td>-1.790001</td>\n",
       "      <td>...</td>\n",
       "      <td>2.109985</td>\n",
       "      <td>3.699982</td>\n",
       "      <td>9.570008</td>\n",
       "      <td>-3.450013</td>\n",
       "      <td>4.820008</td>\n",
       "      <td>-4.079986</td>\n",
       "      <td>2.579986</td>\n",
       "      <td>4.790009</td>\n",
       "      <td>-1.760009</td>\n",
       "      <td>3.740021</td>\n",
       "    </tr>\n",
       "    <tr>\n",
       "      <th>3</th>\n",
       "      <td>American express</td>\n",
       "      <td>0.109997</td>\n",
       "      <td>0.000000</td>\n",
       "      <td>0.260002</td>\n",
       "      <td>0.720002</td>\n",
       "      <td>0.190003</td>\n",
       "      <td>-0.270001</td>\n",
       "      <td>0.750000</td>\n",
       "      <td>0.300004</td>\n",
       "      <td>0.639999</td>\n",
       "      <td>...</td>\n",
       "      <td>0.680001</td>\n",
       "      <td>2.290001</td>\n",
       "      <td>0.409996</td>\n",
       "      <td>-0.069999</td>\n",
       "      <td>0.100006</td>\n",
       "      <td>0.069999</td>\n",
       "      <td>0.130005</td>\n",
       "      <td>1.849999</td>\n",
       "      <td>0.040001</td>\n",
       "      <td>0.540001</td>\n",
       "    </tr>\n",
       "    <tr>\n",
       "      <th>4</th>\n",
       "      <td>Boeing</td>\n",
       "      <td>0.459999</td>\n",
       "      <td>1.770000</td>\n",
       "      <td>1.549999</td>\n",
       "      <td>2.690003</td>\n",
       "      <td>0.059997</td>\n",
       "      <td>-1.080002</td>\n",
       "      <td>0.360000</td>\n",
       "      <td>0.549999</td>\n",
       "      <td>0.530002</td>\n",
       "      <td>...</td>\n",
       "      <td>1.559997</td>\n",
       "      <td>2.480003</td>\n",
       "      <td>0.019997</td>\n",
       "      <td>-1.220001</td>\n",
       "      <td>0.480003</td>\n",
       "      <td>3.020004</td>\n",
       "      <td>-0.029999</td>\n",
       "      <td>1.940002</td>\n",
       "      <td>1.130005</td>\n",
       "      <td>0.309998</td>\n",
       "    </tr>\n",
       "  </tbody>\n",
       "</table>\n",
       "<p>5 rows × 964 columns</p>\n",
       "</div>"
      ],
      "text/plain": [
       "         Unnamed: 0  2010-01-04  2010-01-05  2010-01-06  2010-01-07  \\\n",
       "0             Apple    0.580000   -0.220005   -3.409998   -1.170000   \n",
       "1               AIG   -0.640002   -0.650000   -0.210001   -0.420000   \n",
       "2            Amazon   -2.350006    1.260009   -2.350006   -2.009995   \n",
       "3  American express    0.109997    0.000000    0.260002    0.720002   \n",
       "4            Boeing    0.459999    1.770000    1.549999    2.690003   \n",
       "\n",
       "   2010-01-08  2010-01-11  2010-01-12  2010-01-13  2010-01-14  ...  \\\n",
       "0    1.680011   -2.689994   -1.469994    2.779997   -0.680003  ...   \n",
       "1    0.710001   -0.200001   -1.130001    0.069999   -0.119999  ...   \n",
       "2    2.960006   -2.309997   -1.640007    1.209999   -1.790001  ...   \n",
       "3    0.190003   -0.270001    0.750000    0.300004    0.639999  ...   \n",
       "4    0.059997   -1.080002    0.360000    0.549999    0.530002  ...   \n",
       "\n",
       "   2013-10-16  2013-10-17  2013-10-18  2013-10-21  2013-10-22  2013-10-23  \\\n",
       "0    0.320008    4.519997    2.899987    9.590019   -6.540016    5.959976   \n",
       "1    0.919998    0.709999    0.119999   -0.480000    0.010002   -0.279998   \n",
       "2    2.109985    3.699982    9.570008   -3.450013    4.820008   -4.079986   \n",
       "3    0.680001    2.290001    0.409996   -0.069999    0.100006    0.069999   \n",
       "4    1.559997    2.480003    0.019997   -1.220001    0.480003    3.020004   \n",
       "\n",
       "   2013-10-24  2013-10-25  2013-10-28  2013-10-29  \n",
       "0    6.910011   -5.359962    0.840019  -19.589981  \n",
       "1   -0.190003   -0.040001   -0.400002    0.660000  \n",
       "2    2.579986    4.790009   -1.760009    3.740021  \n",
       "3    0.130005    1.849999    0.040001    0.540001  \n",
       "4   -0.029999    1.940002    1.130005    0.309998  \n",
       "\n",
       "[5 rows x 964 columns]"
      ]
     },
     "execution_count": 13,
     "metadata": {},
     "output_type": "execute_result"
    }
   ],
   "source": [
    "data = pd.read_csv('stocks.csv')\n",
    "\n",
    "data.head()"
   ]
  },
  {
   "cell_type": "code",
   "execution_count": 14,
   "id": "fa9cefb7",
   "metadata": {},
   "outputs": [],
   "source": [
    "y = data.iloc[:,0]\n",
    "X = data.iloc[:, 1:]"
   ]
  },
  {
   "cell_type": "markdown",
   "id": "1f2fc2ea",
   "metadata": {},
   "source": [
    "**b)** Before any clustering, you need to keep in mind and account for the fact that different companies have different price levels. This will create problems while clustering their price movements because the price differences for more expensive companies will simply have more variance. \n",
    "\n",
    "Before taking care of this problem with some preprocessing, find out the companies with the highest and lowest price variance. (**Hint:** **.var** method of a DataFrame and **np.argmax/argmin.**)\n",
    "\n",
    "**(5 points)**"
   ]
  },
  {
   "cell_type": "code",
   "execution_count": 15,
   "id": "89d0e1e3",
   "metadata": {},
   "outputs": [
    {
     "name": "stdout",
     "output_type": "stream",
     "text": [
      "17\n",
      "34\n",
      "Google/Alphabet Mitsubishi\n"
     ]
    },
    {
     "name": "stderr",
     "output_type": "stream",
     "text": [
      "C:\\Users\\dylan\\AppData\\Local\\Temp/ipykernel_7632/643082124.py:1: FutureWarning: Dropping of nuisance columns in DataFrame reductions (with 'numeric_only=None') is deprecated; in a future version this will raise TypeError.  Select only valid columns before calling the reduction.\n",
      "  print(np.argmax(data.var(axis=1)))\n",
      "C:\\Users\\dylan\\AppData\\Local\\Temp/ipykernel_7632/643082124.py:2: FutureWarning: Dropping of nuisance columns in DataFrame reductions (with 'numeric_only=None') is deprecated; in a future version this will raise TypeError.  Select only valid columns before calling the reduction.\n",
      "  print(np.argmin(data.var(axis=1)))\n"
     ]
    }
   ],
   "source": [
    "print(np.argmax(data.var(axis=1)))\n",
    "print(np.argmin(data.var(axis=1)))\n",
    "print(y.iloc[17], y.iloc[34])"
   ]
  },
  {
   "cell_type": "markdown",
   "id": "38c62a53",
   "metadata": {},
   "source": [
    "**c)** To take all instances (companies) to the same level of variance without losing the information they have on their features, you need to use a **Normalizer** object. Note that a Scaler object scales each column whereas a Normalizer object scales each row. (**Hint:** No need for any input to the object - just create it and **.fit_transform**.)\n",
    "\n",
    "**(2 points)**"
   ]
  },
  {
   "cell_type": "code",
   "execution_count": 16,
   "id": "f04f3047",
   "metadata": {},
   "outputs": [],
   "source": [
    "scaler_transform = Normalizer().fit(X)\n",
    "scaler_transform.transform(X)\n",
    "normalized_object = Normalizer().fit_transform(X)"
   ]
  },
  {
   "cell_type": "markdown",
   "id": "5b263450",
   "metadata": {},
   "source": [
    "**d)** Using the normalized data, run a **K-Means** model for each K value from 2 to 15. For each value, cluster the normalized data and store the **inertia** of the clustering model. At the end, plot the inertia values against the K values. Which K value has the elbow?\n",
    "\n",
    "**Note:** Any elbow is difficult to see and there are multiple candidates. Pick the one with the output that makes the most sense to you. This kind of an inertia plot is what you would typically see in a real-life clustering task. While the inertia plots for toy datasets are good for learning the concept, they are really misleading in that sense.\n",
    "\n",
    "**(8 points)**"
   ]
  },
  {
   "cell_type": "code",
   "execution_count": 17,
   "id": "78600034",
   "metadata": {},
   "outputs": [
    {
     "data": {
      "text/plain": [
       "Text(0, 0.5, 'Inertia')"
      ]
     },
     "execution_count": 17,
     "metadata": {},
     "output_type": "execute_result"
    },
    {
     "data": {
      "image/png": "[encoded data removed]",
      "text/plain": [
       "<Figure size 432x288 with 1 Axes>"
      ]
     },
     "metadata": {
      "needs_background": "light"
     },
     "output_type": "display_data"
    }
   ],
   "source": [
    "np.random.seed(0)\n",
    "\n",
    "inertia_values = []\n",
    "for k in range(2, 16):\n",
    "    kmeans = KMeans(random_state = 0, n_clusters=k)\n",
    "    kmeans.fit(normalized_object)\n",
    "    inertia_values.append(kmeans.inertia_)\n",
    "    \n",
    "plt.plot([*range(2, 16)], inertia_values)\n",
    "plt.grid()\n",
    "plt.xlabel('K Value')\n",
    "plt.ylabel('Inertia')\n",
    "\n"
   ]
  },
  {
   "cell_type": "markdown",
   "id": "312a86dd",
   "metadata": {},
   "source": [
    "I think 12 is the elbow value because the overall inertia values of 24< can only get lower and porportionally with each K value, that means it is likely for the change to be less and less, even though it looks like 15's inertia value is getting steeper."
   ]
  },
  {
   "cell_type": "markdown",
   "id": "e0505fbd",
   "metadata": {},
   "source": [
    "**e)** Create the final K-Means model with your pick for the best K value and return the cluster label predictions. Put the labels and the company names in a dataframe and sort it by the labels. Print the sorted dataframe.\n",
    "\n",
    "**(4 points)**"
   ]
  },
  {
   "cell_type": "code",
   "execution_count": 18,
   "id": "36f4ceea",
   "metadata": {},
   "outputs": [
    {
     "data": {
      "text/plain": [
       "0                                  Apple\n",
       "1                                    AIG\n",
       "2                                 Amazon\n",
       "3                       American express\n",
       "4                                 Boeing\n",
       "5                        Bank of America\n",
       "6               British American Tobacco\n",
       "7                                  Canon\n",
       "8                            Caterpillar\n",
       "9                      Colgate-Palmolive\n",
       "10                        ConocoPhillips\n",
       "11                                 Cisco\n",
       "12                               Chevron\n",
       "13                     DuPont de Nemours\n",
       "14                                  Dell\n",
       "15                                  Ford\n",
       "16                     General Electrics\n",
       "17                       Google/Alphabet\n",
       "18                         Goldman Sachs\n",
       "19                       GlaxoSmithKline\n",
       "20                            Home Depot\n",
       "21                                 Honda\n",
       "22                                    HP\n",
       "23                                   IBM\n",
       "24                                 Intel\n",
       "25                     Johnson & Johnson\n",
       "26                        JPMorgan Chase\n",
       "27                        Kimberly-Clark\n",
       "28                             Coca Cola\n",
       "29                       Lookheed Martin\n",
       "30                            MasterCard\n",
       "31                             McDonalds\n",
       "32                                    3M\n",
       "33                             Microsoft\n",
       "34                            Mitsubishi\n",
       "35                              Navistar\n",
       "36                      Northrop Grumman\n",
       "37                              Novartis\n",
       "38                                 Pepsi\n",
       "39                                Pfizer\n",
       "40                        Procter Gamble\n",
       "41                         Philip Morris\n",
       "42                     Royal Dutch Shell\n",
       "43                                   SAP\n",
       "44                          Schlumberger\n",
       "45                                  Sony\n",
       "46                        Sanofi-Aventis\n",
       "47                              Symantec\n",
       "48                                Toyota\n",
       "49                                 Total\n",
       "50    Taiwan Semiconductor Manufacturing\n",
       "51                     Texas instruments\n",
       "52                              Unilever\n",
       "53                         Valero Energy\n",
       "54                              Walgreen\n",
       "55                           Wells Fargo\n",
       "56                              Wal-Mart\n",
       "57                                 Exxon\n",
       "58                                 Xerox\n",
       "59                                 Yahoo\n",
       "Name: Unnamed: 0, dtype: object"
      ]
     },
     "execution_count": 18,
     "metadata": {},
     "output_type": "execute_result"
    }
   ],
   "source": [
    "x = data['Unnamed: 0']\n",
    "x"
   ]
  },
  {
   "cell_type": "code",
   "execution_count": 19,
   "id": "34d21a5f",
   "metadata": {},
   "outputs": [
    {
     "data": {
      "text/html": [
       "<div>\n",
       "<style scoped>\n",
       "    .dataframe tbody tr th:only-of-type {\n",
       "        vertical-align: middle;\n",
       "    }\n",
       "\n",
       "    .dataframe tbody tr th {\n",
       "        vertical-align: top;\n",
       "    }\n",
       "\n",
       "    .dataframe thead th {\n",
       "        text-align: right;\n",
       "    }\n",
       "</style>\n",
       "<table border=\"1\" class=\"dataframe\">\n",
       "  <thead>\n",
       "    <tr style=\"text-align: right;\">\n",
       "      <th></th>\n",
       "      <th>Company Name</th>\n",
       "      <th>Cluster Label</th>\n",
       "    </tr>\n",
       "  </thead>\n",
       "  <tbody>\n",
       "    <tr>\n",
       "      <th>35</th>\n",
       "      <td>Navistar</td>\n",
       "      <td>14</td>\n",
       "    </tr>\n",
       "    <tr>\n",
       "      <th>24</th>\n",
       "      <td>Intel</td>\n",
       "      <td>14</td>\n",
       "    </tr>\n",
       "    <tr>\n",
       "      <th>51</th>\n",
       "      <td>Texas instruments</td>\n",
       "      <td>14</td>\n",
       "    </tr>\n",
       "    <tr>\n",
       "      <th>50</th>\n",
       "      <td>Taiwan Semiconductor Manufacturing</td>\n",
       "      <td>14</td>\n",
       "    </tr>\n",
       "    <tr>\n",
       "      <th>17</th>\n",
       "      <td>Google/Alphabet</td>\n",
       "      <td>13</td>\n",
       "    </tr>\n",
       "    <tr>\n",
       "      <th>0</th>\n",
       "      <td>Apple</td>\n",
       "      <td>13</td>\n",
       "    </tr>\n",
       "    <tr>\n",
       "      <th>2</th>\n",
       "      <td>Amazon</td>\n",
       "      <td>13</td>\n",
       "    </tr>\n",
       "    <tr>\n",
       "      <th>41</th>\n",
       "      <td>Philip Morris</td>\n",
       "      <td>12</td>\n",
       "    </tr>\n",
       "    <tr>\n",
       "      <th>38</th>\n",
       "      <td>Pepsi</td>\n",
       "      <td>12</td>\n",
       "    </tr>\n",
       "    <tr>\n",
       "      <th>28</th>\n",
       "      <td>Coca Cola</td>\n",
       "      <td>12</td>\n",
       "    </tr>\n",
       "    <tr>\n",
       "      <th>31</th>\n",
       "      <td>McDonalds</td>\n",
       "      <td>11</td>\n",
       "    </tr>\n",
       "    <tr>\n",
       "      <th>11</th>\n",
       "      <td>Cisco</td>\n",
       "      <td>10</td>\n",
       "    </tr>\n",
       "    <tr>\n",
       "      <th>33</th>\n",
       "      <td>Microsoft</td>\n",
       "      <td>10</td>\n",
       "    </tr>\n",
       "    <tr>\n",
       "      <th>14</th>\n",
       "      <td>Dell</td>\n",
       "      <td>9</td>\n",
       "    </tr>\n",
       "    <tr>\n",
       "      <th>22</th>\n",
       "      <td>HP</td>\n",
       "      <td>9</td>\n",
       "    </tr>\n",
       "    <tr>\n",
       "      <th>45</th>\n",
       "      <td>Sony</td>\n",
       "      <td>8</td>\n",
       "    </tr>\n",
       "    <tr>\n",
       "      <th>7</th>\n",
       "      <td>Canon</td>\n",
       "      <td>8</td>\n",
       "    </tr>\n",
       "    <tr>\n",
       "      <th>21</th>\n",
       "      <td>Honda</td>\n",
       "      <td>8</td>\n",
       "    </tr>\n",
       "    <tr>\n",
       "      <th>34</th>\n",
       "      <td>Mitsubishi</td>\n",
       "      <td>8</td>\n",
       "    </tr>\n",
       "    <tr>\n",
       "      <th>48</th>\n",
       "      <td>Toyota</td>\n",
       "      <td>8</td>\n",
       "    </tr>\n",
       "    <tr>\n",
       "      <th>59</th>\n",
       "      <td>Yahoo</td>\n",
       "      <td>7</td>\n",
       "    </tr>\n",
       "    <tr>\n",
       "      <th>40</th>\n",
       "      <td>Procter Gamble</td>\n",
       "      <td>6</td>\n",
       "    </tr>\n",
       "    <tr>\n",
       "      <th>25</th>\n",
       "      <td>Johnson &amp; Johnson</td>\n",
       "      <td>6</td>\n",
       "    </tr>\n",
       "    <tr>\n",
       "      <th>27</th>\n",
       "      <td>Kimberly-Clark</td>\n",
       "      <td>6</td>\n",
       "    </tr>\n",
       "    <tr>\n",
       "      <th>9</th>\n",
       "      <td>Colgate-Palmolive</td>\n",
       "      <td>6</td>\n",
       "    </tr>\n",
       "    <tr>\n",
       "      <th>56</th>\n",
       "      <td>Wal-Mart</td>\n",
       "      <td>6</td>\n",
       "    </tr>\n",
       "    <tr>\n",
       "      <th>29</th>\n",
       "      <td>Lookheed Martin</td>\n",
       "      <td>5</td>\n",
       "    </tr>\n",
       "    <tr>\n",
       "      <th>54</th>\n",
       "      <td>Walgreen</td>\n",
       "      <td>5</td>\n",
       "    </tr>\n",
       "    <tr>\n",
       "      <th>4</th>\n",
       "      <td>Boeing</td>\n",
       "      <td>5</td>\n",
       "    </tr>\n",
       "    <tr>\n",
       "      <th>36</th>\n",
       "      <td>Northrop Grumman</td>\n",
       "      <td>5</td>\n",
       "    </tr>\n",
       "    <tr>\n",
       "      <th>18</th>\n",
       "      <td>Goldman Sachs</td>\n",
       "      <td>4</td>\n",
       "    </tr>\n",
       "    <tr>\n",
       "      <th>26</th>\n",
       "      <td>JPMorgan Chase</td>\n",
       "      <td>4</td>\n",
       "    </tr>\n",
       "    <tr>\n",
       "      <th>55</th>\n",
       "      <td>Wells Fargo</td>\n",
       "      <td>4</td>\n",
       "    </tr>\n",
       "    <tr>\n",
       "      <th>15</th>\n",
       "      <td>Ford</td>\n",
       "      <td>4</td>\n",
       "    </tr>\n",
       "    <tr>\n",
       "      <th>3</th>\n",
       "      <td>American express</td>\n",
       "      <td>4</td>\n",
       "    </tr>\n",
       "    <tr>\n",
       "      <th>5</th>\n",
       "      <td>Bank of America</td>\n",
       "      <td>4</td>\n",
       "    </tr>\n",
       "    <tr>\n",
       "      <th>1</th>\n",
       "      <td>AIG</td>\n",
       "      <td>4</td>\n",
       "    </tr>\n",
       "    <tr>\n",
       "      <th>43</th>\n",
       "      <td>SAP</td>\n",
       "      <td>3</td>\n",
       "    </tr>\n",
       "    <tr>\n",
       "      <th>47</th>\n",
       "      <td>Symantec</td>\n",
       "      <td>3</td>\n",
       "    </tr>\n",
       "    <tr>\n",
       "      <th>30</th>\n",
       "      <td>MasterCard</td>\n",
       "      <td>3</td>\n",
       "    </tr>\n",
       "    <tr>\n",
       "      <th>20</th>\n",
       "      <td>Home Depot</td>\n",
       "      <td>2</td>\n",
       "    </tr>\n",
       "    <tr>\n",
       "      <th>58</th>\n",
       "      <td>Xerox</td>\n",
       "      <td>2</td>\n",
       "    </tr>\n",
       "    <tr>\n",
       "      <th>16</th>\n",
       "      <td>General Electrics</td>\n",
       "      <td>2</td>\n",
       "    </tr>\n",
       "    <tr>\n",
       "      <th>8</th>\n",
       "      <td>Caterpillar</td>\n",
       "      <td>1</td>\n",
       "    </tr>\n",
       "    <tr>\n",
       "      <th>57</th>\n",
       "      <td>Exxon</td>\n",
       "      <td>1</td>\n",
       "    </tr>\n",
       "    <tr>\n",
       "      <th>23</th>\n",
       "      <td>IBM</td>\n",
       "      <td>1</td>\n",
       "    </tr>\n",
       "    <tr>\n",
       "      <th>32</th>\n",
       "      <td>3M</td>\n",
       "      <td>1</td>\n",
       "    </tr>\n",
       "    <tr>\n",
       "      <th>53</th>\n",
       "      <td>Valero Energy</td>\n",
       "      <td>1</td>\n",
       "    </tr>\n",
       "    <tr>\n",
       "      <th>13</th>\n",
       "      <td>DuPont de Nemours</td>\n",
       "      <td>1</td>\n",
       "    </tr>\n",
       "    <tr>\n",
       "      <th>12</th>\n",
       "      <td>Chevron</td>\n",
       "      <td>1</td>\n",
       "    </tr>\n",
       "    <tr>\n",
       "      <th>10</th>\n",
       "      <td>ConocoPhillips</td>\n",
       "      <td>1</td>\n",
       "    </tr>\n",
       "    <tr>\n",
       "      <th>44</th>\n",
       "      <td>Schlumberger</td>\n",
       "      <td>1</td>\n",
       "    </tr>\n",
       "    <tr>\n",
       "      <th>39</th>\n",
       "      <td>Pfizer</td>\n",
       "      <td>1</td>\n",
       "    </tr>\n",
       "    <tr>\n",
       "      <th>49</th>\n",
       "      <td>Total</td>\n",
       "      <td>0</td>\n",
       "    </tr>\n",
       "    <tr>\n",
       "      <th>52</th>\n",
       "      <td>Unilever</td>\n",
       "      <td>0</td>\n",
       "    </tr>\n",
       "    <tr>\n",
       "      <th>37</th>\n",
       "      <td>Novartis</td>\n",
       "      <td>0</td>\n",
       "    </tr>\n",
       "    <tr>\n",
       "      <th>46</th>\n",
       "      <td>Sanofi-Aventis</td>\n",
       "      <td>0</td>\n",
       "    </tr>\n",
       "    <tr>\n",
       "      <th>6</th>\n",
       "      <td>British American Tobacco</td>\n",
       "      <td>0</td>\n",
       "    </tr>\n",
       "    <tr>\n",
       "      <th>42</th>\n",
       "      <td>Royal Dutch Shell</td>\n",
       "      <td>0</td>\n",
       "    </tr>\n",
       "    <tr>\n",
       "      <th>19</th>\n",
       "      <td>GlaxoSmithKline</td>\n",
       "      <td>0</td>\n",
       "    </tr>\n",
       "  </tbody>\n",
       "</table>\n",
       "</div>"
      ],
      "text/plain": [
       "                          Company Name  Cluster Label\n",
       "35                            Navistar             14\n",
       "24                               Intel             14\n",
       "51                   Texas instruments             14\n",
       "50  Taiwan Semiconductor Manufacturing             14\n",
       "17                     Google/Alphabet             13\n",
       "0                                Apple             13\n",
       "2                               Amazon             13\n",
       "41                       Philip Morris             12\n",
       "38                               Pepsi             12\n",
       "28                           Coca Cola             12\n",
       "31                           McDonalds             11\n",
       "11                               Cisco             10\n",
       "33                           Microsoft             10\n",
       "14                                Dell              9\n",
       "22                                  HP              9\n",
       "45                                Sony              8\n",
       "7                                Canon              8\n",
       "21                               Honda              8\n",
       "34                          Mitsubishi              8\n",
       "48                              Toyota              8\n",
       "59                               Yahoo              7\n",
       "40                      Procter Gamble              6\n",
       "25                   Johnson & Johnson              6\n",
       "27                      Kimberly-Clark              6\n",
       "9                    Colgate-Palmolive              6\n",
       "56                            Wal-Mart              6\n",
       "29                     Lookheed Martin              5\n",
       "54                            Walgreen              5\n",
       "4                               Boeing              5\n",
       "36                    Northrop Grumman              5\n",
       "18                       Goldman Sachs              4\n",
       "26                      JPMorgan Chase              4\n",
       "55                         Wells Fargo              4\n",
       "15                                Ford              4\n",
       "3                     American express              4\n",
       "5                      Bank of America              4\n",
       "1                                  AIG              4\n",
       "43                                 SAP              3\n",
       "47                            Symantec              3\n",
       "30                          MasterCard              3\n",
       "20                          Home Depot              2\n",
       "58                               Xerox              2\n",
       "16                   General Electrics              2\n",
       "8                          Caterpillar              1\n",
       "57                               Exxon              1\n",
       "23                                 IBM              1\n",
       "32                                  3M              1\n",
       "53                       Valero Energy              1\n",
       "13                   DuPont de Nemours              1\n",
       "12                             Chevron              1\n",
       "10                      ConocoPhillips              1\n",
       "44                        Schlumberger              1\n",
       "39                              Pfizer              1\n",
       "49                               Total              0\n",
       "52                            Unilever              0\n",
       "37                            Novartis              0\n",
       "46                      Sanofi-Aventis              0\n",
       "6             British American Tobacco              0\n",
       "42                   Royal Dutch Shell              0\n",
       "19                     GlaxoSmithKline              0"
      ]
     },
     "execution_count": 19,
     "metadata": {},
     "output_type": "execute_result"
    }
   ],
   "source": [
    "np.random.seed(0)\n",
    "\n",
    "Kmeans = KMeans(random_state = 0, n_clusters = 6)\n",
    "Kmeans.fit(normalized_object)\n",
    "labels = kmeans.labels_\n",
    "\n",
    "x = data['Unnamed: 0']\n",
    "\n",
    "df_dumb = {'Company Name': x, 'Cluster Label': labels}\n",
    "df = pd.DataFrame(df_dumb)\n",
    "df_sorted = df.sort_values(by='Cluster Label', ascending= False)\n",
    "\n",
    "df_sorted"
   ]
  },
  {
   "cell_type": "markdown",
   "id": "caa073d2",
   "metadata": {},
   "source": [
    "**f)** Do the clusters make sense in general? Give one cluster example that makes sense. Give one company example that looks like it does not belong with the others. **(3 points)**"
   ]
  },
  {
   "cell_type": "markdown",
   "id": "e5b7b6e5",
   "metadata": {},
   "source": [
    "Google/Apple/Amazon make sense since they're the silicon tech giants that have taken the lead on certain industry technologies/practice, such as cloud networks and AWS, etc etc, along with the big social platforms like google"
   ]
  },
  {
   "cell_type": "markdown",
   "id": "dd471438",
   "metadata": {},
   "source": [
    "## **3)** K-Means with Sparse Text Features (25 points)"
   ]
  },
  {
   "cell_type": "markdown",
   "id": "00bacd1c",
   "metadata": {},
   "source": [
    "In this question, you will cluster Wikipedia articles using dimensionality reduction and a K-Means model.\n",
    "\n",
    "**a)** Upload the **wiki_features.csv** file. Each row is a Wikipedia article, with the title given on the first column. The other columns are Term Frequency - Inverse Document Frequency (TF-IDF) features, a very common Natural Language Processing (NLP) tool to express a text instance as a numeric array.\n",
    "\n",
    "NLP is beyond the scope of this course but two things you need to note are the very high dimensionality and the number of zeros for each instance. **Print a few rows and the shape of the data to observe these.** Datasets that has the vast majority of their values as zeros are called **sparse datasets.**\n",
    "\n",
    "As you did in the previous question, separate the names and the numeric features into two variables.\n",
    "\n",
    "**(5 points)**"
   ]
  },
  {
   "cell_type": "code",
   "execution_count": 65,
   "id": "ca4bf734",
   "metadata": {
    "scrolled": true
   },
   "outputs": [
    {
     "data": {
      "text/html": [
       "<div>\n",
       "<style scoped>\n",
       "    .dataframe tbody tr th:only-of-type {\n",
       "        vertical-align: middle;\n",
       "    }\n",
       "\n",
       "    .dataframe tbody tr th {\n",
       "        vertical-align: top;\n",
       "    }\n",
       "\n",
       "    .dataframe thead th {\n",
       "        text-align: right;\n",
       "    }\n",
       "</style>\n",
       "<table border=\"1\" class=\"dataframe\">\n",
       "  <thead>\n",
       "    <tr style=\"text-align: right;\">\n",
       "      <th></th>\n",
       "      <th>Unnamed: 0</th>\n",
       "      <th>0</th>\n",
       "      <th>1</th>\n",
       "      <th>2</th>\n",
       "      <th>3</th>\n",
       "      <th>4</th>\n",
       "      <th>5</th>\n",
       "      <th>6</th>\n",
       "      <th>7</th>\n",
       "      <th>8</th>\n",
       "      <th>...</th>\n",
       "      <th>13115</th>\n",
       "      <th>13116</th>\n",
       "      <th>13117</th>\n",
       "      <th>13118</th>\n",
       "      <th>13119</th>\n",
       "      <th>13120</th>\n",
       "      <th>13121</th>\n",
       "      <th>13122</th>\n",
       "      <th>13123</th>\n",
       "      <th>13124</th>\n",
       "    </tr>\n",
       "  </thead>\n",
       "  <tbody>\n",
       "    <tr>\n",
       "      <th>0</th>\n",
       "      <td>HTTP 404</td>\n",
       "      <td>0.0</td>\n",
       "      <td>0.0</td>\n",
       "      <td>0.000000</td>\n",
       "      <td>0.0</td>\n",
       "      <td>0.0</td>\n",
       "      <td>0.0</td>\n",
       "      <td>0.0</td>\n",
       "      <td>0.000000</td>\n",
       "      <td>0.0</td>\n",
       "      <td>...</td>\n",
       "      <td>0.0</td>\n",
       "      <td>0.0</td>\n",
       "      <td>0.0</td>\n",
       "      <td>0.0</td>\n",
       "      <td>0.0</td>\n",
       "      <td>0.0</td>\n",
       "      <td>0.0</td>\n",
       "      <td>0.000000</td>\n",
       "      <td>0.000000</td>\n",
       "      <td>0.0</td>\n",
       "    </tr>\n",
       "    <tr>\n",
       "      <th>1</th>\n",
       "      <td>Alexa Internet</td>\n",
       "      <td>0.0</td>\n",
       "      <td>0.0</td>\n",
       "      <td>0.029607</td>\n",
       "      <td>0.0</td>\n",
       "      <td>0.0</td>\n",
       "      <td>0.0</td>\n",
       "      <td>0.0</td>\n",
       "      <td>0.000000</td>\n",
       "      <td>0.0</td>\n",
       "      <td>...</td>\n",
       "      <td>0.0</td>\n",
       "      <td>0.0</td>\n",
       "      <td>0.0</td>\n",
       "      <td>0.0</td>\n",
       "      <td>0.0</td>\n",
       "      <td>0.0</td>\n",
       "      <td>0.0</td>\n",
       "      <td>0.000000</td>\n",
       "      <td>0.000000</td>\n",
       "      <td>0.0</td>\n",
       "    </tr>\n",
       "    <tr>\n",
       "      <th>2</th>\n",
       "      <td>Internet Explorer</td>\n",
       "      <td>0.0</td>\n",
       "      <td>0.0</td>\n",
       "      <td>0.000000</td>\n",
       "      <td>0.0</td>\n",
       "      <td>0.0</td>\n",
       "      <td>0.0</td>\n",
       "      <td>0.0</td>\n",
       "      <td>0.003772</td>\n",
       "      <td>0.0</td>\n",
       "      <td>...</td>\n",
       "      <td>0.0</td>\n",
       "      <td>0.0</td>\n",
       "      <td>0.0</td>\n",
       "      <td>0.0</td>\n",
       "      <td>0.0</td>\n",
       "      <td>0.0</td>\n",
       "      <td>0.0</td>\n",
       "      <td>0.011594</td>\n",
       "      <td>0.000000</td>\n",
       "      <td>0.0</td>\n",
       "    </tr>\n",
       "    <tr>\n",
       "      <th>3</th>\n",
       "      <td>HTTP cookie</td>\n",
       "      <td>0.0</td>\n",
       "      <td>0.0</td>\n",
       "      <td>0.000000</td>\n",
       "      <td>0.0</td>\n",
       "      <td>0.0</td>\n",
       "      <td>0.0</td>\n",
       "      <td>0.0</td>\n",
       "      <td>0.000000</td>\n",
       "      <td>0.0</td>\n",
       "      <td>...</td>\n",
       "      <td>0.0</td>\n",
       "      <td>0.0</td>\n",
       "      <td>0.0</td>\n",
       "      <td>0.0</td>\n",
       "      <td>0.0</td>\n",
       "      <td>0.0</td>\n",
       "      <td>0.0</td>\n",
       "      <td>0.000000</td>\n",
       "      <td>0.000000</td>\n",
       "      <td>0.0</td>\n",
       "    </tr>\n",
       "    <tr>\n",
       "      <th>4</th>\n",
       "      <td>Google Search</td>\n",
       "      <td>0.0</td>\n",
       "      <td>0.0</td>\n",
       "      <td>0.000000</td>\n",
       "      <td>0.0</td>\n",
       "      <td>0.0</td>\n",
       "      <td>0.0</td>\n",
       "      <td>0.0</td>\n",
       "      <td>0.000000</td>\n",
       "      <td>0.0</td>\n",
       "      <td>...</td>\n",
       "      <td>0.0</td>\n",
       "      <td>0.0</td>\n",
       "      <td>0.0</td>\n",
       "      <td>0.0</td>\n",
       "      <td>0.0</td>\n",
       "      <td>0.0</td>\n",
       "      <td>0.0</td>\n",
       "      <td>0.000000</td>\n",
       "      <td>0.006649</td>\n",
       "      <td>0.0</td>\n",
       "    </tr>\n",
       "  </tbody>\n",
       "</table>\n",
       "<p>5 rows × 13126 columns</p>\n",
       "</div>"
      ],
      "text/plain": [
       "          Unnamed: 0    0    1         2    3    4    5    6         7    8  \\\n",
       "0           HTTP 404  0.0  0.0  0.000000  0.0  0.0  0.0  0.0  0.000000  0.0   \n",
       "1     Alexa Internet  0.0  0.0  0.029607  0.0  0.0  0.0  0.0  0.000000  0.0   \n",
       "2  Internet Explorer  0.0  0.0  0.000000  0.0  0.0  0.0  0.0  0.003772  0.0   \n",
       "3        HTTP cookie  0.0  0.0  0.000000  0.0  0.0  0.0  0.0  0.000000  0.0   \n",
       "4      Google Search  0.0  0.0  0.000000  0.0  0.0  0.0  0.0  0.000000  0.0   \n",
       "\n",
       "   ...  13115  13116  13117  13118  13119  13120  13121     13122     13123  \\\n",
       "0  ...    0.0    0.0    0.0    0.0    0.0    0.0    0.0  0.000000  0.000000   \n",
       "1  ...    0.0    0.0    0.0    0.0    0.0    0.0    0.0  0.000000  0.000000   \n",
       "2  ...    0.0    0.0    0.0    0.0    0.0    0.0    0.0  0.011594  0.000000   \n",
       "3  ...    0.0    0.0    0.0    0.0    0.0    0.0    0.0  0.000000  0.000000   \n",
       "4  ...    0.0    0.0    0.0    0.0    0.0    0.0    0.0  0.000000  0.006649   \n",
       "\n",
       "   13124  \n",
       "0    0.0  \n",
       "1    0.0  \n",
       "2    0.0  \n",
       "3    0.0  \n",
       "4    0.0  \n",
       "\n",
       "[5 rows x 13126 columns]"
      ]
     },
     "execution_count": 65,
     "metadata": {},
     "output_type": "execute_result"
    }
   ],
   "source": [
    "data = pd.read_csv('wiki_features.csv')\n",
    "data.head()"
   ]
  },
  {
   "cell_type": "code",
   "execution_count": 66,
   "id": "a296e7a1",
   "metadata": {},
   "outputs": [
    {
     "data": {
      "text/plain": [
       "(60, 13126)"
      ]
     },
     "execution_count": 66,
     "metadata": {},
     "output_type": "execute_result"
    }
   ],
   "source": [
    "data.shape"
   ]
  },
  {
   "cell_type": "code",
   "execution_count": 67,
   "id": "91b98745",
   "metadata": {},
   "outputs": [],
   "source": [
    "X = data.iloc[:,1:]\n",
    "y = data['Unnamed: 0']"
   ]
  },
  {
   "cell_type": "markdown",
   "id": "e7388122",
   "metadata": {},
   "source": [
    "**b)** To reduce the dimensionality and account for the sparsity at the same time, you need to use **TruncatedSVD**, the sparse version of a Principle Component Analysis (PCA) model. It works with the same logic; the only difference for the purpose of this question is that it only takes the number of components as the input, not the amount of variance to be kept.\n",
    "\n",
    "You need to reduce the dimensionality to a reasonable value and then pick a reasonable number of clusters at the same time. To reduce the time and computational cost to find a good pair of values, you need to use your dimensionality reduction and clustering objects together in a **pipeline**.\n",
    "\n",
    "Create your empty dimensionality reduction and clustering objects. Then, put them together in a pipeline object.\n",
    "\n",
    "**(5 points)**"
   ]
  },
  {
   "cell_type": "code",
   "execution_count": 69,
   "id": "a49e5755",
   "metadata": {},
   "outputs": [],
   "source": [
    "Trun_SVD = TruncatedSVD(random_state = 0)\n",
    "Kmeans = KMeans(random_state = 0)\n",
    "\n",
    "pipeline = Pipeline([\n",
    "    ('TruncatedSVD', Trun_SVD), \n",
    "    ('Kmeans', Kmeans)\n",
    "])"
   ]
  },
  {
   "cell_type": "code",
   "execution_count": 70,
   "id": "a3007dbe",
   "metadata": {},
   "outputs": [
    {
     "data": {
      "text/plain": [
       "Pipeline(steps=[('TruncatedSVD', TruncatedSVD(random_state=0)),\n",
       "                ('Kmeans', KMeans(random_state=0))])"
      ]
     },
     "execution_count": 70,
     "metadata": {},
     "output_type": "execute_result"
    }
   ],
   "source": [
    "pipeline.fit(X,y)"
   ]
  },
  {
   "cell_type": "markdown",
   "id": "bb632972",
   "metadata": {},
   "source": [
    "**c)** After creating the pipeline, you can do a **grid search** through the inputs of its different parts. Try a number of components from 20 to 50 with a stepsize of 10 and a number of clusters from 2 to 8.\n",
    "\n",
    "Two things to be careful about:\n",
    "\n",
    "1) Since this is unsupervised learning, you would want to do the grid search but not cross-validation. You need to input **cv = [(slice(None), slice(None))]** to implement this.\n",
    "\n",
    "2) Your metric needs to be the **silhouette score**, which does not exist in GridSearchCV, so you need to write it as a user-defined function and use that function as an input. (Like you did with KNN in the previous assignment.) You need a function that takes a trained clustering model and the dataset as two inputs and return the silhouette score of the data and the cluster label predictions as the only output. The **silhouette_score** function from sklearn should help.\n",
    "\n",
    "Run a grid search and using the **best estimator**, return the cluster label predictions for the data.\n",
    "\n",
    "**(10 points)**"
   ]
  },
  {
   "cell_type": "code",
   "execution_count": 71,
   "id": "4b848aa1",
   "metadata": {
    "scrolled": false
   },
   "outputs": [],
   "source": [
    "np.random.seed(0)\n",
    "\n",
    "def my_silhouette_score(trained_model, labels):\n",
    "    try:\n",
    "        score = silhouette_score(trained_model, labels)\n",
    "    except Exception as e:\n",
    "        # Handle the exception and return a default value\n",
    "        print(f\"Error calculating silhouette score: {e}\")\n",
    "        score = np.nan  # Set a default value or use specific value as needed\n",
    "    return score\n",
    "\n",
    "param_grid = {\n",
    "    'TruncatedSVD__n_components': range(20,51,10),\n",
    "    'Kmeans__n_clusters': range(2,9)\n",
    "}\n",
    "\n",
    "model_grid = GridSearchCV(pipeline,\n",
    "                          param_grid=param_grid,\n",
    "                          cv=[(slice(None), slice(None))],\n",
    "                          scoring=my_silhouette_score)"
   ]
  },
  {
   "cell_type": "code",
   "execution_count": null,
   "id": "b48cf19a",
   "metadata": {},
   "outputs": [],
   "source": [
    "model_grid.fit(X, y)"
   ]
  },
  {
   "cell_type": "code",
   "execution_count": null,
   "id": "3aee83c2",
   "metadata": {
    "scrolled": true
   },
   "outputs": [],
   "source": [
    "print(\"Best parameters:\", model_grid.best_params_)\n",
    "print(\"Best score:\", model_grid.best_score_)"
   ]
  },
  {
   "cell_type": "markdown",
   "id": "65f3f6c6",
   "metadata": {},
   "source": [
    "**d)** Put the labels and the article titles in a dataframe and sort it by the labels. Print the sorted dataframe. Do the labels make sense? **(5 points)**"
   ]
  },
  {
   "cell_type": "code",
   "execution_count": 210,
   "id": "a9d826a3",
   "metadata": {},
   "outputs": [
    {
     "ename": "ValueError",
     "evalue": "could not convert string to float: 'HTTP 404'",
     "output_type": "error",
     "traceback": [
      "\u001b[1;31m---------------------------------------------------------------------------\u001b[0m",
      "\u001b[1;31mValueError\u001b[0m                                Traceback (most recent call last)",
      "\u001b[1;32m~\\AppData\\Local\\Temp/ipykernel_15140/1321587647.py\u001b[0m in \u001b[0;36m<module>\u001b[1;34m\u001b[0m\n\u001b[1;32m----> 1\u001b[1;33m \u001b[0mfitted_model_grid\u001b[0m\u001b[1;33m.\u001b[0m\u001b[0mpredict\u001b[0m\u001b[1;33m(\u001b[0m\u001b[0mdata\u001b[0m\u001b[1;33m)\u001b[0m\u001b[1;33m\u001b[0m\u001b[1;33m\u001b[0m\u001b[0m\n\u001b[0m\u001b[0;32m      2\u001b[0m \u001b[0mresidual_names\u001b[0m \u001b[1;33m=\u001b[0m \u001b[0mnp\u001b[0m\u001b[1;33m.\u001b[0m\u001b[0mtranspose\u001b[0m\u001b[1;33m(\u001b[0m\u001b[0mnp\u001b[0m\u001b[1;33m.\u001b[0m\u001b[0mvstack\u001b[0m\u001b[1;33m(\u001b[0m\u001b[0mnames\u001b[0m\u001b[1;33m,\u001b[0m \u001b[0moutput\u001b[0m\u001b[1;33m.\u001b[0m\u001b[0mpredict\u001b[0m\u001b[1;33m(\u001b[0m\u001b[0mdata\u001b[0m\u001b[1;33m)\u001b[0m\u001b[1;33m)\u001b[0m\u001b[1;33m)\u001b[0m\u001b[1;33m\u001b[0m\u001b[1;33m\u001b[0m\u001b[0m\n\u001b[0;32m      3\u001b[0m \u001b[0mdata_wiki\u001b[0m \u001b[1;33m=\u001b[0m \u001b[0mpd\u001b[0m\u001b[1;33m.\u001b[0m\u001b[0mDataFrame\u001b[0m\u001b[1;33m(\u001b[0m\u001b[0mresidual_names\u001b[0m\u001b[1;33m,\u001b[0m \u001b[0mcolumns\u001b[0m \u001b[1;33m=\u001b[0m \u001b[1;33m[\u001b[0m\u001b[1;34m'name'\u001b[0m\u001b[1;33m,\u001b[0m \u001b[1;34m'cluster'\u001b[0m\u001b[1;33m]\u001b[0m\u001b[1;33m)\u001b[0m\u001b[1;33m\u001b[0m\u001b[1;33m\u001b[0m\u001b[0m\n\u001b[0;32m      4\u001b[0m \u001b[0msorted\u001b[0m \u001b[1;33m=\u001b[0m \u001b[0mdata_wiki\u001b[0m\u001b[1;33m.\u001b[0m\u001b[0msort_values\u001b[0m\u001b[1;33m(\u001b[0m\u001b[0mby\u001b[0m \u001b[1;33m=\u001b[0m \u001b[1;34m'Cluster'\u001b[0m\u001b[1;33m)\u001b[0m\u001b[1;33m\u001b[0m\u001b[1;33m\u001b[0m\u001b[0m\n\u001b[0;32m      5\u001b[0m \u001b[1;33m\u001b[0m\u001b[0m\n",
      "\u001b[1;32m~\\anaconda3\\lib\\site-packages\\sklearn\\cluster\\_kmeans.py\u001b[0m in \u001b[0;36mpredict\u001b[1;34m(self, X, sample_weight)\u001b[0m\n\u001b[0;32m   1154\u001b[0m         \u001b[0mcheck_is_fitted\u001b[0m\u001b[1;33m(\u001b[0m\u001b[0mself\u001b[0m\u001b[1;33m)\u001b[0m\u001b[1;33m\u001b[0m\u001b[1;33m\u001b[0m\u001b[0m\n\u001b[0;32m   1155\u001b[0m \u001b[1;33m\u001b[0m\u001b[0m\n\u001b[1;32m-> 1156\u001b[1;33m         \u001b[0mX\u001b[0m \u001b[1;33m=\u001b[0m \u001b[0mself\u001b[0m\u001b[1;33m.\u001b[0m\u001b[0m_check_test_data\u001b[0m\u001b[1;33m(\u001b[0m\u001b[0mX\u001b[0m\u001b[1;33m)\u001b[0m\u001b[1;33m\u001b[0m\u001b[1;33m\u001b[0m\u001b[0m\n\u001b[0m\u001b[0;32m   1157\u001b[0m         \u001b[0mx_squared_norms\u001b[0m \u001b[1;33m=\u001b[0m \u001b[0mrow_norms\u001b[0m\u001b[1;33m(\u001b[0m\u001b[0mX\u001b[0m\u001b[1;33m,\u001b[0m \u001b[0msquared\u001b[0m\u001b[1;33m=\u001b[0m\u001b[1;32mTrue\u001b[0m\u001b[1;33m)\u001b[0m\u001b[1;33m\u001b[0m\u001b[1;33m\u001b[0m\u001b[0m\n\u001b[0;32m   1158\u001b[0m         \u001b[0msample_weight\u001b[0m \u001b[1;33m=\u001b[0m \u001b[0m_check_sample_weight\u001b[0m\u001b[1;33m(\u001b[0m\u001b[0msample_weight\u001b[0m\u001b[1;33m,\u001b[0m \u001b[0mX\u001b[0m\u001b[1;33m,\u001b[0m \u001b[0mdtype\u001b[0m\u001b[1;33m=\u001b[0m\u001b[0mX\u001b[0m\u001b[1;33m.\u001b[0m\u001b[0mdtype\u001b[0m\u001b[1;33m)\u001b[0m\u001b[1;33m\u001b[0m\u001b[1;33m\u001b[0m\u001b[0m\n",
      "\u001b[1;32m~\\anaconda3\\lib\\site-packages\\sklearn\\cluster\\_kmeans.py\u001b[0m in \u001b[0;36m_check_test_data\u001b[1;34m(self, X)\u001b[0m\n\u001b[0;32m    856\u001b[0m \u001b[1;33m\u001b[0m\u001b[0m\n\u001b[0;32m    857\u001b[0m     \u001b[1;32mdef\u001b[0m \u001b[0m_check_test_data\u001b[0m\u001b[1;33m(\u001b[0m\u001b[0mself\u001b[0m\u001b[1;33m,\u001b[0m \u001b[0mX\u001b[0m\u001b[1;33m)\u001b[0m\u001b[1;33m:\u001b[0m\u001b[1;33m\u001b[0m\u001b[1;33m\u001b[0m\u001b[0m\n\u001b[1;32m--> 858\u001b[1;33m         X = self._validate_data(X, accept_sparse='csr', reset=False,\n\u001b[0m\u001b[0;32m    859\u001b[0m                                 \u001b[0mdtype\u001b[0m\u001b[1;33m=\u001b[0m\u001b[1;33m[\u001b[0m\u001b[0mnp\u001b[0m\u001b[1;33m.\u001b[0m\u001b[0mfloat64\u001b[0m\u001b[1;33m,\u001b[0m \u001b[0mnp\u001b[0m\u001b[1;33m.\u001b[0m\u001b[0mfloat32\u001b[0m\u001b[1;33m]\u001b[0m\u001b[1;33m,\u001b[0m\u001b[1;33m\u001b[0m\u001b[1;33m\u001b[0m\u001b[0m\n\u001b[0;32m    860\u001b[0m                                 order='C', accept_large_sparse=False)\n",
      "\u001b[1;32m~\\anaconda3\\lib\\site-packages\\sklearn\\base.py\u001b[0m in \u001b[0;36m_validate_data\u001b[1;34m(self, X, y, reset, validate_separately, **check_params)\u001b[0m\n\u001b[0;32m    419\u001b[0m             \u001b[0mout\u001b[0m \u001b[1;33m=\u001b[0m \u001b[0mX\u001b[0m\u001b[1;33m\u001b[0m\u001b[1;33m\u001b[0m\u001b[0m\n\u001b[0;32m    420\u001b[0m         \u001b[1;32melif\u001b[0m \u001b[0misinstance\u001b[0m\u001b[1;33m(\u001b[0m\u001b[0my\u001b[0m\u001b[1;33m,\u001b[0m \u001b[0mstr\u001b[0m\u001b[1;33m)\u001b[0m \u001b[1;32mand\u001b[0m \u001b[0my\u001b[0m \u001b[1;33m==\u001b[0m \u001b[1;34m'no_validation'\u001b[0m\u001b[1;33m:\u001b[0m\u001b[1;33m\u001b[0m\u001b[1;33m\u001b[0m\u001b[0m\n\u001b[1;32m--> 421\u001b[1;33m             \u001b[0mX\u001b[0m \u001b[1;33m=\u001b[0m \u001b[0mcheck_array\u001b[0m\u001b[1;33m(\u001b[0m\u001b[0mX\u001b[0m\u001b[1;33m,\u001b[0m \u001b[1;33m**\u001b[0m\u001b[0mcheck_params\u001b[0m\u001b[1;33m)\u001b[0m\u001b[1;33m\u001b[0m\u001b[1;33m\u001b[0m\u001b[0m\n\u001b[0m\u001b[0;32m    422\u001b[0m             \u001b[0mout\u001b[0m \u001b[1;33m=\u001b[0m \u001b[0mX\u001b[0m\u001b[1;33m\u001b[0m\u001b[1;33m\u001b[0m\u001b[0m\n\u001b[0;32m    423\u001b[0m         \u001b[1;32melse\u001b[0m\u001b[1;33m:\u001b[0m\u001b[1;33m\u001b[0m\u001b[1;33m\u001b[0m\u001b[0m\n",
      "\u001b[1;32m~\\anaconda3\\lib\\site-packages\\sklearn\\utils\\validation.py\u001b[0m in \u001b[0;36minner_f\u001b[1;34m(*args, **kwargs)\u001b[0m\n\u001b[0;32m     61\u001b[0m             \u001b[0mextra_args\u001b[0m \u001b[1;33m=\u001b[0m \u001b[0mlen\u001b[0m\u001b[1;33m(\u001b[0m\u001b[0margs\u001b[0m\u001b[1;33m)\u001b[0m \u001b[1;33m-\u001b[0m \u001b[0mlen\u001b[0m\u001b[1;33m(\u001b[0m\u001b[0mall_args\u001b[0m\u001b[1;33m)\u001b[0m\u001b[1;33m\u001b[0m\u001b[1;33m\u001b[0m\u001b[0m\n\u001b[0;32m     62\u001b[0m             \u001b[1;32mif\u001b[0m \u001b[0mextra_args\u001b[0m \u001b[1;33m<=\u001b[0m \u001b[1;36m0\u001b[0m\u001b[1;33m:\u001b[0m\u001b[1;33m\u001b[0m\u001b[1;33m\u001b[0m\u001b[0m\n\u001b[1;32m---> 63\u001b[1;33m                 \u001b[1;32mreturn\u001b[0m \u001b[0mf\u001b[0m\u001b[1;33m(\u001b[0m\u001b[1;33m*\u001b[0m\u001b[0margs\u001b[0m\u001b[1;33m,\u001b[0m \u001b[1;33m**\u001b[0m\u001b[0mkwargs\u001b[0m\u001b[1;33m)\u001b[0m\u001b[1;33m\u001b[0m\u001b[1;33m\u001b[0m\u001b[0m\n\u001b[0m\u001b[0;32m     64\u001b[0m \u001b[1;33m\u001b[0m\u001b[0m\n\u001b[0;32m     65\u001b[0m             \u001b[1;31m# extra_args > 0\u001b[0m\u001b[1;33m\u001b[0m\u001b[1;33m\u001b[0m\u001b[0m\n",
      "\u001b[1;32m~\\anaconda3\\lib\\site-packages\\sklearn\\utils\\validation.py\u001b[0m in \u001b[0;36mcheck_array\u001b[1;34m(array, accept_sparse, accept_large_sparse, dtype, order, copy, force_all_finite, ensure_2d, allow_nd, ensure_min_samples, ensure_min_features, estimator)\u001b[0m\n\u001b[0;32m    671\u001b[0m                     \u001b[0marray\u001b[0m \u001b[1;33m=\u001b[0m \u001b[0marray\u001b[0m\u001b[1;33m.\u001b[0m\u001b[0mastype\u001b[0m\u001b[1;33m(\u001b[0m\u001b[0mdtype\u001b[0m\u001b[1;33m,\u001b[0m \u001b[0mcasting\u001b[0m\u001b[1;33m=\u001b[0m\u001b[1;34m\"unsafe\"\u001b[0m\u001b[1;33m,\u001b[0m \u001b[0mcopy\u001b[0m\u001b[1;33m=\u001b[0m\u001b[1;32mFalse\u001b[0m\u001b[1;33m)\u001b[0m\u001b[1;33m\u001b[0m\u001b[1;33m\u001b[0m\u001b[0m\n\u001b[0;32m    672\u001b[0m                 \u001b[1;32melse\u001b[0m\u001b[1;33m:\u001b[0m\u001b[1;33m\u001b[0m\u001b[1;33m\u001b[0m\u001b[0m\n\u001b[1;32m--> 673\u001b[1;33m                     \u001b[0marray\u001b[0m \u001b[1;33m=\u001b[0m \u001b[0mnp\u001b[0m\u001b[1;33m.\u001b[0m\u001b[0masarray\u001b[0m\u001b[1;33m(\u001b[0m\u001b[0marray\u001b[0m\u001b[1;33m,\u001b[0m \u001b[0morder\u001b[0m\u001b[1;33m=\u001b[0m\u001b[0morder\u001b[0m\u001b[1;33m,\u001b[0m \u001b[0mdtype\u001b[0m\u001b[1;33m=\u001b[0m\u001b[0mdtype\u001b[0m\u001b[1;33m)\u001b[0m\u001b[1;33m\u001b[0m\u001b[1;33m\u001b[0m\u001b[0m\n\u001b[0m\u001b[0;32m    674\u001b[0m             \u001b[1;32mexcept\u001b[0m \u001b[0mComplexWarning\u001b[0m \u001b[1;32mas\u001b[0m \u001b[0mcomplex_warning\u001b[0m\u001b[1;33m:\u001b[0m\u001b[1;33m\u001b[0m\u001b[1;33m\u001b[0m\u001b[0m\n\u001b[0;32m    675\u001b[0m                 raise ValueError(\"Complex data not supported\\n\"\n",
      "\u001b[1;32m~\\anaconda3\\lib\\site-packages\\pandas\\core\\generic.py\u001b[0m in \u001b[0;36m__array__\u001b[1;34m(self, dtype)\u001b[0m\n\u001b[0;32m   1991\u001b[0m \u001b[1;33m\u001b[0m\u001b[0m\n\u001b[0;32m   1992\u001b[0m     \u001b[1;32mdef\u001b[0m \u001b[0m__array__\u001b[0m\u001b[1;33m(\u001b[0m\u001b[0mself\u001b[0m\u001b[1;33m,\u001b[0m \u001b[0mdtype\u001b[0m\u001b[1;33m:\u001b[0m \u001b[0mNpDtype\u001b[0m \u001b[1;33m|\u001b[0m \u001b[1;32mNone\u001b[0m \u001b[1;33m=\u001b[0m \u001b[1;32mNone\u001b[0m\u001b[1;33m)\u001b[0m \u001b[1;33m->\u001b[0m \u001b[0mnp\u001b[0m\u001b[1;33m.\u001b[0m\u001b[0mndarray\u001b[0m\u001b[1;33m:\u001b[0m\u001b[1;33m\u001b[0m\u001b[1;33m\u001b[0m\u001b[0m\n\u001b[1;32m-> 1993\u001b[1;33m         \u001b[1;32mreturn\u001b[0m \u001b[0mnp\u001b[0m\u001b[1;33m.\u001b[0m\u001b[0masarray\u001b[0m\u001b[1;33m(\u001b[0m\u001b[0mself\u001b[0m\u001b[1;33m.\u001b[0m\u001b[0m_values\u001b[0m\u001b[1;33m,\u001b[0m \u001b[0mdtype\u001b[0m\u001b[1;33m=\u001b[0m\u001b[0mdtype\u001b[0m\u001b[1;33m)\u001b[0m\u001b[1;33m\u001b[0m\u001b[1;33m\u001b[0m\u001b[0m\n\u001b[0m\u001b[0;32m   1994\u001b[0m \u001b[1;33m\u001b[0m\u001b[0m\n\u001b[0;32m   1995\u001b[0m     def __array_wrap__(\n",
      "\u001b[1;31mValueError\u001b[0m: could not convert string to float: 'HTTP 404'"
     ]
    }
   ],
   "source": [
    "fitted_model_grid.predict(data)\n",
    "residual_names = np.transpose(np.vstack(names, output.predict(data)))\n",
    "data_wiki = pd.DataFrame(residual_names, columns = ['name', 'cluster'])\n",
    "sorted = data_wiki.sort_values(by = 'Cluster')\n",
    "\n",
    "\n",
    "#I think the labels make sense."
   ]
  },
  {
   "cell_type": "markdown",
   "id": "88c1ab99",
   "metadata": {},
   "source": [
    "## **4)** PCA with Supervised Learning (15 points)"
   ]
  },
  {
   "cell_type": "markdown",
   "id": "6027de4e",
   "metadata": {},
   "source": [
    "Now that you are familiar with using pipeline objects, recreate the code for the **May4** in-class assignment with a pipeline object and its grid search. Note that you need to split the training and the test data first. Afterwards, you need to create a pipeline with **three** elements **in correct order** and run the grid search on this pipeline. \n",
    "\n",
    "Use each variance value from **0.90 to 0.99 with a stepsize of 0.01** and each C value from the **array [0.01, 0.1, 1, 10]**. Return the **best parameters** and the **test confusion matrix**. (It is perfectly normal if the test performance is a bit lower than the in-class assignment, you never know how the test results can be.)"
   ]
  },
  {
   "cell_type": "code",
   "execution_count": 211,
   "id": "40c2f0af",
   "metadata": {},
   "outputs": [],
   "source": [
    "data = pd.read_csv('tumor_classification.csv')\n",
    "\n",
    "y = data['diagnosis']\n",
    "X = data.drop(['id', 'diagnosis'], axis=1)"
   ]
  },
  {
   "cell_type": "code",
   "execution_count": 217,
   "id": "411ae2ac",
   "metadata": {},
   "outputs": [
    {
     "name": "stdout",
     "output_type": "stream",
     "text": [
      "0.9736842105263158\n",
      "[[71  2]\n",
      " [ 1 40]]\n"
     ]
    }
   ],
   "source": [
    "scaler = StandardScaler()\n",
    "scaler.fit(X)\n",
    "X_sc = scaler.transform(X)\n",
    "\n",
    "X_train, X_test, y_train, y_test = train_test_split(X_sc,\n",
    "                                                    y,\n",
    "                                                    stratify=y,\n",
    "                                                    test_size = 0.2, \n",
    "                                                    random_state = 42)\n",
    "\n",
    "logreg = LogisticRegression()\n",
    "logreg.fit(X_train, y_train)\n",
    "print(accuracy_score(logreg.predict(X_test), y_test))\n",
    "print(confusion_matrix(logreg.predict(X_test), y_test))"
   ]
  },
  {
   "cell_type": "code",
   "execution_count": null,
   "id": "4f04cdad",
   "metadata": {},
   "outputs": [],
   "source": []
  }
 ],
 "metadata": {
  "kernelspec": {
   "display_name": "Python 3 (ipykernel)",
   "language": "python",
   "name": "python3"
  },
  "language_info": {
   "codemirror_mode": {
    "name": "ipython",
    "version": 3
   },
   "file_extension": ".py",
   "mimetype": "text/x-python",
   "name": "python",
   "nbconvert_exporter": "python",
   "pygments_lexer": "ipython3",
   "version": "3.9.7"
  }
 },
 "nbformat": 4,
 "nbformat_minor": 5
}
