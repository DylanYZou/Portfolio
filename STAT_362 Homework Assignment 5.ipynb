{
 "cells": [
  {
   "cell_type": "markdown",
   "id": "54e54ac9",
   "metadata": {},
   "source": [
    "# Homework Assignment 5 - Deep Learning 2: Convolutional and Recurrent Neural Networks\n",
    "### **Due:** Tuesday, June 6, 11:59pm\n",
    "### Total: 100 points"
   ]
  },
  {
   "cell_type": "markdown",
   "id": "7b5bba81",
   "metadata": {},
   "source": [
    "## Import all the libraries and tools you need below."
   ]
  },
  {
   "cell_type": "code",
   "execution_count": 205,
   "id": "85bacf75",
   "metadata": {},
   "outputs": [],
   "source": [
    "import os\n",
    "\n",
    "os.getcwd()\n",
    "os.chdir(\"C:\\Data\")\n",
    "os.getcwd()\n",
    "\n",
    "import tensorflow as tf\n",
    "tf.config.run_functions_eagerly(True)\n",
    "\n",
    "import pandas as pd\n",
    "import numpy as np \n",
    "from numpy import log,dot,e,shape\n",
    "from numpy import log,dot,e,shape\n",
    "from numpy.linalg import norm\n",
    "import matplotlib.pyplot as plt\n",
    "import seaborn as sns\n",
    "\n",
    "from sklearn.model_selection import train_test_split\n",
    "from sklearn.metrics import accuracy_score, confusion_matrix\n",
    "from keras.preprocessing.image import ImageDataGenerator\n",
    "from keras.utils.np_utils import to_categorical\n",
    "from keras.optimizers import Adam\n",
    "from tensorflow.keras.models import Sequential\n",
    "from tensorflow.keras import regularizers\n",
    "from tensorflow.keras.layers import LSTM, MaxPooling1D, Conv1D, Conv2D\n",
    "from tensorflow.keras.layers import Bidirectional, MaxPooling2D \n",
    "from tensorflow.keras.layers import Flatten, Dense, Dropout, GRU"
   ]
  },
  {
   "cell_type": "markdown",
   "id": "d0f9629f",
   "metadata": {},
   "source": [
    "## **1)** CNN for Image Classification (35 points)"
   ]
  },
  {
   "cell_type": "markdown",
   "id": "86645e8b",
   "metadata": {},
   "source": [
    "**Before you start:** This dataset and its classification is a popular problem on Kaggle, so you can use a lot of help from there on both the network architecture and the image generators. This is fine, since the main goal of this question is to familiarize you to use big data. **There is only one restriction: You are not permitted to use any built-in network models (VGG16, ResNet etc.) or transfer learning. You have to build your own architecture from scratch and train it.** Anything else is permitted."
   ]
  },
  {
   "cell_type": "markdown",
   "id": "ea15ff29",
   "metadata": {},
   "source": [
    "In this question, you will need a Convolutional Neural Network (CNN) to classify patients that are healthy (0) and patients with pneumonia (1) using their chest x-ray images. \n",
    "\n",
    "First of all, the image dataset for this question too big to read in your Python memory, so **you should not try to directly read it.** What you need is data generator objects that will read the data in batches without trying to hold all the images in memory.\n",
    "\n",
    "Download and put the [chest_xray](https://nuwildcat-my.sharepoint.com/:f:/r/personal/ebf987_ads_northwestern_edu/Documents/chest_xray?csf=1&web=1&e=t3293g) folder somewhere on your machine (or Drive folder for Colab) and put this .ipynb file in the same location. The cell below creates the paths that the image generators will use to pull the images and also some values to process the images."
   ]
  },
  {
   "cell_type": "code",
   "execution_count": 7,
   "id": "18699158",
   "metadata": {},
   "outputs": [],
   "source": [
    "train_path = 'chest_xray/train'\n",
    "test_path = 'chest_xray/test'\n",
    "val_path = 'chest_xray/val'\n",
    "\n",
    "batch_size = 16\n",
    "\n",
    "img_height = 500\n",
    "img_weight = 500"
   ]
  },
  {
   "cell_type": "markdown",
   "id": "d7a4ecce",
   "metadata": {},
   "source": [
    "**a)** Using the **ImageDataGenerator** class from **keras.preprocessing.image**, create two generator objects. The first one should be for training and it should include data augmentation to train the network better. Data augmentation means increasing the training data size with certain image processing tools. Very common data augmentation tools are zooming and shearing different parts of a training image and using these parts as different training images. The first generator inputs:\n",
    "\n",
    "- rescale ratio should be set to 1/255\n",
    "- shear range should be 0.2\n",
    "- zoom range should be 0.2\n",
    "\n",
    "**(4 points)**\n",
    "\n",
    "**b)** Create the second generator object with only the rescale ratio input. This one will be for the validation and test datasets and it does not need any augmentation tools.\n",
    "\n",
    "**(3 points)**"
   ]
  },
  {
   "cell_type": "code",
   "execution_count": 8,
   "id": "710fb233",
   "metadata": {},
   "outputs": [],
   "source": [
    "#A\n",
    "train_datagen = ImageDataGenerator(\n",
    "    rescale=1/255,\n",
    "    shear_range=0.2,\n",
    "    zoom_range=0.2\n",
    ")\n",
    "\n",
    "#B\n",
    "test_datagen = ImageDataGenerator(\n",
    "    rescale=1/255\n",
    ")"
   ]
  },
  {
   "cell_type": "markdown",
   "id": "29c7164a",
   "metadata": {},
   "source": [
    "**c)** Using the generator objects and their **.flow_from_directory** method, create the generators for the training, validation and test data.\n",
    "\n",
    "- You need the training generator object for the training generator only. The validation and test generators need the test generator object.\n",
    "\n",
    "- In all generators, you need the proper **path**, the **target size** and the **batch size**. (values given above)\n",
    "\n",
    "- For all generators, set the **color mode** to **\"grayscale\"** and the **class mode** to **\"binary\"**, since these are the settings for the task.\n",
    "\n",
    "- **shuffle** should be **True** only for the training data.\n",
    "\n",
    "**(8 points)**"
   ]
  },
  {
   "cell_type": "code",
   "execution_count": 9,
   "id": "68bbd2f4",
   "metadata": {},
   "outputs": [
    {
     "name": "stdout",
     "output_type": "stream",
     "text": [
      "Found 5216 images belonging to 2 classes.\n",
      "Found 16 images belonging to 2 classes.\n",
      "Found 624 images belonging to 2 classes.\n"
     ]
    }
   ],
   "source": [
    "train_generator = train_datagen.flow_from_directory(\n",
    "    train_path,\n",
    "    target_size=(img_weight, img_height),\n",
    "    batch_size=batch_size,\n",
    "    class_mode='binary'\n",
    ")\n",
    "\n",
    "validation_generator = test_datagen.flow_from_directory(\n",
    "    val_path,\n",
    "    target_size=(img_weight, img_height),\n",
    "    batch_size=batch_size,\n",
    "    class_mode='binary'\n",
    ")\n",
    "\n",
    "test_generator = test_datagen.flow_from_directory(\n",
    "    test_path,\n",
    "    target_size=(img_weight, img_height),\n",
    "    batch_size=batch_size,\n",
    "    class_mode='binary'\n",
    ")"
   ]
  },
  {
   "cell_type": "markdown",
   "id": "6bb4adab",
   "metadata": {},
   "source": [
    "**d)** Create a CNN for the binary classification task.\n",
    "\n",
    "Compile the network using the proper cost function and an optimizer of your choice. **(3 points)** Don't forget to set the number of epochs and other necessary inputs while training. **(4 points)** After the network is trained, print the test accuracy. **(3 points)**\n",
    "\n",
    "The entire architecture and the training inputs are your choice. Your network should return a test accuracy higher than 88%. **(10 points)**\n",
    "\n",
    "A few notes:\n",
    "\n",
    "- Instead of X_train and y_train, you only need the training generator defined above, which will read both from the given directory.\n",
    "\n",
    "- Since you do not have a y_train, you cannot one-hot-encode it. This means you cannot have an output layer with two nodes. You need to work around this by changing the output layer, its function and the cost function. (Check the slides.)\n",
    "\n",
    "- Instead of validation split, use validation data and set it to the validation generator.\n",
    "\n",
    "- Note that you do not have a y_test for this question; you only have the test generator. To calculate the test accuracy, follow these steps:\n",
    "    - While compiling the network, use the **metrics** input and set it to **accuracy**.\n",
    "    - After the training is done, use **.evaluate** instead of **.predict**, with the test generator. This will return the test loss and test accuracy as two outputs, respectively.\n",
    "    \n",
    "- The training will take some time. (25 minutes on my machine to pass 88%.)"
   ]
  },
  {
   "cell_type": "code",
   "execution_count": 10,
   "id": "af154415",
   "metadata": {},
   "outputs": [],
   "source": [
    "tf.random.set_seed(0)\n",
    "np.random.seed(0)\n",
    "\n",
    "# Create the model\n",
    "model = Sequential()\n",
    "model.add(Conv2D(32, (3, 3), activation='relu', input_shape=(img_weight, img_height, 3)))\n",
    "model.add(MaxPooling2D((2, 2)))\n",
    "model.add(Conv2D(64, (3, 3), activation='relu'))\n",
    "model.add(MaxPooling2D((2, 2)))\n",
    "model.add(Conv2D(128, (3, 3), activation='relu'))\n",
    "model.add(MaxPooling2D((2, 2)))\n",
    "model.add(Flatten())\n",
    "model.add(Dense(256, activation='relu'))\n",
    "model.add(Dropout(0.5))\n",
    "model.add(Dense(1, activation='sigmoid'))\n",
    "\n",
    "model.compile(loss=tf.keras.losses.BinaryCrossentropy(), optimizer='adam', \n",
    "              metrics=['accuracy'])"
   ]
  },
  {
   "cell_type": "code",
   "execution_count": 11,
   "id": "bbb753a2",
   "metadata": {},
   "outputs": [
    {
     "name": "stderr",
     "output_type": "stream",
     "text": [
      "C:\\Users\\dylan\\anaconda3\\lib\\site-packages\\tensorflow\\python\\data\\ops\\structured_function.py:254: UserWarning: Even though the `tf.config.experimental_run_functions_eagerly` option is set, this option does not apply to tf.data functions. To force eager execution of tf.data functions, please use `tf.data.experimental.enable_debug_mode()`.\n",
      "  warnings.warn(\n"
     ]
    },
    {
     "name": "stdout",
     "output_type": "stream",
     "text": [
      "Epoch 1/10\n",
      "326/326 [==============================] - 2172s 7s/step - loss: 0.5018 - accuracy: 0.8390 - val_loss: 1.1501 - val_accuracy: 0.6250\n",
      "Epoch 2/10\n",
      "326/326 [==============================] - 1346s 4s/step - loss: 0.2344 - accuracy: 0.9086 - val_loss: 0.3488 - val_accuracy: 0.7500\n",
      "Epoch 3/10\n",
      "326/326 [==============================] - 1787s 5s/step - loss: 0.1988 - accuracy: 0.9237 - val_loss: 0.9579 - val_accuracy: 0.6250\n",
      "Epoch 4/10\n",
      "326/326 [==============================] - 1537s 5s/step - loss: 0.1930 - accuracy: 0.9262 - val_loss: 0.5421 - val_accuracy: 0.6875\n",
      "Epoch 5/10\n",
      "326/326 [==============================] - 1538s 5s/step - loss: 0.1756 - accuracy: 0.9333 - val_loss: 0.8329 - val_accuracy: 0.6250\n",
      "Epoch 6/10\n",
      "326/326 [==============================] - 2581s 8s/step - loss: 0.1758 - accuracy: 0.9321 - val_loss: 0.9723 - val_accuracy: 0.6250\n",
      "Epoch 7/10\n",
      "326/326 [==============================] - 1256s 4s/step - loss: 0.1602 - accuracy: 0.9427 - val_loss: 0.2760 - val_accuracy: 0.8125\n",
      "Epoch 8/10\n",
      "326/326 [==============================] - 1583s 5s/step - loss: 0.1629 - accuracy: 0.9335 - val_loss: 0.3659 - val_accuracy: 0.8125\n",
      "Epoch 9/10\n",
      "326/326 [==============================] - 1912s 6s/step - loss: 0.1455 - accuracy: 0.9442 - val_loss: 0.5136 - val_accuracy: 0.6875\n",
      "Epoch 10/10\n",
      "326/326 [==============================] - 1514s 5s/step - loss: 0.1400 - accuracy: 0.9473 - val_loss: 0.3785 - val_accuracy: 0.7500\n"
     ]
    },
    {
     "data": {
      "text/plain": [
       "<keras.callbacks.History at 0x1f480564760>"
      ]
     },
     "execution_count": 11,
     "metadata": {},
     "output_type": "execute_result"
    }
   ],
   "source": [
    "epochs = 10\n",
    "\n",
    "# Train the model\n",
    "model.fit(\n",
    "    train_generator,\n",
    "    epochs=epochs,\n",
    "    validation_data=validation_generator\n",
    ")"
   ]
  },
  {
   "cell_type": "code",
   "execution_count": 12,
   "id": "18e4d3df",
   "metadata": {},
   "outputs": [
    {
     "name": "stdout",
     "output_type": "stream",
     "text": [
      "39/39 [==============================] - 31s 723ms/step - loss: 0.3891 - accuracy: 0.8958\n",
      "Test Accuracy: 0.8958333134651184\n"
     ]
    }
   ],
   "source": [
    "test_loss, test_accuracy = model.evaluate(test_generator)\n",
    "print(\"Test Accuracy:\", test_accuracy)"
   ]
  },
  {
   "cell_type": "markdown",
   "id": "10afd347",
   "metadata": {},
   "source": [
    "## 2) CNN for Sequence Classification (30 points)"
   ]
  },
  {
   "cell_type": "markdown",
   "id": "afb07605",
   "metadata": {},
   "source": [
    "In this question, you will use a CNN to classify the cardiac arrhythmia dataset you used for the previous homework assignment. Use the same lines below that preprocess the data and create the training and test sets."
   ]
  },
  {
   "cell_type": "code",
   "execution_count": 191,
   "id": "cc536e9e",
   "metadata": {},
   "outputs": [
    {
     "name": "stdout",
     "output_type": "stream",
     "text": [
      "0.0    72471\n",
      "4.0     6431\n",
      "2.0     5788\n",
      "1.0     2223\n",
      "3.0      641\n",
      "Name: 187, dtype: int64\n",
      "0.0    8000\n",
      "4.0    6431\n",
      "2.0    5788\n",
      "1.0    2223\n",
      "3.0     641\n",
      "Name: 187, dtype: int64\n",
      "(20774, 187)\n",
      "[[1. 0. 0. 0. 0.]\n",
      " [0. 0. 0. 0. 1.]\n",
      " [0. 0. 1. 0. 0.]\n",
      " ...\n",
      " [0. 0. 0. 0. 1.]\n",
      " [1. 0. 0. 0. 0.]\n",
      " [1. 0. 0. 0. 0.]]\n"
     ]
    },
    {
     "data": {
      "image/png": "[encoded data removed]",
      "text/plain": [
       "<Figure size 432x288 with 1 Axes>"
      ]
     },
     "metadata": {
      "needs_background": "light"
     },
     "output_type": "display_data"
    }
   ],
   "source": [
    "data = pd.read_csv('heartbeat_dataset.csv', header=None)\n",
    "#data=pd.DataFrame(data)\n",
    "\n",
    "# One heartbeat\n",
    "plt.plot(data.iloc[1,:])\n",
    "plt.xlabel('time')\n",
    "plt.ylabel('Voltage')\n",
    "plt.plot()\n",
    "\n",
    "# Overall class distribution\n",
    "print(data[187].value_counts())\n",
    "\n",
    "# Downsampling Class 0 instances to 8000\n",
    "class_other = data[data[187]!=0.0]\n",
    "class_0 = data[data[187]==0.0].sample(n = 8000, random_state=1)\n",
    "data_sampled = pd.concat([class_0, class_other])\n",
    "\n",
    "# The new class distribution.\n",
    "print(data_sampled[187].value_counts())\n",
    "\n",
    "# Separating the features and the labels into X and y variables.\n",
    "y = data_sampled[187]\n",
    "X = data_sampled.drop([187], axis=1)\n",
    "\n",
    "# Train-test split\n",
    "X_train, X_test, y_train, y_test = train_test_split(X, y, stratify=y,random_state=1, test_size=0.1)\n",
    "\n",
    "print(X_train.shape)\n",
    "\n",
    "X_train = np.array(X_train)\n",
    "X_test = np.array(X_test)\n",
    "y_train = to_categorical(y_train)\n",
    "\n",
    "print(y_train)"
   ]
  },
  {
   "cell_type": "markdown",
   "id": "60c22a31",
   "metadata": {},
   "source": [
    "**a)** Note that even though the instances are not images, they have a one-dimensional temporal structure, which can be used as additional information by a CNN.  To use this data as a \"one-dimensional image\" dataset, you need to add a third dimension, which is the number of channels. For this single-sequence (the medical term is single-lead) heartbeat dataset, the number of channels is 1.\n",
    "\n",
    "Reshape both the training and the test datasets. The datasets should have their three dimensions as **(number of instances, sequence length, number of channels)**. **(5 points)**"
   ]
  },
  {
   "cell_type": "code",
   "execution_count": 192,
   "id": "c359805f",
   "metadata": {},
   "outputs": [
    {
     "name": "stdout",
     "output_type": "stream",
     "text": [
      "(2309, 5)\n",
      "(20774, 5)\n"
     ]
    }
   ],
   "source": [
    "X_train = X_train.reshape(X_train.shape[0], X_train.shape[1], 1)\n",
    "\n",
    "X_test = X_test.reshape(X_test.shape[0], X_train.shape[1], 1)\n",
    "\n",
    "y_test.shape\n",
    "y_test_reshaped = np.array(y_test).reshape((-1, 1))\n",
    "y_test_categorical = to_categorical(y_test_reshaped, num_classes=5)\n",
    "print(y_test_categorical.shape)\n",
    "print(y_train.shape)"
   ]
  },
  {
   "cell_type": "markdown",
   "id": "b3cfa0ea",
   "metadata": {},
   "source": [
    "**b)** Create a CNN for the 5-class classification task.\n",
    "\n",
    "Compile the network using the proper cost function and an optimizer of your choice. **(3 points)** Don't forget to set the number of epochs and other necessary inputs while training. **(3 points)** Assign your training line to a history output. **(2 points)**\n",
    "\n",
    "After the network is trained, print the test accuracy **(2.5 points)** and the confusion matrix **(2.5 points)**, and plot both the training and validation losses against the number of epochs. **(2 points)**\n",
    "\n",
    "The entire architecture and the training inputs are your choice. Your network should return a test accuracy higher than 96%. **(10 points)**\n",
    "\n",
    "**Important Note:** Keep in mind that unlike the images we used in class, your \"images\" here are one-dimensional, which means the only dimensions you have are the **sequence length and the number of channels**. You need to set the **input shape** accordingly. Also, Conv2D and MaxPooling2D layers will not work anymore; you need their **one-dimensional counterparts**. (Explore the Keras documentation.)\n",
    "\n",
    "**You have to use convolutional layers to get credit from this question.**"
   ]
  },
  {
   "cell_type": "code",
   "execution_count": 193,
   "id": "b3bbb68e",
   "metadata": {},
   "outputs": [],
   "source": [
    "tf.random.set_seed(0)\n",
    "np.random.seed(0)\n",
    "\n",
    "model = Sequential()\n",
    "model.add(Conv1D(32, kernel_size=3, activation='relu', \n",
    "                 input_shape=(X_train.shape[1], X_train.shape[2]),\n",
    "#                kernel_regularizer=regularizers.l2(0.01)\n",
    "                ))\n",
    "model.add(MaxPooling1D(pool_size=2))\n",
    "model.add(Dropout(0.25))\n",
    "model.add(Conv1D(64, kernel_size=3, activation='relu',\n",
    "#                kernel_regularizer=regularizers.l2(0.01)\n",
    "                ))\n",
    "model.add(MaxPooling1D(pool_size=2))\n",
    "model.add(Conv1D(128, kernel_size=3, activation='relu',\n",
    "#                kernel_regularizer=regularizers.l2(0.01)\n",
    "                ))\n",
    "model.add(MaxPooling1D(pool_size=2))\n",
    "model.add(Flatten())\n",
    "model.add(Dense(256, activation='relu',\n",
    "#               kernel_regularizer=regularizers.l2(0.01)\n",
    "               ))\n",
    "model.add(Dropout(0.5))\n",
    "model.add(Dense(5, activation='softmax'))\n",
    "\n",
    "model.compile(optimizer='adam', loss='categorical_crossentropy', metrics=['accuracy'])"
   ]
  },
  {
   "cell_type": "code",
   "execution_count": 194,
   "id": "3af164c8",
   "metadata": {
    "scrolled": false
   },
   "outputs": [
    {
     "name": "stdout",
     "output_type": "stream",
     "text": [
      "Epoch 1/60\n"
     ]
    },
    {
     "name": "stderr",
     "output_type": "stream",
     "text": [
      "C:\\Users\\dylan\\anaconda3\\lib\\site-packages\\tensorflow\\python\\data\\ops\\structured_function.py:254: UserWarning: Even though the `tf.config.experimental_run_functions_eagerly` option is set, this option does not apply to tf.data functions. To force eager execution of tf.data functions, please use `tf.data.experimental.enable_debug_mode()`.\n",
      "  warnings.warn(\n"
     ]
    },
    {
     "name": "stdout",
     "output_type": "stream",
     "text": [
      "293/293 [==============================] - 30s 103ms/step - loss: 0.6492 - accuracy: 0.7562 - val_loss: 0.3332 - val_accuracy: 0.8835\n",
      "Epoch 2/60\n",
      "293/293 [==============================] - 30s 101ms/step - loss: 0.3514 - accuracy: 0.8801 - val_loss: 0.2585 - val_accuracy: 0.9172\n",
      "Epoch 3/60\n",
      "293/293 [==============================] - 30s 103ms/step - loss: 0.2811 - accuracy: 0.9063 - val_loss: 0.2203 - val_accuracy: 0.9264\n",
      "Epoch 4/60\n",
      "293/293 [==============================] - 29s 100ms/step - loss: 0.2525 - accuracy: 0.9159 - val_loss: 0.2106 - val_accuracy: 0.9321\n",
      "Epoch 5/60\n",
      "293/293 [==============================] - 28s 97ms/step - loss: 0.2253 - accuracy: 0.9235 - val_loss: 0.1889 - val_accuracy: 0.9389\n",
      "Epoch 6/60\n",
      "293/293 [==============================] - 27s 92ms/step - loss: 0.2018 - accuracy: 0.9315 - val_loss: 0.1743 - val_accuracy: 0.9398\n",
      "Epoch 7/60\n",
      "293/293 [==============================] - 26s 89ms/step - loss: 0.1797 - accuracy: 0.9375 - val_loss: 0.1628 - val_accuracy: 0.9461\n",
      "Epoch 8/60\n",
      "293/293 [==============================] - 25s 87ms/step - loss: 0.1672 - accuracy: 0.9416 - val_loss: 0.1695 - val_accuracy: 0.9456\n",
      "Epoch 9/60\n",
      "293/293 [==============================] - 25s 87ms/step - loss: 0.1543 - accuracy: 0.9460 - val_loss: 0.1785 - val_accuracy: 0.9451\n",
      "Epoch 10/60\n",
      "293/293 [==============================] - 26s 87ms/step - loss: 0.1469 - accuracy: 0.9489 - val_loss: 0.1593 - val_accuracy: 0.9461\n",
      "Epoch 11/60\n",
      "293/293 [==============================] - 25s 87ms/step - loss: 0.1353 - accuracy: 0.9529 - val_loss: 0.1456 - val_accuracy: 0.9514\n",
      "Epoch 12/60\n",
      "293/293 [==============================] - 26s 89ms/step - loss: 0.1297 - accuracy: 0.9547 - val_loss: 0.1407 - val_accuracy: 0.9543\n",
      "Epoch 13/60\n",
      "293/293 [==============================] - 26s 88ms/step - loss: 0.1232 - accuracy: 0.9557 - val_loss: 0.1445 - val_accuracy: 0.9524\n",
      "Epoch 14/60\n",
      "293/293 [==============================] - 25s 86ms/step - loss: 0.1161 - accuracy: 0.9588 - val_loss: 0.1556 - val_accuracy: 0.9490\n",
      "Epoch 15/60\n",
      "293/293 [==============================] - 25s 87ms/step - loss: 0.1096 - accuracy: 0.9605 - val_loss: 0.1435 - val_accuracy: 0.9552\n",
      "Epoch 16/60\n",
      "293/293 [==============================] - 26s 89ms/step - loss: 0.1054 - accuracy: 0.9623 - val_loss: 0.1473 - val_accuracy: 0.9548\n",
      "Epoch 17/60\n",
      "293/293 [==============================] - 27s 91ms/step - loss: 0.0969 - accuracy: 0.9644 - val_loss: 0.1473 - val_accuracy: 0.9548\n",
      "Epoch 18/60\n",
      "293/293 [==============================] - 27s 91ms/step - loss: 0.0952 - accuracy: 0.9654 - val_loss: 0.1402 - val_accuracy: 0.9533\n",
      "Epoch 19/60\n",
      "293/293 [==============================] - 27s 92ms/step - loss: 0.0944 - accuracy: 0.9662 - val_loss: 0.1421 - val_accuracy: 0.9538\n",
      "Epoch 20/60\n",
      "293/293 [==============================] - 27s 94ms/step - loss: 0.0876 - accuracy: 0.9684 - val_loss: 0.1534 - val_accuracy: 0.9495\n",
      "Epoch 21/60\n",
      "293/293 [==============================] - 28s 96ms/step - loss: 0.0852 - accuracy: 0.9689 - val_loss: 0.1452 - val_accuracy: 0.9562\n",
      "Epoch 22/60\n",
      "293/293 [==============================] - 29s 97ms/step - loss: 0.0821 - accuracy: 0.9700 - val_loss: 0.1433 - val_accuracy: 0.9533\n",
      "Epoch 23/60\n",
      "293/293 [==============================] - 30s 104ms/step - loss: 0.0727 - accuracy: 0.9737 - val_loss: 0.1505 - val_accuracy: 0.9605\n",
      "Epoch 24/60\n",
      "293/293 [==============================] - 29s 100ms/step - loss: 0.0710 - accuracy: 0.9742 - val_loss: 0.1617 - val_accuracy: 0.9538\n",
      "Epoch 25/60\n",
      "293/293 [==============================] - 29s 100ms/step - loss: 0.0682 - accuracy: 0.9757 - val_loss: 0.1510 - val_accuracy: 0.9572\n",
      "Epoch 26/60\n",
      "293/293 [==============================] - 30s 101ms/step - loss: 0.0702 - accuracy: 0.9744 - val_loss: 0.1607 - val_accuracy: 0.9538\n",
      "Epoch 27/60\n",
      "293/293 [==============================] - 31s 106ms/step - loss: 0.0652 - accuracy: 0.9768 - val_loss: 0.1500 - val_accuracy: 0.9562\n",
      "Epoch 28/60\n",
      "293/293 [==============================] - 30s 104ms/step - loss: 0.0600 - accuracy: 0.9778 - val_loss: 0.1669 - val_accuracy: 0.9577\n",
      "Epoch 29/60\n",
      "293/293 [==============================] - 30s 103ms/step - loss: 0.0611 - accuracy: 0.9775 - val_loss: 0.1618 - val_accuracy: 0.9543\n",
      "Epoch 30/60\n",
      "293/293 [==============================] - 30s 103ms/step - loss: 0.0568 - accuracy: 0.9784 - val_loss: 0.1655 - val_accuracy: 0.9538\n",
      "Epoch 31/60\n",
      "293/293 [==============================] - 31s 105ms/step - loss: 0.0571 - accuracy: 0.9786 - val_loss: 0.1430 - val_accuracy: 0.9581\n",
      "Epoch 32/60\n",
      "293/293 [==============================] - 32s 108ms/step - loss: 0.0531 - accuracy: 0.9806 - val_loss: 0.1541 - val_accuracy: 0.9562\n",
      "Epoch 33/60\n",
      "293/293 [==============================] - 33s 112ms/step - loss: 0.0582 - accuracy: 0.9790 - val_loss: 0.1623 - val_accuracy: 0.9562\n",
      "Epoch 34/60\n",
      "293/293 [==============================] - 34s 115ms/step - loss: 0.0522 - accuracy: 0.9820 - val_loss: 0.1564 - val_accuracy: 0.9572\n",
      "Epoch 35/60\n",
      "293/293 [==============================] - 34s 116ms/step - loss: 0.0477 - accuracy: 0.9814 - val_loss: 0.1588 - val_accuracy: 0.9591\n",
      "Epoch 36/60\n",
      "293/293 [==============================] - 35s 118ms/step - loss: 0.0486 - accuracy: 0.9830 - val_loss: 0.1750 - val_accuracy: 0.9557\n",
      "Epoch 37/60\n",
      "293/293 [==============================] - 35s 119ms/step - loss: 0.0466 - accuracy: 0.9833 - val_loss: 0.1640 - val_accuracy: 0.9625\n",
      "Epoch 38/60\n",
      "293/293 [==============================] - 35s 119ms/step - loss: 0.0491 - accuracy: 0.9822 - val_loss: 0.1621 - val_accuracy: 0.9557\n",
      "Epoch 39/60\n",
      "293/293 [==============================] - 35s 119ms/step - loss: 0.0438 - accuracy: 0.9844 - val_loss: 0.1597 - val_accuracy: 0.9605\n",
      "Epoch 40/60\n",
      "293/293 [==============================] - 35s 120ms/step - loss: 0.0455 - accuracy: 0.9834 - val_loss: 0.1683 - val_accuracy: 0.9572\n",
      "Epoch 41/60\n",
      "293/293 [==============================] - 35s 119ms/step - loss: 0.0433 - accuracy: 0.9836 - val_loss: 0.1684 - val_accuracy: 0.9543\n",
      "Epoch 42/60\n",
      "293/293 [==============================] - 36s 123ms/step - loss: 0.0456 - accuracy: 0.9842 - val_loss: 0.1621 - val_accuracy: 0.9615\n",
      "Epoch 43/60\n",
      "293/293 [==============================] - 36s 122ms/step - loss: 0.0461 - accuracy: 0.9829 - val_loss: 0.1743 - val_accuracy: 0.9596\n",
      "Epoch 44/60\n",
      "293/293 [==============================] - 36s 121ms/step - loss: 0.0432 - accuracy: 0.9843 - val_loss: 0.1683 - val_accuracy: 0.9572\n",
      "Epoch 45/60\n",
      "293/293 [==============================] - 36s 122ms/step - loss: 0.0372 - accuracy: 0.9861 - val_loss: 0.1851 - val_accuracy: 0.9581\n",
      "Epoch 46/60\n",
      "293/293 [==============================] - 36s 124ms/step - loss: 0.0350 - accuracy: 0.9863 - val_loss: 0.1780 - val_accuracy: 0.9591\n",
      "Epoch 47/60\n",
      "293/293 [==============================] - 37s 125ms/step - loss: 0.0387 - accuracy: 0.9852 - val_loss: 0.1827 - val_accuracy: 0.9567\n",
      "Epoch 48/60\n",
      "293/293 [==============================] - 36s 124ms/step - loss: 0.0397 - accuracy: 0.9858 - val_loss: 0.1979 - val_accuracy: 0.9591\n",
      "Epoch 49/60\n",
      "293/293 [==============================] - 36s 122ms/step - loss: 0.0377 - accuracy: 0.9867 - val_loss: 0.1936 - val_accuracy: 0.9601\n",
      "Epoch 50/60\n",
      "293/293 [==============================] - 36s 124ms/step - loss: 0.0353 - accuracy: 0.9874 - val_loss: 0.1795 - val_accuracy: 0.9601\n",
      "Epoch 51/60\n",
      "293/293 [==============================] - 36s 123ms/step - loss: 0.0333 - accuracy: 0.9886 - val_loss: 0.1699 - val_accuracy: 0.9629\n",
      "Epoch 52/60\n",
      "293/293 [==============================] - 37s 125ms/step - loss: 0.0351 - accuracy: 0.9872 - val_loss: 0.1785 - val_accuracy: 0.9601\n",
      "Epoch 53/60\n",
      "293/293 [==============================] - 37s 127ms/step - loss: 0.0366 - accuracy: 0.9860 - val_loss: 0.1944 - val_accuracy: 0.9601\n",
      "Epoch 54/60\n",
      "293/293 [==============================] - 37s 125ms/step - loss: 0.0326 - accuracy: 0.9887 - val_loss: 0.1797 - val_accuracy: 0.9601\n",
      "Epoch 55/60\n",
      "293/293 [==============================] - 37s 126ms/step - loss: 0.0314 - accuracy: 0.9897 - val_loss: 0.1923 - val_accuracy: 0.9601\n",
      "Epoch 56/60\n",
      "293/293 [==============================] - 38s 130ms/step - loss: 0.0360 - accuracy: 0.9874 - val_loss: 0.1925 - val_accuracy: 0.9577\n",
      "Epoch 57/60\n",
      "293/293 [==============================] - 37s 127ms/step - loss: 0.0331 - accuracy: 0.9875 - val_loss: 0.1769 - val_accuracy: 0.9567\n",
      "Epoch 58/60\n",
      "293/293 [==============================] - 38s 130ms/step - loss: 0.0311 - accuracy: 0.9886 - val_loss: 0.1998 - val_accuracy: 0.9557\n",
      "Epoch 59/60\n",
      "293/293 [==============================] - 37s 127ms/step - loss: 0.0325 - accuracy: 0.9878 - val_loss: 0.1833 - val_accuracy: 0.9610\n",
      "Epoch 60/60\n",
      "293/293 [==============================] - 37s 128ms/step - loss: 0.0290 - accuracy: 0.9890 - val_loss: 0.1941 - val_accuracy: 0.9596\n"
     ]
    }
   ],
   "source": [
    "history = model.fit(X_train, y_train, \n",
    "                    epochs=60, batch_size=64, \n",
    "                    validation_split=0.1)"
   ]
  },
  {
   "cell_type": "code",
   "execution_count": 195,
   "id": "fa21b957",
   "metadata": {
    "scrolled": true
   },
   "outputs": [
    {
     "name": "stdout",
     "output_type": "stream",
     "text": [
      "73/73 [==============================] - 2s 30ms/step - loss: 0.2016 - accuracy: 0.9636\n",
      "Test accuracy: 0.9636206030845642\n"
     ]
    }
   ],
   "source": [
    "test_loss, test_accuracy = model.evaluate(X_test, y_test_categorical)\n",
    "print('Test accuracy:', test_accuracy)"
   ]
  },
  {
   "cell_type": "markdown",
   "id": "31316c83",
   "metadata": {},
   "source": [
    "## 3) RNN for Sequence Classification (35 points)"
   ]
  },
  {
   "cell_type": "markdown",
   "id": "97d5f99f",
   "metadata": {},
   "source": [
    "In this question, you will need a Recurrent Neural Network (RNN) or its modified versions (LSTM, GRU) to classify hand gestures using the electromyogram (EMG) signals taken from the hand muscles. EMG signals represent the neuromuscular activity in voltages.\n",
    "\n",
    "Run the cell below. It uploads four different files for four different gestures: rock, paper, scissors and OK. From these files, it creates the X, y values as well as the training and test datasets."
   ]
  },
  {
   "cell_type": "code",
   "execution_count": 196,
   "id": "070b1e1a",
   "metadata": {},
   "outputs": [],
   "source": [
    "rock_dataset = pd.read_csv(\"rock.csv\", header=None) # class = 0\n",
    "scissors_dataset = pd.read_csv(\"scissors.csv\", header=None) # class = 1\n",
    "paper_dataset = pd.read_csv(\"paper.csv\", header=None) # class = 2\n",
    "ok_dataset = pd.read_csv(\"ok.csv\", header=None) # class = 3\n",
    "\n",
    "frames = [rock_dataset, scissors_dataset, paper_dataset, ok_dataset]\n",
    "dataset = pd.concat(frames)\n",
    "\n",
    "dataset_train = dataset.iloc[np.random.permutation(len(dataset))]\n",
    "dataset_train.reset_index(drop=True)\n",
    "\n",
    "y = np.array(dataset_train.iloc[:,-1])\n",
    "\n",
    "X = np.array(dataset_train.iloc[:,:-1])\n",
    "\n",
    "X_train, X_test, y_train, y_test= train_test_split(X, y, test_size=0.2, random_state = 42)"
   ]
  },
  {
   "cell_type": "markdown",
   "id": "6347d610",
   "metadata": {},
   "source": [
    "**a)** Note that each instance is a 64-dimensional vector. This vector represents 8 concatenated sequences that are 8 time points long each. Each sequence comes from a sensor located on a different part of the arm. Each time point represents 5 milliseconds (ms), since the data is sampled at 200 Hz, adding up to 40 ms per sequence.\n",
    "\n",
    "Before creating any network, you need to reshape the sequence and put the sequence length and the number of channels on different dimensions. The in-class assignment and the data format in the previous question should help. **(5 points)**\n",
    "\n",
    "Lastly, you need to reshape the training classes for the network. **(2 points)**"
   ]
  },
  {
   "cell_type": "code",
   "execution_count": 197,
   "id": "97f1ec30",
   "metadata": {
    "scrolled": true
   },
   "outputs": [
    {
     "name": "stdout",
     "output_type": "stream",
     "text": [
      "(9342, 64)\n",
      "(9342,)\n",
      "(2336,)\n"
     ]
    }
   ],
   "source": [
    "print(X_train.shape)\n",
    "print(y_train.shape)\n",
    "print(y_test.shape)"
   ]
  },
  {
   "cell_type": "code",
   "execution_count": 198,
   "id": "819e0d85",
   "metadata": {},
   "outputs": [
    {
     "name": "stdout",
     "output_type": "stream",
     "text": [
      "(9342, 4)\n",
      "(2336, 4)\n",
      "(2336, 64, 1)\n",
      "(9342, 64, 1)\n"
     ]
    }
   ],
   "source": [
    "X_train = X_train.reshape(X_train.shape[0], X_train.shape[1], 1)\n",
    "X_test = X_test.reshape(X_test.shape[0], X_test.shape[1], 1)\n",
    "\n",
    "y_train_categorical = to_categorical(y_train)\n",
    "y_test_categorical = to_categorical(y_test)\n",
    "\n",
    "y_train_categorical = np.reshape(y_train_categorical, \n",
    "                                 (y_train_categorical.shape[0], y_train_categorical.shape[1]))\n",
    "y_test_categorical = np.reshape(y_test_categorical, \n",
    "                                (y_test_categorical.shape[0], y_test_categorical.shape[1]))\n",
    "\n",
    "print(y_train_categorical.shape)\n",
    "print(y_test_categorical.shape)\n",
    "print(X_test.shape)\n",
    "print(X_train.shape)"
   ]
  },
  {
   "cell_type": "markdown",
   "id": "f0838028",
   "metadata": {},
   "source": [
    "**b)** Create a RNN for the 4-class classification task.\n",
    "\n",
    "Compile the network using the proper cost function and an optimizer of your choice. **(3 points)** Don't forget to set the number of epochs and other necessary inputs while training. **(3 points)** Assign your training line to a history output. **(2 points)**\n",
    "\n",
    "After the network is trained, print the test accuracy **(2.5 points)** and the confusion matrix **(2.5 points)**, and plot both the training and validation losses against the number of epochs. **(2 points)**\n",
    "\n",
    "The entire architecture and the training inputs are your choice. Your network should return a test accuracy higher than 97%. **(10 points)**\n",
    "\n",
    "**Note:** You can use a regular RNN, LSTM or GRU. **You have to use recurrent layers to get credit from this question.**"
   ]
  },
  {
   "cell_type": "code",
   "execution_count": 203,
   "id": "77c53927",
   "metadata": {
    "scrolled": true
   },
   "outputs": [],
   "source": [
    "tf.random.set_seed(0)\n",
    "np.random.seed(0)\n",
    "\n",
    "model = Sequential()\n",
    "#model.add(LSTM(units=64), input_shape=(X_train.shape[1], 1))\n",
    "model.add(LSTM(units=256))\n",
    "model.add(Dense(units=4, activation='softmax'))\n",
    "\n",
    "model.compile(loss='categorical_crossentropy', \n",
    "              optimizer=Adam(learning_rate=0.001), \n",
    "              metrics=['accuracy'])"
   ]
  },
  {
   "cell_type": "code",
   "execution_count": 200,
   "id": "76ec73ea",
   "metadata": {
    "scrolled": false
   },
   "outputs": [
    {
     "name": "stdout",
     "output_type": "stream",
     "text": [
      "Epoch 1/64\n",
      "73/73 [==============================] - 74s 1s/step - loss: 1.1375 - accuracy: 0.4904 - val_loss: 0.8925 - val_accuracy: 0.6473\n",
      "Epoch 2/64\n",
      "73/73 [==============================] - 73s 1s/step - loss: 0.7537 - accuracy: 0.7042 - val_loss: 0.6211 - val_accuracy: 0.7705\n",
      "Epoch 3/64\n",
      "26/73 [=========>....................] - ETA: 42s - loss: 0.5776 - accuracy: 0.7776ERROR:tensorflow:==================================\n",
      "Object was never used (type <class 'tensorflow.python.ops.tensor_array_ops.TensorArray'>):\n",
      "<tensorflow.python.ops.tensor_array_ops.TensorArray object at 0x000001C131162D60>\n",
      "If you want to mark it as used call its \"mark_used()\" method.\n",
      "It was originally created here:\n",
      "  File \"C:\\Users\\dylan\\anaconda3\\lib\\site-packages\\keras\\backend.py\", line 5160, in <genexpr>\n",
      "    ta.write(ta_index_to_write, out)  File \"C:\\Users\\dylan\\anaconda3\\lib\\site-packages\\tensorflow\\python\\util\\tf_should_use.py\", line 243, in wrapped\n",
      "    return _add_should_use_warning(fn(*args, **kwargs),\n",
      "==================================\n",
      "73/73 [==============================] - 76s 1s/step - loss: 0.5200 - accuracy: 0.8056 - val_loss: 0.4691 - val_accuracy: 0.8258\n",
      "Epoch 4/64\n",
      "73/73 [==============================] - 77s 1s/step - loss: 0.4080 - accuracy: 0.8511 - val_loss: 0.3741 - val_accuracy: 0.8647\n",
      "Epoch 5/64\n",
      "73/73 [==============================] - 76s 1s/step - loss: 0.3378 - accuracy: 0.8796 - val_loss: 0.3867 - val_accuracy: 0.8562\n",
      "Epoch 6/64\n",
      "73/73 [==============================] - 77s 1s/step - loss: 0.3234 - accuracy: 0.8814 - val_loss: 0.3072 - val_accuracy: 0.8836\n",
      "Epoch 7/64\n",
      "73/73 [==============================] - 77s 1s/step - loss: 0.2715 - accuracy: 0.9025 - val_loss: 0.2533 - val_accuracy: 0.9088\n",
      "Epoch 8/64\n",
      "73/73 [==============================] - 77s 1s/step - loss: 0.2420 - accuracy: 0.9155 - val_loss: 0.2751 - val_accuracy: 0.8955\n",
      "Epoch 9/64\n",
      "73/73 [==============================] - 77s 1s/step - loss: 0.2115 - accuracy: 0.9258 - val_loss: 0.2696 - val_accuracy: 0.9054\n",
      "Epoch 10/64\n",
      "73/73 [==============================] - 77s 1s/step - loss: 0.1932 - accuracy: 0.9311 - val_loss: 0.2563 - val_accuracy: 0.9067\n",
      "Epoch 11/64\n",
      "73/73 [==============================] - 78s 1s/step - loss: 0.1797 - accuracy: 0.9359 - val_loss: 0.2356 - val_accuracy: 0.9080\n",
      "Epoch 12/64\n",
      "73/73 [==============================] - 77s 1s/step - loss: 0.1505 - accuracy: 0.9473 - val_loss: 0.3193 - val_accuracy: 0.8806\n",
      "Epoch 13/64\n",
      "73/73 [==============================] - 77s 1s/step - loss: 0.1542 - accuracy: 0.9464 - val_loss: 0.2900 - val_accuracy: 0.8891\n",
      "Epoch 14/64\n",
      "73/73 [==============================] - 77s 1s/step - loss: 0.1602 - accuracy: 0.9444 - val_loss: 0.2161 - val_accuracy: 0.9229\n",
      "Epoch 15/64\n",
      "73/73 [==============================] - 77s 1s/step - loss: 0.1077 - accuracy: 0.9675 - val_loss: 0.1948 - val_accuracy: 0.9272\n",
      "Epoch 16/64\n",
      "73/73 [==============================] - 77s 1s/step - loss: 0.0989 - accuracy: 0.9657 - val_loss: 0.1909 - val_accuracy: 0.9354\n",
      "Epoch 17/64\n",
      "73/73 [==============================] - 77s 1s/step - loss: 0.0974 - accuracy: 0.9666 - val_loss: 0.2441 - val_accuracy: 0.9152\n",
      "Epoch 18/64\n",
      "73/73 [==============================] - 77s 1s/step - loss: 0.0999 - accuracy: 0.9650 - val_loss: 0.1944 - val_accuracy: 0.9328\n",
      "Epoch 19/64\n",
      "73/73 [==============================] - 76s 1s/step - loss: 0.0651 - accuracy: 0.9783 - val_loss: 0.1924 - val_accuracy: 0.9319\n",
      "Epoch 20/64\n",
      "73/73 [==============================] - 77s 1s/step - loss: 0.0536 - accuracy: 0.9828 - val_loss: 0.2100 - val_accuracy: 0.9294\n",
      "Epoch 21/64\n",
      "73/73 [==============================] - 77s 1s/step - loss: 0.0598 - accuracy: 0.9811 - val_loss: 0.2021 - val_accuracy: 0.9302\n",
      "Epoch 22/64\n",
      "73/73 [==============================] - 77s 1s/step - loss: 0.0444 - accuracy: 0.9864 - val_loss: 0.1857 - val_accuracy: 0.9392\n",
      "Epoch 23/64\n",
      "73/73 [==============================] - 77s 1s/step - loss: 0.0333 - accuracy: 0.9902 - val_loss: 0.1984 - val_accuracy: 0.9439\n",
      "Epoch 24/64\n",
      "73/73 [==============================] - 76s 1s/step - loss: 0.0336 - accuracy: 0.9894 - val_loss: 0.2388 - val_accuracy: 0.9302\n",
      "Epoch 25/64\n",
      "73/73 [==============================] - 77s 1s/step - loss: 0.0337 - accuracy: 0.9894 - val_loss: 0.2667 - val_accuracy: 0.9234\n",
      "Epoch 26/64\n",
      "73/73 [==============================] - 77s 1s/step - loss: 0.0254 - accuracy: 0.9920 - val_loss: 0.2196 - val_accuracy: 0.9294\n",
      "Epoch 27/64\n",
      "73/73 [==============================] - 77s 1s/step - loss: 0.0143 - accuracy: 0.9967 - val_loss: 0.2560 - val_accuracy: 0.9315\n",
      "Epoch 28/64\n",
      "73/73 [==============================] - 77s 1s/step - loss: 0.0172 - accuracy: 0.9952 - val_loss: 0.2438 - val_accuracy: 0.9375\n",
      "Epoch 29/64\n",
      "73/73 [==============================] - 78s 1s/step - loss: 0.0379 - accuracy: 0.9882 - val_loss: 0.2720 - val_accuracy: 0.9315\n",
      "Epoch 30/64\n",
      "73/73 [==============================] - 77s 1s/step - loss: 0.0374 - accuracy: 0.9870 - val_loss: 0.2264 - val_accuracy: 0.9405\n",
      "Epoch 31/64\n",
      "73/73 [==============================] - 77s 1s/step - loss: 0.0239 - accuracy: 0.9921 - val_loss: 0.2247 - val_accuracy: 0.9311\n",
      "Epoch 32/64\n",
      "73/73 [==============================] - 78s 1s/step - loss: 0.0286 - accuracy: 0.9909 - val_loss: 0.2084 - val_accuracy: 0.9418\n",
      "Epoch 33/64\n",
      "73/73 [==============================] - 77s 1s/step - loss: 0.0157 - accuracy: 0.9958 - val_loss: 0.2384 - val_accuracy: 0.9396\n",
      "Epoch 34/64\n",
      "73/73 [==============================] - 78s 1s/step - loss: 0.0185 - accuracy: 0.9944 - val_loss: 0.2237 - val_accuracy: 0.9409\n",
      "Epoch 35/64\n",
      "73/73 [==============================] - 77s 1s/step - loss: 0.0152 - accuracy: 0.9960 - val_loss: 0.2252 - val_accuracy: 0.9375\n",
      "Epoch 36/64\n",
      "73/73 [==============================] - 77s 1s/step - loss: 0.0092 - accuracy: 0.9973 - val_loss: 0.3061 - val_accuracy: 0.9281\n",
      "Epoch 37/64\n",
      "73/73 [==============================] - 76s 1s/step - loss: 0.0147 - accuracy: 0.9958 - val_loss: 0.2563 - val_accuracy: 0.9375\n",
      "Epoch 38/64\n",
      "73/73 [==============================] - 76s 1s/step - loss: 0.0061 - accuracy: 0.9991 - val_loss: 0.2235 - val_accuracy: 0.9478\n",
      "Epoch 39/64\n",
      "73/73 [==============================] - 76s 1s/step - loss: 0.0014 - accuracy: 1.0000 - val_loss: 0.2156 - val_accuracy: 0.9499\n",
      "Epoch 40/64\n",
      "73/73 [==============================] - 77s 1s/step - loss: 8.8431e-04 - accuracy: 1.0000 - val_loss: 0.2277 - val_accuracy: 0.9486\n",
      "Epoch 41/64\n",
      "73/73 [==============================] - 76s 1s/step - loss: 7.0128e-04 - accuracy: 1.0000 - val_loss: 0.2333 - val_accuracy: 0.9512\n",
      "Epoch 42/64\n",
      "73/73 [==============================] - 77s 1s/step - loss: 6.0218e-04 - accuracy: 1.0000 - val_loss: 0.2358 - val_accuracy: 0.9499\n",
      "Epoch 43/64\n",
      "73/73 [==============================] - 77s 1s/step - loss: 5.2035e-04 - accuracy: 1.0000 - val_loss: 0.2420 - val_accuracy: 0.9529\n",
      "Epoch 44/64\n",
      "73/73 [==============================] - 76s 1s/step - loss: 4.6315e-04 - accuracy: 1.0000 - val_loss: 0.2457 - val_accuracy: 0.9503\n",
      "Epoch 45/64\n",
      "73/73 [==============================] - 76s 1s/step - loss: 4.1472e-04 - accuracy: 1.0000 - val_loss: 0.2475 - val_accuracy: 0.9508\n",
      "Epoch 46/64\n",
      "73/73 [==============================] - 77s 1s/step - loss: 3.7349e-04 - accuracy: 1.0000 - val_loss: 0.2507 - val_accuracy: 0.9495\n",
      "Epoch 47/64\n",
      "73/73 [==============================] - 77s 1s/step - loss: 3.3898e-04 - accuracy: 1.0000 - val_loss: 0.2539 - val_accuracy: 0.9503\n",
      "Epoch 48/64\n",
      "73/73 [==============================] - 77s 1s/step - loss: 3.1015e-04 - accuracy: 1.0000 - val_loss: 0.2563 - val_accuracy: 0.9491\n",
      "Epoch 49/64\n",
      "73/73 [==============================] - 77s 1s/step - loss: 2.8609e-04 - accuracy: 1.0000 - val_loss: 0.2602 - val_accuracy: 0.9495\n",
      "Epoch 50/64\n",
      "73/73 [==============================] - 77s 1s/step - loss: 2.6386e-04 - accuracy: 1.0000 - val_loss: 0.2628 - val_accuracy: 0.9495\n",
      "Epoch 51/64\n",
      "73/73 [==============================] - 76s 1s/step - loss: 2.4452e-04 - accuracy: 1.0000 - val_loss: 0.2646 - val_accuracy: 0.9499\n",
      "Epoch 52/64\n",
      "73/73 [==============================] - 76s 1s/step - loss: 2.2762e-04 - accuracy: 1.0000 - val_loss: 0.2683 - val_accuracy: 0.9499\n",
      "Epoch 53/64\n",
      "73/73 [==============================] - 77s 1s/step - loss: 2.1201e-04 - accuracy: 1.0000 - val_loss: 0.2709 - val_accuracy: 0.9495\n",
      "Epoch 54/64\n",
      "73/73 [==============================] - 77s 1s/step - loss: 1.9694e-04 - accuracy: 1.0000 - val_loss: 0.2732 - val_accuracy: 0.9503\n",
      "Epoch 55/64\n",
      "73/73 [==============================] - 77s 1s/step - loss: 1.8430e-04 - accuracy: 1.0000 - val_loss: 0.2762 - val_accuracy: 0.9495\n",
      "Epoch 56/64\n",
      "73/73 [==============================] - 78s 1s/step - loss: 1.7353e-04 - accuracy: 1.0000 - val_loss: 0.2791 - val_accuracy: 0.9491\n",
      "Epoch 57/64\n",
      "73/73 [==============================] - 77s 1s/step - loss: 1.6241e-04 - accuracy: 1.0000 - val_loss: 0.2814 - val_accuracy: 0.9491\n",
      "Epoch 58/64\n",
      "73/73 [==============================] - 76s 1s/step - loss: 1.5235e-04 - accuracy: 1.0000 - val_loss: 0.2813 - val_accuracy: 0.9491\n",
      "Epoch 59/64\n",
      "73/73 [==============================] - 77s 1s/step - loss: 1.4381e-04 - accuracy: 1.0000 - val_loss: 0.2864 - val_accuracy: 0.9499\n",
      "Epoch 60/64\n",
      "73/73 [==============================] - 77s 1s/step - loss: 1.3557e-04 - accuracy: 1.0000 - val_loss: 0.2876 - val_accuracy: 0.9508\n",
      "Epoch 61/64\n",
      "73/73 [==============================] - 77s 1s/step - loss: 1.2766e-04 - accuracy: 1.0000 - val_loss: 0.2893 - val_accuracy: 0.9503\n",
      "Epoch 62/64\n",
      "73/73 [==============================] - 76s 1s/step - loss: 1.2084e-04 - accuracy: 1.0000 - val_loss: 0.2903 - val_accuracy: 0.9508\n",
      "Epoch 63/64\n",
      "73/73 [==============================] - 77s 1s/step - loss: 1.1401e-04 - accuracy: 1.0000 - val_loss: 0.2953 - val_accuracy: 0.9495\n",
      "Epoch 64/64\n",
      "73/73 [==============================] - 78s 1s/step - loss: 1.0761e-04 - accuracy: 1.0000 - val_loss: 0.2960 - val_accuracy: 0.9503\n"
     ]
    }
   ],
   "source": [
    "history = model.fit(X_train, y_train_categorical, \n",
    "                    epochs=64, batch_size=128, validation_data=(X_test, y_test_categorical))"
   ]
  },
  {
   "cell_type": "code",
   "execution_count": 210,
   "id": "42f24793",
   "metadata": {},
   "outputs": [
    {
     "name": "stdout",
     "output_type": "stream",
     "text": [
      "73/73 [==============================] - 11s 151ms/step\n",
      "Test Accuracy: 0.3022260273972603\n",
      "Confusion Matrix:\n",
      " [[138  10 333  88]\n",
      " [ 55  14 461  56]\n",
      " [ 79   8 469  64]\n",
      " [ 89  16 371  85]]\n"
     ]
    }
   ],
   "source": [
    "y_pred = model.predict(X_test)\n",
    "y_pred_classes = np.argmax(y_pred, axis=1)\n",
    "y_test_classes = np.argmax(y_test_categorical, axis=1)\n",
    "\n",
    "test_accuracy = accuracy_score(y_test_classes, y_pred_classes)\n",
    "confusion_mat = confusion_matrix(y_test_classes, y_pred_classes)\n",
    "\n",
    "print(\"Test Accuracy:\", test_accuracy)\n",
    "print(\"Confusion Matrix:\\n\", confusion_mat)"
   ]
  },
  {
   "cell_type": "code",
   "execution_count": 209,
   "id": "c509e339",
   "metadata": {},
   "outputs": [
    {
     "data": {
      "image/png": "[encoded data removed]",
      "text/plain": [
       "<Figure size 432x288 with 1 Axes>"
      ]
     },
     "metadata": {
      "needs_background": "light"
     },
     "output_type": "display_data"
    }
   ],
   "source": [
    "# Plot the training and validation losses\n",
    "train_loss = history.history['loss']\n",
    "val_loss = history.history['val_loss']\n",
    "epochs_range = range(1, 64 + 1)\n",
    "\n",
    "plt.plot(epochs_range, train_loss, label='Training Loss')\n",
    "plt.plot(epochs_range, val_loss, label='Validation Loss')\n",
    "plt.xlabel('Epochs')\n",
    "plt.ylabel('Loss')\n",
    "plt.legend()\n",
    "plt.show()"
   ]
  },
  {
   "cell_type": "markdown",
   "id": "261df977",
   "metadata": {},
   "source": [
    "**c)** What is the number of **total** hidden layers in your architecture if you \"unravel\" your network through time. Note that the answer completely depends on your architecture. **(3 points)** "
   ]
  },
  {
   "cell_type": "markdown",
   "id": "982335ed",
   "metadata": {},
   "source": [
    "The number of Hidden layers is 1, the hidden layer being Bi-Directional(LSTM) layer"
   ]
  }
 ],
 "metadata": {
  "kernelspec": {
   "display_name": "Python 3 (ipykernel)",
   "language": "python",
   "name": "python3"
  },
  "language_info": {
   "codemirror_mode": {
    "name": "ipython",
    "version": 3
   },
   "file_extension": ".py",
   "mimetype": "text/x-python",
   "name": "python",
   "nbconvert_exporter": "python",
   "pygments_lexer": "ipython3",
   "version": "3.9.7"
  }
 },
 "nbformat": 4,
 "nbformat_minor": 5
}
