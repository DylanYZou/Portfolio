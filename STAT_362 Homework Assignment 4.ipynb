{
 "cells": [
  {
   "cell_type": "markdown",
   "id": "5f7432d3",
   "metadata": {},
   "source": [
    "# Homework Assignment 4 - Deep Learning 1: Neural Networks\n",
    "### **Due:** Sunday, May 28, 11:59pm\n",
    "### Total: 100 points"
   ]
  },
  {
   "cell_type": "markdown",
   "id": "486b8912",
   "metadata": {},
   "source": [
    "## Import all the libraries and tools you need below."
   ]
  },
  {
   "cell_type": "code",
   "execution_count": 91,
   "id": "aeb56717",
   "metadata": {},
   "outputs": [],
   "source": [
    "import os\n",
    "\n",
    "os.getcwd()\n",
    "os.chdir(\"C:\\Data\")\n",
    "os.getcwd()\n",
    "\n",
    "import tensorflow as tf\n",
    "tf.config.run_functions_eagerly(True)\n",
    "\n",
    "import pandas as pd\n",
    "import numpy as np \n",
    "from numpy import log,dot,e,shape\n",
    "from numpy import log,dot,e,shape\n",
    "from numpy.linalg import norm\n",
    "import matplotlib.pyplot as plt\n",
    "import seaborn as sns\n",
    "\n",
    "from scipy.spatial.distance import cdist\n",
    "from scipy.stats import multivariate_normal\n",
    "from scipy.special import softmax\n",
    "\n",
    "from sklearn.svm import SVC\n",
    "from sklearn.svm import LinearSVC\n",
    "from sklearn.decomposition import TruncatedSVD\n",
    "from sklearn.model_selection import train_test_split\n",
    "from sklearn.preprocessing import StandardScaler\n",
    "from sklearn.neighbors import KNeighborsRegressor\n",
    "from sklearn.metrics import mean_absolute_error, mean_squared_error\n",
    "from sklearn.metrics import make_scorer, accuracy_score, confusion_matrix\n",
    "from sklearn.metrics import confusion_matrix, multilabel_confusion_matrix\n",
    "from sklearn.metrics import classification_report, precision_score, recall_score\n",
    "from sklearn.metrics import silhouette_score\n",
    "\n",
    "from sklearn.model_selection import KFold, RepeatedStratifiedKFold\n",
    "from sklearn.model_selection import cross_val_predict\n",
    "from sklearn.model_selection import cross_val_score, GridSearchCV\n",
    "from sklearn.model_selection import RandomizedSearchCV\n",
    "from sklearn.model_selection import StratifiedKFold\n",
    "from sklearn.model_selection import check_cv\n",
    "from sklearn.linear_model import LogisticRegression\n",
    "\n",
    "from sklearn.ensemble import RandomForestRegressor\n",
    "from sklearn.preprocessing import OneHotEncoder\n",
    "from sklearn.preprocessing import Normalizer\n",
    "from sklearn.datasets import make_blobs\n",
    "from sklearn.mixture import GaussianMixture\n",
    "from sklearn.preprocessing import StandardScaler\n",
    "from sklearn.pipeline import Pipeline,make_pipeline\n",
    "from sklearn.cluster import KMeans, DBSCAN\n",
    "from sklearn.decomposition import PCA\n",
    "from sklearn.metrics import pairwise_distances_argmin\n",
    "from sklearn.datasets import make_blobs, make_circles\n",
    "\n",
    "import matplotlib.pyplot as plt\n",
    "import tensorflow as tf\n",
    "from tensorflow import keras\n",
    "from tensorflow.keras import layers\n",
    "from keras.models import Sequential, Model\n",
    "from keras.layers import Input\n",
    "from keras.utils.np_utils import to_categorical\n",
    "from keras.models import Sequential\n",
    "from keras.layers import Dense, Dropout, Flatten, Conv2D, MaxPool2D, BatchNormalization\n",
    "from keras.optimizers import Adam\n",
    "from keras.preprocessing.image import ImageDataGenerator\n",
    "from keras.callbacks import LearningRateScheduler\n",
    "from keras import losses \n",
    "from keras import optimizers \n",
    "from keras import metrics"
   ]
  },
  {
   "cell_type": "markdown",
   "id": "3797cea3",
   "metadata": {},
   "source": [
    "## **1)** The Forward Phase (20 points)\n",
    "\n",
    "Before creating Neural Networks with Keras, this question needs your conceptual/theoretical understanding on how a Neural Networks works. Revisiting the annotated Neural Network slides (Lec8) should be helpful.\n",
    "\n",
    "Write a user-defined function called **forward_phase_classification**. It takes three inputs: data, weights at all layers and biases at all layers. You can see the input format in the toy data created below. The function should return the class probabilities for all the instances as a matrix output. **The function cannot assume a fixed number of layers or a fixed number of nodes at any layer. It should figure those out from the given inputs.**\n",
    "\n",
    "- Start with assigning the transpose of the data to an A variable.\n",
    "\n",
    "- Create a loop, each iteration will be a layer of the network.\n",
    "    - For each layer, you need the A matrix from the previous layer, the weights of the layer and the bias of the layer. Using them, calculate the Z matrix of the layer.\n",
    "    - Using Z and a non-linear function, calculate the A matrix of the layer.\n",
    "        - The non-linear function should be **ReLU** for hidden layers and **softmax** for the output layer. You can either implement them in the loop or create separate user-defined functions for them. (I recommend the second option, it keeps the code clean.)\n",
    "    - After the loop is over, return the last A matrix.\n",
    "    \n",
    "You can use the last two lines below to see if your function is working. You should see class 0, 1, and 2 probabilities for all 10,000 instances. The class 1 probability should always be very close to 1."
   ]
  },
  {
   "cell_type": "code",
   "execution_count": 2,
   "id": "c7210655",
   "metadata": {},
   "outputs": [],
   "source": [
    "np.random.seed(1)\n",
    "random_weights = [np.random.rand(20,8), np.random.rand(10,20), np.random.rand(5,10), np.random.rand(3,5)]\n",
    "random_biases = [np.random.rand(20,1), np.random.rand(10,1), np.random.rand(5,1), np.random.rand(3,1)]\n",
    "\n",
    "random_feature_matrix = np.random.rand(1000,8)"
   ]
  },
  {
   "cell_type": "code",
   "execution_count": 3,
   "id": "74402e05",
   "metadata": {},
   "outputs": [
    {
     "data": {
      "text/html": [
       "<div>\n",
       "<style scoped>\n",
       "    .dataframe tbody tr th:only-of-type {\n",
       "        vertical-align: middle;\n",
       "    }\n",
       "\n",
       "    .dataframe tbody tr th {\n",
       "        vertical-align: top;\n",
       "    }\n",
       "\n",
       "    .dataframe thead th {\n",
       "        text-align: right;\n",
       "    }\n",
       "</style>\n",
       "<table border=\"1\" class=\"dataframe\">\n",
       "  <thead>\n",
       "    <tr style=\"text-align: right;\">\n",
       "      <th></th>\n",
       "      <th>0</th>\n",
       "      <th>1</th>\n",
       "      <th>2</th>\n",
       "    </tr>\n",
       "  </thead>\n",
       "  <tbody>\n",
       "    <tr>\n",
       "      <th>0</th>\n",
       "      <td>9.977979e-07</td>\n",
       "      <td>0.999999</td>\n",
       "      <td>1.510224e-136</td>\n",
       "    </tr>\n",
       "    <tr>\n",
       "      <th>1</th>\n",
       "      <td>3.172698e-06</td>\n",
       "      <td>0.999997</td>\n",
       "      <td>8.061166e-124</td>\n",
       "    </tr>\n",
       "    <tr>\n",
       "      <th>2</th>\n",
       "      <td>2.182755e-06</td>\n",
       "      <td>0.999998</td>\n",
       "      <td>5.477623e-128</td>\n",
       "    </tr>\n",
       "    <tr>\n",
       "      <th>3</th>\n",
       "      <td>1.634862e-05</td>\n",
       "      <td>0.999984</td>\n",
       "      <td>7.997921e-109</td>\n",
       "    </tr>\n",
       "    <tr>\n",
       "      <th>4</th>\n",
       "      <td>8.895328e-07</td>\n",
       "      <td>0.999999</td>\n",
       "      <td>5.007796e-134</td>\n",
       "    </tr>\n",
       "    <tr>\n",
       "      <th>...</th>\n",
       "      <td>...</td>\n",
       "      <td>...</td>\n",
       "      <td>...</td>\n",
       "    </tr>\n",
       "    <tr>\n",
       "      <th>995</th>\n",
       "      <td>6.877432e-06</td>\n",
       "      <td>0.999993</td>\n",
       "      <td>7.636280e-116</td>\n",
       "    </tr>\n",
       "    <tr>\n",
       "      <th>996</th>\n",
       "      <td>1.706221e-05</td>\n",
       "      <td>0.999983</td>\n",
       "      <td>1.966894e-104</td>\n",
       "    </tr>\n",
       "    <tr>\n",
       "      <th>997</th>\n",
       "      <td>6.038873e-06</td>\n",
       "      <td>0.999994</td>\n",
       "      <td>2.495159e-115</td>\n",
       "    </tr>\n",
       "    <tr>\n",
       "      <th>998</th>\n",
       "      <td>7.063293e-06</td>\n",
       "      <td>0.999993</td>\n",
       "      <td>4.116998e-116</td>\n",
       "    </tr>\n",
       "    <tr>\n",
       "      <th>999</th>\n",
       "      <td>1.058229e-05</td>\n",
       "      <td>0.999989</td>\n",
       "      <td>3.779493e-112</td>\n",
       "    </tr>\n",
       "  </tbody>\n",
       "</table>\n",
       "<p>1000 rows × 3 columns</p>\n",
       "</div>"
      ],
      "text/plain": [
       "                0         1              2\n",
       "0    9.977979e-07  0.999999  1.510224e-136\n",
       "1    3.172698e-06  0.999997  8.061166e-124\n",
       "2    2.182755e-06  0.999998  5.477623e-128\n",
       "3    1.634862e-05  0.999984  7.997921e-109\n",
       "4    8.895328e-07  0.999999  5.007796e-134\n",
       "..            ...       ...            ...\n",
       "995  6.877432e-06  0.999993  7.636280e-116\n",
       "996  1.706221e-05  0.999983  1.966894e-104\n",
       "997  6.038873e-06  0.999994  2.495159e-115\n",
       "998  7.063293e-06  0.999993  4.116998e-116\n",
       "999  1.058229e-05  0.999989  3.779493e-112\n",
       "\n",
       "[1000 rows x 3 columns]"
      ]
     },
     "execution_count": 3,
     "metadata": {},
     "output_type": "execute_result"
    }
   ],
   "source": [
    "################## Write your function here #####################\n",
    "\n",
    "def relu(z):\n",
    "    return np.maximum(0, z)\n",
    "\n",
    "def softmax(z):\n",
    "    exp_z = np.exp(z)\n",
    "    return exp_z / np.sum(exp_z, axis=0)\n",
    "\n",
    "def forward_phase_classification(data, weights, biases):\n",
    "    A = data.T\n",
    "    num_layers = len(weights)\n",
    "    \n",
    "    for i in range(num_layers):\n",
    "        Z = np.dot(weights[i], A) + biases[i]\n",
    "        \n",
    "        if i == num_layers - 1:\n",
    "            A = softmax(Z)\n",
    "        else:\n",
    "            A = relu(Z)\n",
    "    \n",
    "    return A.T\n",
    "\n",
    "\n",
    "probs = forward_phase_classification(random_feature_matrix, random_weights, random_biases)\n",
    "pd.DataFrame(probs)"
   ]
  },
  {
   "cell_type": "markdown",
   "id": "24e1ef3d",
   "metadata": {},
   "source": [
    "## **2)** Classification with Neural Networks (30 points)\n",
    "\n",
    "In this question, you need to create a neural network that classifies different cardiac arrhythmias. An arrhythmia is the human heart beating irregularly, due to different conditions on the cardiac tissue. Conditions on different spots on the cardiac tissue creates different types of arrhythmias.\n",
    "\n",
    "Run the code below. It uploads **heartbeat_dataset.csv** where each row is a heartbeat signal from a patient. All the columns except the last one are the values in the signal. The last column is 0 if the patient is healthy and 1, 2, 3 or 4 if the patient has one of the different arrhythmia types. Five different classes in this dataset need a 5-class classification task.\n",
    "\n",
    "The code below plots what a heartbeat looks like. It also downsamples class 0, which is in vast majority, to make high accuracy values meaningful. After that, it creates the training and test datasets, along with some more preprocessing."
   ]
  },
  {
   "cell_type": "code",
   "execution_count": 63,
   "id": "784a994e",
   "metadata": {},
   "outputs": [
    {
     "name": "stdout",
     "output_type": "stream",
     "text": [
      "0.0    72471\n",
      "4.0     6431\n",
      "2.0     5788\n",
      "1.0     2223\n",
      "3.0      641\n",
      "Name: 187, dtype: int64\n",
      "0.0    8000\n",
      "4.0    6431\n",
      "2.0    5788\n",
      "1.0    2223\n",
      "3.0     641\n",
      "Name: 187, dtype: int64\n",
      "(20774, 187)\n"
     ]
    },
    {
     "data": {
      "image/png": "[encoded data removed]",
      "text/plain": [
       "<Figure size 432x288 with 1 Axes>"
      ]
     },
     "metadata": {
      "needs_background": "light"
     },
     "output_type": "display_data"
    }
   ],
   "source": [
    "data = pd.read_csv('heartbeat_dataset.csv', header=None)\n",
    "#data=pd.DataFrame(data)\n",
    "\n",
    "# One heartbeat\n",
    "plt.plot(data.iloc[1,:])\n",
    "plt.xlabel('time')\n",
    "plt.ylabel('Voltage')\n",
    "plt.plot()\n",
    "\n",
    "# Overall class distribution\n",
    "print(data[187].value_counts())\n",
    "\n",
    "# Downsampling Class 0 instances to 8000\n",
    "class_other = data[data[187]!=0.0]\n",
    "class_0 = data[data[187]==0.0].sample(n = 8000, random_state=1)\n",
    "data_sampled = pd.concat([class_0, class_other])\n",
    "\n",
    "# The new class distribution.\n",
    "print(data_sampled[187].value_counts())\n",
    "\n",
    "# Separating the features and the labels into X and y variables.\n",
    "y = data_sampled[187]\n",
    "X = data_sampled.drop([187], axis=1)\n",
    "\n",
    "# Train-test split\n",
    "X_train, X_test, y_train, y_test = train_test_split(X, y, stratify=y,random_state=1, test_size=0.1)\n",
    "\n",
    "print(X_train.shape)\n",
    "\n",
    "X_train = np.array(X_train)\n",
    "X_test = np.array(X_test)\n",
    "y_train = to_categorical(y_train)\n",
    "y_test = to_categorical(y_test)"
   ]
  },
  {
   "cell_type": "code",
   "execution_count": 61,
   "id": "89e5e92a",
   "metadata": {
    "scrolled": true
   },
   "outputs": [
    {
     "data": {
      "text/plain": [
       "(2309, 187)"
      ]
     },
     "execution_count": 61,
     "metadata": {},
     "output_type": "execute_result"
    }
   ],
   "source": [
    "#X_train.shape\n",
    "#X_test.shape\n",
    "#y_test.shape\n",
    "#y_train.shape"
   ]
  },
  {
   "cell_type": "markdown",
   "id": "701d37f2",
   "metadata": {},
   "source": [
    "Create a Neural Network for the 5-class classification task. \n",
    "\n",
    "Compile the network using the proper cost function and an optimizer of your choice. **(3 points)** Don't forget to set the number of epochs and other necessary inputs while training. **(5 points)** Assign your training line to a history output. **(2 points)** **Use a random seed for reproducible results.** **(2 points)**\n",
    "\n",
    "After the network is trained, print the test accuracy **(3 points)** and the confusion matrix **(3 points)**, and plot both the training and validation losses against the number of epochs. **(2 points)**\n",
    "\n",
    "The entire architecture and the training inputs are your choice. **Your network should return a test accuracy higher than 94%.** **(10 points)**"
   ]
  },
  {
   "cell_type": "code",
   "execution_count": 66,
   "id": "ec362322",
   "metadata": {},
   "outputs": [
    {
     "name": "stdout",
     "output_type": "stream",
     "text": [
      "Epoch 1/30\n",
      "  4/650 [..............................] - ETA: 11s - loss: 1.5782 - accuracy: 0.3047"
     ]
    },
    {
     "name": "stderr",
     "output_type": "stream",
     "text": [
      "C:\\Users\\dylan\\anaconda3\\lib\\site-packages\\tensorflow\\python\\data\\ops\\structured_function.py:254: UserWarning: Even though the `tf.config.experimental_run_functions_eagerly` option is set, this option does not apply to tf.data functions. To force eager execution of tf.data functions, please use `tf.data.experimental.enable_debug_mode()`.\n",
      "  warnings.warn(\n"
     ]
    },
    {
     "name": "stdout",
     "output_type": "stream",
     "text": [
      "650/650 [==============================] - 11s 16ms/step - loss: 0.6571 - accuracy: 0.7637 - val_loss: 0.4555 - val_accuracy: 0.8502\n",
      "Epoch 2/30\n",
      "650/650 [==============================] - 11s 17ms/step - loss: 0.3916 - accuracy: 0.8694 - val_loss: 0.3572 - val_accuracy: 0.8826\n",
      "Epoch 3/30\n",
      "650/650 [==============================] - 11s 16ms/step - loss: 0.3282 - accuracy: 0.8902 - val_loss: 0.3312 - val_accuracy: 0.8891\n",
      "Epoch 4/30\n",
      "650/650 [==============================] - 11s 16ms/step - loss: 0.2908 - accuracy: 0.9005 - val_loss: 0.2990 - val_accuracy: 0.9013\n",
      "Epoch 5/30\n",
      "650/650 [==============================] - 11s 17ms/step - loss: 0.2696 - accuracy: 0.9089 - val_loss: 0.2835 - val_accuracy: 0.9065\n",
      "Epoch 6/30\n",
      "650/650 [==============================] - 11s 16ms/step - loss: 0.2489 - accuracy: 0.9150 - val_loss: 0.2705 - val_accuracy: 0.9138\n",
      "Epoch 7/30\n",
      "650/650 [==============================] - 11s 16ms/step - loss: 0.2357 - accuracy: 0.9205 - val_loss: 0.2590 - val_accuracy: 0.9186\n",
      "Epoch 8/30\n",
      "650/650 [==============================] - 11s 17ms/step - loss: 0.2259 - accuracy: 0.9255 - val_loss: 0.2564 - val_accuracy: 0.9190\n",
      "Epoch 9/30\n",
      "650/650 [==============================] - 11s 17ms/step - loss: 0.2151 - accuracy: 0.9286 - val_loss: 0.2458 - val_accuracy: 0.9242\n",
      "Epoch 10/30\n",
      "650/650 [==============================] - 11s 17ms/step - loss: 0.2054 - accuracy: 0.9309 - val_loss: 0.2330 - val_accuracy: 0.9264\n",
      "Epoch 11/30\n",
      "650/650 [==============================] - 11s 17ms/step - loss: 0.1979 - accuracy: 0.9338 - val_loss: 0.2257 - val_accuracy: 0.9272\n",
      "Epoch 12/30\n",
      "650/650 [==============================] - 11s 17ms/step - loss: 0.1903 - accuracy: 0.9361 - val_loss: 0.2308 - val_accuracy: 0.9264\n",
      "Epoch 13/30\n",
      "650/650 [==============================] - 11s 17ms/step - loss: 0.1831 - accuracy: 0.9387 - val_loss: 0.2168 - val_accuracy: 0.9333\n",
      "Epoch 14/30\n",
      "650/650 [==============================] - 11s 17ms/step - loss: 0.1781 - accuracy: 0.9393 - val_loss: 0.2134 - val_accuracy: 0.9290\n",
      "Epoch 15/30\n",
      "650/650 [==============================] - 11s 18ms/step - loss: 0.1745 - accuracy: 0.9407 - val_loss: 0.2156 - val_accuracy: 0.9311\n",
      "Epoch 16/30\n",
      "650/650 [==============================] - 11s 17ms/step - loss: 0.1683 - accuracy: 0.9432 - val_loss: 0.2156 - val_accuracy: 0.9316\n",
      "Epoch 17/30\n",
      "650/650 [==============================] - 11s 18ms/step - loss: 0.1649 - accuracy: 0.9432 - val_loss: 0.2059 - val_accuracy: 0.9346\n",
      "Epoch 18/30\n",
      "650/650 [==============================] - 12s 18ms/step - loss: 0.1599 - accuracy: 0.9460 - val_loss: 0.2327 - val_accuracy: 0.9238\n",
      "Epoch 19/30\n",
      "650/650 [==============================] - 12s 18ms/step - loss: 0.1550 - accuracy: 0.9475 - val_loss: 0.1979 - val_accuracy: 0.9372\n",
      "Epoch 20/30\n",
      "650/650 [==============================] - 11s 17ms/step - loss: 0.1495 - accuracy: 0.9494 - val_loss: 0.1948 - val_accuracy: 0.9420\n",
      "Epoch 21/30\n",
      "650/650 [==============================] - 11s 16ms/step - loss: 0.1497 - accuracy: 0.9502 - val_loss: 0.2032 - val_accuracy: 0.9433\n",
      "Epoch 22/30\n",
      "650/650 [==============================] - 11s 17ms/step - loss: 0.1463 - accuracy: 0.9499 - val_loss: 0.2051 - val_accuracy: 0.9363\n",
      "Epoch 23/30\n",
      "650/650 [==============================] - 11s 17ms/step - loss: 0.1397 - accuracy: 0.9534 - val_loss: 0.1895 - val_accuracy: 0.9394\n",
      "Epoch 24/30\n",
      "650/650 [==============================] - 11s 17ms/step - loss: 0.1367 - accuracy: 0.9532 - val_loss: 0.2069 - val_accuracy: 0.9333\n",
      "Epoch 25/30\n",
      "650/650 [==============================] - 11s 17ms/step - loss: 0.1357 - accuracy: 0.9542 - val_loss: 0.1948 - val_accuracy: 0.9407\n",
      "Epoch 26/30\n",
      "650/650 [==============================] - 11s 16ms/step - loss: 0.1303 - accuracy: 0.9561 - val_loss: 0.2143 - val_accuracy: 0.9355\n",
      "Epoch 27/30\n",
      "650/650 [==============================] - 11s 16ms/step - loss: 0.1282 - accuracy: 0.9562 - val_loss: 0.1859 - val_accuracy: 0.9407\n",
      "Epoch 28/30\n",
      "650/650 [==============================] - 11s 16ms/step - loss: 0.1294 - accuracy: 0.9555 - val_loss: 0.1959 - val_accuracy: 0.9311\n",
      "Epoch 29/30\n",
      "650/650 [==============================] - 11s 16ms/step - loss: 0.1211 - accuracy: 0.9579 - val_loss: 0.1867 - val_accuracy: 0.9441\n",
      "Epoch 30/30\n",
      "650/650 [==============================] - 11s 16ms/step - loss: 0.1174 - accuracy: 0.9602 - val_loss: 0.1902 - val_accuracy: 0.9411\n"
     ]
    }
   ],
   "source": [
    "# Set a random seed for reproducible results\n",
    "np.random.seed(17)\n",
    "tf.random.set_seed(17)\n",
    "\n",
    "# Define the neural network architecture\n",
    "model = tf.keras.models.Sequential([\n",
    "    tf.keras.layers.Dense(64, activation='relu', input_shape=(187,)),\n",
    "    tf.keras.layers.Dense(32, activation='relu'),\n",
    "    tf.keras.layers.Dense(5, activation='softmax')\n",
    "])\n",
    "\n",
    "# Compile the model with categorical_crossentropy as the loss function\n",
    "model.compile(loss='categorical_crossentropy',\n",
    "              optimizer='adam',\n",
    "              metrics=['accuracy'])\n",
    "\n",
    "# Train the model and store the training history\n",
    "history = model.fit(X_train, y_train,\n",
    "                    validation_data=(X_test, y_test),\n",
    "                    epochs=30,\n",
    "                    batch_size=32,\n",
    "                    verbose=1)"
   ]
  },
  {
   "cell_type": "code",
   "execution_count": 67,
   "id": "4421b5c4",
   "metadata": {},
   "outputs": [
    {
     "name": "stdout",
     "output_type": "stream",
     "text": [
      "73/73 [==============================] - 0s 2ms/step\n",
      "Test Accuracy: 94.11%\n",
      "Confusion Matrix:\n",
      "[[767  13   9   7   4]\n",
      " [ 34 178   6   3   2]\n",
      " [ 21   2 543   8   5]\n",
      " [  9   0   3  51   1]\n",
      " [  5   1   2   1 634]]\n"
     ]
    },
    {
     "data": {
      "image/png": "[encoded data removed]",
      "text/plain": [
       "<Figure size 432x288 with 1 Axes>"
      ]
     },
     "metadata": {
      "needs_background": "light"
     },
     "output_type": "display_data"
    }
   ],
   "source": [
    "# Evaluate the model on the test set to get the accuracy\n",
    "y_pred = np.argmax(model.predict(X_test), axis=-1)\n",
    "y_test_original = np.argmax(y_test_encoded, axis=-1)\n",
    "test_accuracy = accuracy_score(y_test_original, y_pred)\n",
    "print(\"Test Accuracy: {:.2f}%\".format(test_accuracy * 100))\n",
    "\n",
    "# Create a confusion matrix\n",
    "cm = confusion_matrix(y_test_original, y_pred)\n",
    "print(\"Confusion Matrix:\")\n",
    "print(cm)\n",
    "\n",
    "# Plot the training and validation losses against the number of epochs\n",
    "plt.plot(history.history['loss'], label='Training Loss')\n",
    "plt.plot(history.history['val_loss'], label='Validation Loss')\n",
    "plt.xlabel('Epochs')\n",
    "plt.ylabel('Loss')\n",
    "plt.legend()\n",
    "plt.show()"
   ]
  },
  {
   "cell_type": "markdown",
   "id": "6cf00e15",
   "metadata": {},
   "source": [
    "## **3)** Regression with Neural Networks (35 points)"
   ]
  },
  {
   "cell_type": "markdown",
   "id": "e64dcc99",
   "metadata": {},
   "source": [
    "In this question, you need to create a neural network that predicts the critical temperature of a material, given its 81 chemical features. The critical temperature (in Kelvin) of a material is where the material starts to show superconductivity characteristics, a very important field of research at the intersection of chemistry, material science, and solid-state physics.\n",
    "\n",
    "Upload the **superconductivity.csv** file. **(2 points)** Each row is a material and the first 81 columns are the features. The last column is the critical temperature, which is the regression target value. Create the feature matrix and the target column. **(2 points)** Create the training and test sets with a 70-30 split. (Use **random_state=2**) **(2 points)** Scale the training and test features. **(2 points)**"
   ]
  },
  {
   "cell_type": "markdown",
   "id": "d482429e",
   "metadata": {},
   "source": [
    "Create a Neural Network for the regression task. \n",
    "\n",
    "Compile the network using one of the proper cost functions and an optimizer of your choice. **(3 points)** Don't forget to set the number of epochs and other necessary inputs while training. **(5 points)** Assign your training line to a history output. **(2 points)** **Use a random seed for reproducible results.** **(2 points)**\n",
    "\n",
    "After the network is trained, print the test RMSE **(3 points)** and plot both the training and validation losses against the number of epochs. **(2 points)**\n",
    "\n",
    "The entire architecture and the training inputs are your choice. **Your network should return an RMSE lower than 14 K.** **(10 points)**"
   ]
  },
  {
   "cell_type": "code",
   "execution_count": 70,
   "id": "e65d40ef",
   "metadata": {},
   "outputs": [],
   "source": [
    "# Set a random seed for reproducible results\n",
    "np.random.seed(2)\n",
    "tf.random.set_seed(2)\n",
    "\n",
    "data = pd.read_csv('superconductivity.csv')\n",
    "\n",
    "features = data.drop('critical_temp', axis=1) \n",
    "target = data['critical_temp']\n",
    "X_train, X_test, y_train, y_test = train_test_split(features, target, test_size=0.3, random_state=2)"
   ]
  },
  {
   "cell_type": "code",
   "execution_count": 72,
   "id": "b14ae3c1",
   "metadata": {
    "scrolled": true
   },
   "outputs": [
    {
     "name": "stdout",
     "output_type": "stream",
     "text": [
      "Epoch 1/30\n",
      "  5/466 [..............................] - ETA: 6s - loss: 2796.5405 "
     ]
    },
    {
     "name": "stderr",
     "output_type": "stream",
     "text": [
      "C:\\Users\\dylan\\anaconda3\\lib\\site-packages\\tensorflow\\python\\data\\ops\\structured_function.py:254: UserWarning: Even though the `tf.config.experimental_run_functions_eagerly` option is set, this option does not apply to tf.data functions. To force eager execution of tf.data functions, please use `tf.data.experimental.enable_debug_mode()`.\n",
      "  warnings.warn(\n"
     ]
    },
    {
     "name": "stdout",
     "output_type": "stream",
     "text": [
      "466/466 [==============================] - 7s 15ms/step - loss: 735.0308 - val_loss: 334.9114\n",
      "Epoch 2/30\n",
      "466/466 [==============================] - 7s 15ms/step - loss: 298.7731 - val_loss: 285.9204\n",
      "Epoch 3/30\n",
      "466/466 [==============================] - 7s 16ms/step - loss: 261.3404 - val_loss: 270.3483\n",
      "Epoch 4/30\n",
      "466/466 [==============================] - 7s 15ms/step - loss: 245.7491 - val_loss: 255.7378\n",
      "Epoch 5/30\n",
      "466/466 [==============================] - 7s 15ms/step - loss: 236.4607 - val_loss: 248.8230\n",
      "Epoch 6/30\n",
      "466/466 [==============================] - 7s 15ms/step - loss: 228.3933 - val_loss: 244.1746\n",
      "Epoch 7/30\n",
      "466/466 [==============================] - 7s 15ms/step - loss: 222.8892 - val_loss: 234.4874\n",
      "Epoch 8/30\n",
      "466/466 [==============================] - 7s 16ms/step - loss: 217.4810 - val_loss: 235.5612\n",
      "Epoch 9/30\n",
      "466/466 [==============================] - 7s 15ms/step - loss: 212.9247 - val_loss: 226.3979\n",
      "Epoch 10/30\n",
      "466/466 [==============================] - 7s 15ms/step - loss: 208.3422 - val_loss: 223.1222\n",
      "Epoch 11/30\n",
      "466/466 [==============================] - 7s 15ms/step - loss: 205.5041 - val_loss: 225.3498\n",
      "Epoch 12/30\n",
      "466/466 [==============================] - 7s 15ms/step - loss: 202.1580 - val_loss: 221.0160\n",
      "Epoch 13/30\n",
      "466/466 [==============================] - 7s 15ms/step - loss: 199.8352 - val_loss: 215.1491\n",
      "Epoch 14/30\n",
      "466/466 [==============================] - 7s 15ms/step - loss: 196.6149 - val_loss: 213.8264\n",
      "Epoch 15/30\n",
      "466/466 [==============================] - 7s 15ms/step - loss: 193.5909 - val_loss: 216.6581\n",
      "Epoch 16/30\n",
      "466/466 [==============================] - 7s 15ms/step - loss: 191.7692 - val_loss: 207.4362\n",
      "Epoch 17/30\n",
      "466/466 [==============================] - 7s 15ms/step - loss: 188.6596 - val_loss: 203.1168\n",
      "Epoch 18/30\n",
      "466/466 [==============================] - 7s 15ms/step - loss: 186.9313 - val_loss: 206.4450\n",
      "Epoch 19/30\n",
      "466/466 [==============================] - 7s 15ms/step - loss: 185.4421 - val_loss: 198.9803\n",
      "Epoch 20/30\n",
      "466/466 [==============================] - 7s 15ms/step - loss: 183.0908 - val_loss: 198.8006\n",
      "Epoch 21/30\n",
      "466/466 [==============================] - 7s 15ms/step - loss: 181.1625 - val_loss: 199.4917\n",
      "Epoch 22/30\n",
      "466/466 [==============================] - 7s 15ms/step - loss: 179.3411 - val_loss: 193.9036\n",
      "Epoch 23/30\n",
      "466/466 [==============================] - 7s 15ms/step - loss: 178.6322 - val_loss: 193.5616\n",
      "Epoch 24/30\n",
      "466/466 [==============================] - 7s 16ms/step - loss: 178.1744 - val_loss: 193.5088\n",
      "Epoch 25/30\n",
      "466/466 [==============================] - 7s 16ms/step - loss: 176.7224 - val_loss: 194.7258\n",
      "Epoch 26/30\n",
      "466/466 [==============================] - 8s 16ms/step - loss: 174.3524 - val_loss: 194.4378\n",
      "Epoch 27/30\n",
      "466/466 [==============================] - 7s 15ms/step - loss: 173.1781 - val_loss: 193.5918\n",
      "Epoch 28/30\n",
      "466/466 [==============================] - 7s 15ms/step - loss: 172.1834 - val_loss: 187.0926\n",
      "Epoch 29/30\n",
      "466/466 [==============================] - 7s 15ms/step - loss: 171.1456 - val_loss: 185.7401\n",
      "Epoch 30/30\n",
      "466/466 [==============================] - 7s 15ms/step - loss: 169.3923 - val_loss: 192.1324\n"
     ]
    }
   ],
   "source": [
    "scaler = StandardScaler()\n",
    "X_train = scaler.fit_transform(X_train)\n",
    "X_test = scaler.transform(X_test)\n",
    "model = Sequential()\n",
    "model.add(Dense(32, activation='relu', input_shape=(X_train.shape[1],)))\n",
    "model.add(Dense(16, activation='relu'))\n",
    "model.add(Dense(1))\n",
    "model.compile(loss='mean_squared_error', optimizer='adam')\n",
    "history = model.fit(X_train, \n",
    "                    y_train, \n",
    "                    validation_data=(X_test, y_test), \n",
    "                    epochs=30, \n",
    "                    batch_size=32, \n",
    "                    verbose=1)"
   ]
  },
  {
   "cell_type": "code",
   "execution_count": 73,
   "id": "db5301f1",
   "metadata": {},
   "outputs": [
    {
     "name": "stdout",
     "output_type": "stream",
     "text": [
      "200/200 [==============================] - 0s 2ms/step\n",
      "Test RMSE: 13.86118271560153\n"
     ]
    },
    {
     "data": {
      "image/png": "[encoded data removed]",
      "text/plain": [
       "<Figure size 432x288 with 1 Axes>"
      ]
     },
     "metadata": {
      "needs_background": "light"
     },
     "output_type": "display_data"
    }
   ],
   "source": [
    "# Make predictions on the test set\n",
    "y_pred = model.predict(X_test)\n",
    "\n",
    "# Calculate the root mean squared error (RMSE)\n",
    "rmse = np.sqrt(mean_squared_error(y_test, y_pred))\n",
    "print(\"Test RMSE:\", rmse)\n",
    "\n",
    "plt.plot(history.history['loss'], label='Training Loss')\n",
    "plt.plot(history.history['val_loss'], label='Validation Loss')\n",
    "plt.xlabel('Epochs')\n",
    "plt.ylabel('Loss')\n",
    "plt.legend()\n",
    "plt.show()"
   ]
  },
  {
   "cell_type": "markdown",
   "id": "f61e8139",
   "metadata": {},
   "source": [
    "## **4)** Alternative Network Architectures (15 points)"
   ]
  },
  {
   "cell_type": "markdown",
   "id": "57ca5d06",
   "metadata": {},
   "source": [
    "In this question, you will take advantage of the versatility of Neural Network architectures to implement a Regression and a Classification task at the same time. The output layer of a Neural Network can have four nodes, three of them for a three-class classification and the other one for a regression task. This way, two tasks would share all the hidden layer parameters, being different only at the output layer parameters.\n",
    "\n",
    "Run the code below. It uploads **chemicals_dataset.csv** where each row is a chemical. (a pesticide, for example) \n",
    "\n",
    "- All the 9 features, stored in X, are molecular descriptors of the chemical. \n",
    "- The classification target, stored in y_cl, is where the chemical accumulates in an organic body when exposed: 1 for lipid (fat) tissues, 2 for proteins, and 3 for metabolization, which means the body digests it and flushes it out.\n",
    "- The regression target, stored in y_reg, is the [bioconcentration factor](https://en.wikipedia.org/wiki/Bioconcentration) of the chemical.\n",
    "\n",
    "The code then creates the training and test data for both tasks."
   ]
  },
  {
   "cell_type": "code",
   "execution_count": 74,
   "id": "0b038d9a",
   "metadata": {},
   "outputs": [
    {
     "name": "stdout",
     "output_type": "stream",
     "text": [
      "   nHM  piPC09   PCD  X2Av  MLOGP  ON1V  N-072  B02[C-N]  F04[C-O]\n",
      "0    0     0.0  1.49  0.14   1.35  0.72      0         1         5\n",
      "1    0     0.0  1.47  0.14   1.70  0.88      0         1         5\n",
      "2    0     0.0  1.20  0.25   4.14  2.06      0         0         0\n",
      "3    0     0.0  1.69  0.13   1.89  0.79      0         1         8\n",
      "4    0     0.0  0.52  0.25   2.65  1.31      0         0         0\n",
      "0    1\n",
      "1    1\n",
      "2    3\n",
      "3    3\n",
      "4    1\n",
      "Name: Class, dtype: int64\n",
      "0    0.74\n",
      "1    0.93\n",
      "2    3.24\n",
      "3   -0.40\n",
      "4    2.24\n",
      "Name: logBCF, dtype: float64\n"
     ]
    }
   ],
   "source": [
    "data = pd.read_csv('chemicals_dataset.csv')\n",
    "data.head()\n",
    "\n",
    "X = data.iloc[:,3:-2]\n",
    "y_cl = data.iloc[:,-2]\n",
    "y_reg = data.iloc[:,-1]\n",
    "\n",
    "X_train, X_test, y_train_cl, y_test_cl = train_test_split(X, y_cl, test_size=0.3, random_state=2)\n",
    "X_train, X_test, y_train_reg, y_test_reg = train_test_split(X, y_reg, test_size=0.3, random_state=2)\n",
    "\n",
    "\n",
    "y_train_cl = to_categorical(y_train_cl)[:,1:]\n",
    "\n",
    "print(X.head())\n",
    "print(y_cl.head())\n",
    "print(y_reg.head())"
   ]
  },
  {
   "cell_type": "markdown",
   "id": "af4d6aa3",
   "metadata": {},
   "source": [
    "To implement the necessary architecture, you will use another way to create a network, which does not require an empty network with Sequential() and adding layers to it. It will require each layer to be created as an object and used as an input to the next layer's object. \n",
    "\n",
    "Note that all the layers that you create as an object should be assigned to a variable name.\n",
    "\n",
    "- Create an Input layer with the proper number of nodes. You need the **Input** function for this, not **InputLayer**.\n",
    "- Create a hidden layer with 20 nodes and ReLU function. **It should take the input layer as the input.** Check the syntax [here](https://keras.io/examples/structured_data/structured_data_classification_with_feature_space/). (Check Build a Model part.)\n",
    "- Create another hidden layer with 10 nodes and ReLU function. It should take the previous hidden layer as the input.\n",
    "- Create a regression output layer with the proper number of nodes and the correct function. It should take the second hidden layer as the input.\n",
    "- Create a classification output layer with the proper number of nodes and the correct function. It should take the second hidden layer as the input.\n",
    "- Create a **Model** object that takes the input layer as **inputs** and a **list** of regression and classification layers as **outputs**. Assign it to a variable name.\n",
    "\n",
    "- You can now compile and train the Model object just like you did in the previous questions. Three things to keep in mind:\n",
    "    - The **loss** input to .compile should take a list of two losses in correct order.\n",
    "    - In .fit, a list of two y values should come after X train, in correct order.\n",
    "    - .predict will return two outputs - one regression, one classification.\n",
    "    \n",
    "You can use any number of epochs or other inputs; the goal of this question is to demonstrate different architectures, not fine tuning a Neural Network. Just print a test RMSE for regression and a test accuracy for classification - the values are not important.\n"
   ]
  },
  {
   "cell_type": "code",
   "execution_count": 84,
   "id": "31322333",
   "metadata": {},
   "outputs": [],
   "source": [
    "data = pd.read_csv('chemicals_dataset.csv')\n",
    "data.head()\n",
    "\n",
    "x = data.iloc[:,3:-2]\n",
    "y_1 = data.iloc[:,-2]\n",
    "y_2 = data.iloc[:,-1]\n",
    "\n",
    "x_train, x_test, y_train_1, y_test_1 = train_test_split(x, y_1, test_size=0.3, random_state=2)\n",
    "x_train, x_test, y_train_2, y_test_2 = train_test_split(x, y_2, test_size=0.3, random_state=2)\n",
    "\n",
    "y_train_cl = to_categorical(y_train_1)[:,1:]\n",
    "y_train_reg = to_categorical(y_train_2)[:,1:]\n",
    "y_test_cl = to_categorical(y_test_1)[:,1:]\n",
    "y_test_reg = to_categorical(y_test_2)[:,1:]"
   ]
  },
  {
   "cell_type": "code",
   "execution_count": 85,
   "id": "baf85437",
   "metadata": {},
   "outputs": [
    {
     "data": {
      "text/plain": [
       "(14884,)"
      ]
     },
     "execution_count": 85,
     "metadata": {},
     "output_type": "execute_result"
    }
   ],
   "source": [
    "y_train.shape"
   ]
  },
  {
   "cell_type": "code",
   "execution_count": 86,
   "id": "ce08a16b",
   "metadata": {},
   "outputs": [
    {
     "data": {
      "text/plain": [
       "(545, 9)"
      ]
     },
     "execution_count": 86,
     "metadata": {},
     "output_type": "execute_result"
    }
   ],
   "source": [
    "x_train.shape"
   ]
  },
  {
   "cell_type": "code",
   "execution_count": 87,
   "id": "12e26a88",
   "metadata": {},
   "outputs": [
    {
     "data": {
      "text/plain": [
       "(6379,)"
      ]
     },
     "execution_count": 87,
     "metadata": {},
     "output_type": "execute_result"
    }
   ],
   "source": [
    "y_test.shape"
   ]
  },
  {
   "cell_type": "code",
   "execution_count": 97,
   "id": "3ff9fea2",
   "metadata": {
    "scrolled": true
   },
   "outputs": [
    {
     "name": "stdout",
     "output_type": "stream",
     "text": [
      "Epoch 1/40\n",
      " 7/18 [==========>...................] - ETA: 0s - loss: 1.4772 - dense_141_loss: 0.4765 - dense_142_loss: 1.0007"
     ]
    },
    {
     "name": "stderr",
     "output_type": "stream",
     "text": [
      "C:\\Users\\dylan\\anaconda3\\lib\\site-packages\\tensorflow\\python\\data\\ops\\structured_function.py:254: UserWarning: Even though the `tf.config.experimental_run_functions_eagerly` option is set, this option does not apply to tf.data functions. To force eager execution of tf.data functions, please use `tf.data.experimental.enable_debug_mode()`.\n",
      "  warnings.warn(\n"
     ]
    },
    {
     "name": "stdout",
     "output_type": "stream",
     "text": [
      "18/18 [==============================] - 0s 23ms/step - loss: 1.3947 - dense_141_loss: 0.3754 - dense_142_loss: 1.0193\n",
      "Epoch 2/40\n",
      "18/18 [==============================] - 0s 23ms/step - loss: 1.1679 - dense_141_loss: 0.1788 - dense_142_loss: 0.9890\n",
      "Epoch 3/40\n",
      "18/18 [==============================] - 0s 21ms/step - loss: 1.1042 - dense_141_loss: 0.1505 - dense_142_loss: 0.9538\n",
      "Epoch 4/40\n",
      "18/18 [==============================] - 0s 22ms/step - loss: 1.0790 - dense_141_loss: 0.1414 - dense_142_loss: 0.9377\n",
      "Epoch 5/40\n",
      "18/18 [==============================] - 0s 21ms/step - loss: 1.0615 - dense_141_loss: 0.1350 - dense_142_loss: 0.9264\n",
      "Epoch 6/40\n",
      "18/18 [==============================] - 0s 20ms/step - loss: 1.0505 - dense_141_loss: 0.1312 - dense_142_loss: 0.9193\n",
      "Epoch 7/40\n",
      "18/18 [==============================] - 0s 21ms/step - loss: 1.0404 - dense_141_loss: 0.1281 - dense_142_loss: 0.9123\n",
      "Epoch 8/40\n",
      "18/18 [==============================] - 0s 22ms/step - loss: 1.0280 - dense_141_loss: 0.1262 - dense_142_loss: 0.9018\n",
      "Epoch 9/40\n",
      "18/18 [==============================] - 0s 21ms/step - loss: 1.0195 - dense_141_loss: 0.1243 - dense_142_loss: 0.8953\n",
      "Epoch 10/40\n",
      "18/18 [==============================] - 0s 21ms/step - loss: 1.0115 - dense_141_loss: 0.1240 - dense_142_loss: 0.8875\n",
      "Epoch 11/40\n",
      "18/18 [==============================] - 0s 23ms/step - loss: 1.0032 - dense_141_loss: 0.1243 - dense_142_loss: 0.8789\n",
      "Epoch 12/40\n",
      "18/18 [==============================] - 0s 22ms/step - loss: 0.9975 - dense_141_loss: 0.1232 - dense_142_loss: 0.8743\n",
      "Epoch 13/40\n",
      "18/18 [==============================] - 0s 21ms/step - loss: 0.9941 - dense_141_loss: 0.1221 - dense_142_loss: 0.8720\n",
      "Epoch 14/40\n",
      "18/18 [==============================] - 0s 22ms/step - loss: 0.9853 - dense_141_loss: 0.1212 - dense_142_loss: 0.8641\n",
      "Epoch 15/40\n",
      "18/18 [==============================] - 0s 21ms/step - loss: 0.9820 - dense_141_loss: 0.1224 - dense_142_loss: 0.8595\n",
      "Epoch 16/40\n",
      "18/18 [==============================] - 0s 20ms/step - loss: 0.9855 - dense_141_loss: 0.1244 - dense_142_loss: 0.8612\n",
      "Epoch 17/40\n",
      "18/18 [==============================] - 0s 21ms/step - loss: 0.9721 - dense_141_loss: 0.1228 - dense_142_loss: 0.8493\n",
      "Epoch 18/40\n",
      "18/18 [==============================] - 0s 26ms/step - loss: 0.9666 - dense_141_loss: 0.1212 - dense_142_loss: 0.8454\n",
      "Epoch 19/40\n",
      "18/18 [==============================] - 0s 25ms/step - loss: 0.9585 - dense_141_loss: 0.1193 - dense_142_loss: 0.8392\n",
      "Epoch 20/40\n",
      "18/18 [==============================] - 0s 21ms/step - loss: 0.9549 - dense_141_loss: 0.1191 - dense_142_loss: 0.8358\n",
      "Epoch 21/40\n",
      "18/18 [==============================] - 0s 23ms/step - loss: 0.9505 - dense_141_loss: 0.1186 - dense_142_loss: 0.8319\n",
      "Epoch 22/40\n",
      "18/18 [==============================] - 0s 21ms/step - loss: 0.9469 - dense_141_loss: 0.1204 - dense_142_loss: 0.8265\n",
      "Epoch 23/40\n",
      "18/18 [==============================] - 0s 21ms/step - loss: 0.9426 - dense_141_loss: 0.1205 - dense_142_loss: 0.8221\n",
      "Epoch 24/40\n",
      "18/18 [==============================] - 0s 21ms/step - loss: 0.9354 - dense_141_loss: 0.1184 - dense_142_loss: 0.8169\n",
      "Epoch 25/40\n",
      "18/18 [==============================] - 0s 22ms/step - loss: 0.9344 - dense_141_loss: 0.1180 - dense_142_loss: 0.8164\n",
      "Epoch 26/40\n",
      "18/18 [==============================] - 0s 24ms/step - loss: 0.9299 - dense_141_loss: 0.1203 - dense_142_loss: 0.8097\n",
      "Epoch 27/40\n",
      "18/18 [==============================] - 0s 23ms/step - loss: 0.9230 - dense_141_loss: 0.1176 - dense_142_loss: 0.8054\n",
      "Epoch 28/40\n",
      "18/18 [==============================] - 0s 24ms/step - loss: 0.9274 - dense_141_loss: 0.1174 - dense_142_loss: 0.8100\n",
      "Epoch 29/40\n",
      "18/18 [==============================] - 0s 21ms/step - loss: 0.9160 - dense_141_loss: 0.1184 - dense_142_loss: 0.7976\n",
      "Epoch 30/40\n",
      "18/18 [==============================] - 0s 22ms/step - loss: 0.9230 - dense_141_loss: 0.1191 - dense_142_loss: 0.8040\n",
      "Epoch 31/40\n",
      "18/18 [==============================] - 0s 21ms/step - loss: 0.9114 - dense_141_loss: 0.1167 - dense_142_loss: 0.7947\n",
      "Epoch 32/40\n",
      "18/18 [==============================] - 0s 22ms/step - loss: 0.9068 - dense_141_loss: 0.1167 - dense_142_loss: 0.7901\n",
      "Epoch 33/40\n",
      "18/18 [==============================] - 0s 21ms/step - loss: 0.9039 - dense_141_loss: 0.1161 - dense_142_loss: 0.7878\n",
      "Epoch 34/40\n",
      "18/18 [==============================] - 0s 20ms/step - loss: 0.9039 - dense_141_loss: 0.1158 - dense_142_loss: 0.7882\n",
      "Epoch 35/40\n",
      "18/18 [==============================] - 0s 21ms/step - loss: 0.9038 - dense_141_loss: 0.1156 - dense_142_loss: 0.7882\n",
      "Epoch 36/40\n",
      "18/18 [==============================] - 0s 21ms/step - loss: 0.9024 - dense_141_loss: 0.1176 - dense_142_loss: 0.7848\n",
      "Epoch 37/40\n",
      "18/18 [==============================] - 0s 22ms/step - loss: 0.9030 - dense_141_loss: 0.1176 - dense_142_loss: 0.7854\n",
      "Epoch 38/40\n",
      "18/18 [==============================] - 0s 22ms/step - loss: 0.8937 - dense_141_loss: 0.1156 - dense_142_loss: 0.7781\n",
      "Epoch 39/40\n",
      "18/18 [==============================] - 0s 23ms/step - loss: 0.8937 - dense_141_loss: 0.1164 - dense_142_loss: 0.7772\n",
      "Epoch 40/40\n",
      "18/18 [==============================] - 0s 21ms/step - loss: 0.9017 - dense_141_loss: 0.1180 - dense_142_loss: 0.7837\n"
     ]
    },
    {
     "data": {
      "text/plain": [
       "<keras.callbacks.History at 0x194a6ca6a00>"
      ]
     },
     "execution_count": 97,
     "metadata": {},
     "output_type": "execute_result"
    }
   ],
   "source": [
    "# Create the input layer\n",
    "inputs = Input(shape=(9,))\n",
    "\n",
    "hidden1 = Dense(20, activation='relu')(inputs)\n",
    "hidden2 = Dense(10, activation='relu')(hidden1)\n",
    "output1 = Dense(1, activation='linear')(hidden2)\n",
    "output2 = Dense(3, activation='softmax')(hidden2)\n",
    "\n",
    "# Create the Model object with input and output layers\n",
    "model = Model(inputs=inputs, outputs=[output1, output2])\n",
    "\n",
    "model.compile(loss=['mean_squared_error', 'categorical_crossentropy'], optimizer='adam')\n",
    "\n",
    "# Assuming X_train, y_train_reg, y_train_class are the training data for input, regression output, and classification output respectively\n",
    "model.fit(X_train, [y_train_reg, y_train_cl], epochs=40, batch_size=32, verbose=1)"
   ]
  },
  {
   "cell_type": "code",
   "execution_count": 99,
   "id": "bf149bb8",
   "metadata": {},
   "outputs": [
    {
     "name": "stdout",
     "output_type": "stream",
     "text": [
      "8/8 [==============================] - 0s 10ms/step - loss: 0.9112 - dense_141_loss: 0.1293 - dense_142_loss: 0.7820\n",
      "Test RMSE: 0.3595158466817731\n",
      "Test Accuracy: 0.7819962501525879\n"
     ]
    },
    {
     "name": "stderr",
     "output_type": "stream",
     "text": [
      "C:\\Users\\dylan\\anaconda3\\lib\\site-packages\\tensorflow\\python\\data\\ops\\structured_function.py:254: UserWarning: Even though the `tf.config.experimental_run_functions_eagerly` option is set, this option does not apply to tf.data functions. To force eager execution of tf.data functions, please use `tf.data.experimental.enable_debug_mode()`.\n",
      "  warnings.warn(\n"
     ]
    }
   ],
   "source": [
    "scores = model.evaluate(x_test, [y_test_reg, y_test_cl])\n",
    "\n",
    "print(\"Test RMSE:\", np.sqrt(scores[1]))\n",
    "print(\"Test Accuracy:\", scores[2])"
   ]
  },
  {
   "cell_type": "markdown",
   "id": "2e62e049",
   "metadata": {},
   "source": [
    "Run the code below. If you implemented the network correctly, you should see the input and hidden layers on a straight path, diverging into two output layers."
   ]
  },
  {
   "cell_type": "code",
   "execution_count": 100,
   "id": "4eb8f836",
   "metadata": {},
   "outputs": [
    {
     "data": {
      "image/png": "[encoded data removed]",
      "text/plain": [
       "<IPython.core.display.Image object>"
      ]
     },
     "execution_count": 100,
     "metadata": {},
     "output_type": "execute_result"
    }
   ],
   "source": [
    "from keras.utils import plot_model\n",
    "\n",
    "plot_model(model, show_shapes=True)"
   ]
  }
 ],
 "metadata": {
  "kernelspec": {
   "display_name": "Python 3 (ipykernel)",
   "language": "python",
   "name": "python3"
  },
  "language_info": {
   "codemirror_mode": {
    "name": "ipython",
    "version": 3
   },
   "file_extension": ".py",
   "mimetype": "text/x-python",
   "name": "python",
   "nbconvert_exporter": "python",
   "pygments_lexer": "ipython3",
   "version": "3.9.7"
  }
 },
 "nbformat": 4,
 "nbformat_minor": 5
}
